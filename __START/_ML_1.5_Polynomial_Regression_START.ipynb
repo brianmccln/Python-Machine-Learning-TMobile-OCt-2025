{
 "cells": [
  {
   "cell_type": "markdown",
   "metadata": {
    "id": "UTtghme-Sx7U"
   },
   "source": [
    "- **linear regression** refers to plotting / predicting with a straight regression line\n",
    "- **m,b = np.polyfit(x,y,1)** is used to get slope (m) and y-intercept (b)\n",
    "- m, b are used to calculate y in terms of x as **m*x+b**\n",
    "- **polynomial regression** refers to plotting / predicting with a curved regression line"
   ]
  },
  {
   "cell_type": "code",
   "execution_count": null,
   "metadata": {
    "executionInfo": {
     "elapsed": 11,
     "status": "ok",
     "timestamp": 1754335344187,
     "user": {
      "displayName": "Brian McClain",
      "userId": "08063899147261234403"
     },
     "user_tz": 240
    },
    "id": "39H3tPkrQJzN"
   },
   "outputs": [],
   "source": [
    "# import libraries\n"
   ]
  },
  {
   "cell_type": "code",
   "execution_count": null,
   "metadata": {
    "colab": {
     "base_uri": "https://localhost:8080/",
     "height": 447
    },
    "executionInfo": {
     "elapsed": 185,
     "status": "ok",
     "timestamp": 1754335773589,
     "user": {
      "displayName": "Brian McClain",
      "userId": "08063899147261234403"
     },
     "user_tz": 240
    },
    "id": "Ufjtye6-qu8l",
    "outputId": "40254b43-b028-4e7c-c15d-3f917bc9521e"
   },
   "outputs": [
    {
     "name": "stdout",
     "output_type": "stream",
     "text": [
      "x: [1, 2, 3, 4, 5, 6, 7, 8, 9, 10, 11, 12, 13, 14, 15, 16, 17, 18, 19, 20]\n"
     ]
    },
    {
     "data": {
      "image/png": "[encoded data removed]",
      "text/plain": [
       "<Figure size 640x480 with 1 Axes>"
      ]
     },
     "metadata": {},
     "output_type": "display_data"
    }
   ],
   "source": [
    "# regression is that line which minimizes the squares of the distances\n",
    "# from a set of dots on a scatterplot to the line\n",
    "\n",
    "# let's just cook up some of our own x, y data\n",
    "# challenge: make a list, x, of consecutive ints from 1-20\n",
    "\n",
    "print('x:') # [1, 2, 3, 4, 5, 6, 7, 8, 9, 10 ... 18, 19, 20]\n",
    "# 12,14,17,13,20,23,15,28,26,29,37,32,36,38,50,33,40,46,50,53\n",
    "# make a time series line chart (jaggy line moving up and to the right)\n",
    "# plt.plot(y)\n",
    "# make a scatterplot with x, y data, and make the dots hollow\n",
    "\n",
    "\n",
    "# slope of a line: y = mx + b\n",
    "# x, y = the (x,y) point on the line\n",
    "# m = slope of the line\n",
    "# b = y-intercept (where the line crosses the y-axis)\n",
    "# obtain m and b (we only have x, y so far)\n",
    "# np.polyfit(x,y,1) returns m, b\n",
    "\n",
    "# m # 1 is the number of slopes of the line\n",
    "# now that we have x, y m and b we can plot regression line\n",
    "# y = mx + b\n",
    "\n",
    "\n",
    "# \"Regression Line (Least Squared Distance)\"\n",
    "# \"Car Age vs. Speed at EZ-Pass Toll\"\n",
    "# 'Car Age in Years'\n",
    "# 'Car Speed in MPH'\n",
    "# # we need m for the slope of the reg line, b is y-intercept\n",
    "# # and we need b to know where the reg line cxs the y-axis\n"
   ]
  },
  {
   "cell_type": "markdown",
   "metadata": {
    "id": "W7OkTmavXxuR"
   },
   "source": [
    "**map(function, list)** as alternative to looping a list"
   ]
  },
  {
   "cell_type": "code",
   "execution_count": null,
   "metadata": {
    "id": "QRMW86f9Wfl-"
   },
   "outputs": [],
   "source": [
    "# first, an example of iterating a list w a for loop:\n",
    "# 'apple', 'banana', 'grape', 'grapefruit', 'kiwi', 'lemon', 'lime', 'mango', 'orange', 'peach'\n",
    "# fru\n",
    "# write a function that takes in a list of strings and returns a list of the number of letters for each item\n",
    "# f\n",
    "  # fru"
   ]
  },
  {
   "cell_type": "code",
   "execution_count": null,
   "metadata": {
    "id": "MZiN6GYfPcTH"
   },
   "outputs": [],
   "source": [
    "# up a notch, have the loop call a function each time that does the operation:\n",
    "# this way is half-way to just using map\n",
    "# de\n",
    "  # re"
   ]
  },
  {
   "cell_type": "code",
   "execution_count": null,
   "metadata": {
    "id": "We1_63-IP8IS"
   },
   "outputs": [],
   "source": [
    "# fru # list to hold the lengths of the strings"
   ]
  },
  {
   "cell_type": "code",
   "execution_count": null,
   "metadata": {
    "id": "vYd3b8anPyji"
   },
   "outputs": [],
   "source": [
    "# fo\n",
    "  # n\n",
    "  # fru_"
   ]
  },
  {
   "cell_type": "markdown",
   "metadata": {
    "id": "ZUsq1qIUR0c3"
   },
   "source": [
    "**new_list = list(map(function, list))** runs function on each item in list\n",
    "- each individual list item is passed to function as its argument\n",
    "- map returns a new list of the return values of the function"
   ]
  },
  {
   "cell_type": "code",
   "execution_count": null,
   "metadata": {
    "colab": {
     "base_uri": "https://localhost:8080/"
    },
    "id": "f8xlNMFeX2Ku",
    "outputId": "d0de0b0c-a136-48fb-cb0f-a3242350c302"
   },
   "outputs": [
    {
     "name": "stdout",
     "output_type": "stream",
     "text": [
      "[5, 6, 5, 10, 4, 5, 4, 5, 6, 5]\n"
     ]
    }
   ],
   "source": [
    "# map version of the above: no loop in the function\n",
    "# wo\n",
    "print() # [5, 6, 5, 10, 4, 5, 4, 5, 6, 5]\n",
    "# if you don't wrap map in list, you get: <map object at 0x7ee93941e470>"
   ]
  },
  {
   "cell_type": "markdown",
   "metadata": {
    "id": "2n_sk5roRVUp"
   },
   "source": [
    "- **lambda** in an anonymous function\n",
    "- it can be used inline as a function argument where a function arg is expected\n",
    "- **lambda x : x ** 2** returns the square of x\n",
    "- **lambda input : output** returns the square of x\n",
    "- **lambda argument : return_value** returns the square of x\n",
    "- **variable = lambda x : x ** 2** returns a function which you can store in a variable"
   ]
  },
  {
   "cell_type": "code",
   "execution_count": null,
   "metadata": {
    "colab": {
     "base_uri": "https://localhost:8080/"
    },
    "id": "HiSHASYZR3Zj",
    "outputId": "2a1bdd72-29a7-474c-801e-bcca6563f88c"
   },
   "outputs": [
    {
     "name": "stdout",
     "output_type": "stream",
     "text": [
      "<class 'function'>\n"
     ]
    }
   ],
   "source": [
    "# sq\n",
    "print() # <class 'function'>"
   ]
  },
  {
   "cell_type": "code",
   "execution_count": null,
   "metadata": {
    "colab": {
     "base_uri": "https://localhost:8080/"
    },
    "id": "8d-DV5y9SOw7",
    "outputId": "b1352afb-8efc-42bb-d649-7a5a550f8807"
   },
   "outputs": [
    {
     "name": "stdout",
     "output_type": "stream",
     "text": [
      "144\n"
     ]
    }
   ],
   "source": [
    "print()"
   ]
  },
  {
   "cell_type": "code",
   "execution_count": null,
   "metadata": {
    "colab": {
     "base_uri": "https://localhost:8080/"
    },
    "id": "NaJQXAACRAZx",
    "outputId": "f22d3bea-47a3-4255-d5b5-3d98d202a92f"
   },
   "outputs": [
    {
     "name": "stdout",
     "output_type": "stream",
     "text": [
      "[5, 6, 5, 10, 4, 5, 4, 5, 6, 5]\n"
     ]
    }
   ],
   "source": [
    "# map with inline anonymous function using lambda\n",
    "# word\n",
    "print() # [5, 6, 5, 10, 4, 5, 4, 5, 6, 5]"
   ]
  },
  {
   "cell_type": "markdown",
   "metadata": {
    "id": "TDeumMiRRGu-"
   },
   "source": [
    "**predicting speeds of cars through a toll based on age of car**\n",
    "- knowing the age, can you predict the speed, based on known data"
   ]
  },
  {
   "cell_type": "code",
   "execution_count": null,
   "metadata": {
    "colab": {
     "base_uri": "https://localhost:8080/",
     "height": 482
    },
    "id": "2QfBXSsvFJHT",
    "outputId": "41f14286-3d1d-4991-91cf-243aeb5e18af"
   },
   "outputs": [
    {
     "name": "stdout",
     "output_type": "stream",
     "text": [
      "[94.35, 90.85, 89.1, 90.85, 99.6, 73.33, 99.6, 87.34, 96.1, 83.84, 82.09, 87.34, 92.6]\n",
      "predicted speed or 15-year-old car: 76.84\n",
      "predicted speed or 1-year-old car: 101.35\n"
     ]
    },
    {
     "data": {
      "image/png": "[encoded data removed]",
      "text/plain": [
       "<Figure size 640x480 with 1 Axes>"
      ]
     },
     "metadata": {},
     "output_type": "display_data"
    }
   ],
   "source": [
    "# predictive model: given a car age, predict its speed\n",
    "\n",
    "# x = age of car;\n",
    "# [5,7,8,7,2,17,2,9,4,11,12,9,6]\n",
    "# y = speed of car passing through toll booth\n",
    "# 99,86,87,88,111,86,103,87,94,78,77,85,86\n",
    "\n",
    "# plt\n",
    "# m\n",
    "# with m, b we can now draw the best fit (regression) line which cuts through the dots\n",
    "# pl\n",
    "\n",
    "# returns 5 objects:\n",
    "# LinregressResult(slope=-1.7512877115526118, intercept=103.10596026490066,\n",
    "# rvalue=-0.758591524376155, pvalue=0.0026468739224561064,\n",
    "# stderr=0.453536157607742, intercept_stderr=3.9034928101545123)\n",
    "# m = slope of a line and b = y-intercept\n",
    "\n",
    "# function returns the y value\n",
    "# d\n",
    "  # re\n",
    "\n",
    "# map(function, list)\n",
    "# pr # calls a function on each item in a list, one by one\n",
    "print()\n",
    "\n",
    "# given a new age of a car as x, predict its speed:\n",
    "print(\"predicted speed or 15-year-old car:\")\n",
    "# plot the new 15 year old car's individual dot as a scatterplot of 1\n",
    "# pl\n",
    "print(\"predicted speed or 1-year-old car:\")\n",
    "# pl\n",
    "# pl"
   ]
  },
  {
   "cell_type": "code",
   "execution_count": null,
   "metadata": {
    "id": "0Ueuhz_mW0Vd"
   },
   "outputs": [],
   "source": [
    "fruits = ['apple', 'apricot', 'banana', 'blueberry', 'grape', 'grapefruit', 'kiwi', 'lemon', 'lime', 'mango',\n",
    "          'orange', 'papaya', 'peach', 'pear', 'pineapple', 'plum', 'raspberry', 'strawberry', 'tangerine']\n",
    "\n",
    "# another map() example before moving on:\n",
    "# challenge: using the fruits list, make treats according to these rules:\n",
    "#            - if the fruit ends with a vowel, make a roll-up\n",
    "#            - elif the fruit is a berry make \"Boo-\" brand cereal (\"Boo-Strawberry\") capitalize the fruit\n",
    "#            - else make a popsicle\n",
    "#            don't just print the treats -- store them in a new list called treats"
   ]
  },
  {
   "cell_type": "code",
   "execution_count": null,
   "metadata": {
    "id": "IOWoXvSQc3Fg"
   },
   "outputs": [],
   "source": [
    "# a.) just using a for loop -- no function -- make fruit treats\n",
    "# t\n",
    "# f\n",
    "  # i\n",
    "    # \" roll-up\"\n",
    "  # el\n",
    "    # \"Boo-\"\n",
    "  # e\n",
    "    # \" popsicle\"\n",
    "\n",
    "# pp"
   ]
  },
  {
   "cell_type": "code",
   "execution_count": null,
   "metadata": {
    "id": "KdjaneOFcxWT"
   },
   "outputs": [],
   "source": [
    "# b.) same as above, except run the loop inside a function that you call\n",
    "#.            - function takes the fruits list as its argument\n",
    "# de\n",
    "  # my_\n",
    "  # i\n",
    "    # my\n",
    "  # el\n",
    "    # my_\n",
    "  # e\n",
    "    # my\n",
    "  # re"
   ]
  },
  {
   "cell_type": "code",
   "execution_count": null,
   "metadata": {
    "id": "N2Zqq_HKccva"
   },
   "outputs": [],
   "source": [
    "# fr\n",
    "# fo\n",
    "  # tre\n",
    "  # fro\n",
    "\n",
    "# fro"
   ]
  },
  {
   "cell_type": "code",
   "execution_count": null,
   "metadata": {
    "colab": {
     "base_uri": "https://localhost:8080/"
    },
    "id": "mDDuO2khczLR",
    "outputId": "26228b48-2376-4e99-f9a3-49feb90f0436"
   },
   "outputs": [
    {
     "name": "stdout",
     "output_type": "stream",
     "text": [
      "['apple roll-up', 'apricot popsicle', 'banana roll-up', 'Boo-Blueberry', 'grape roll-up', 'grapefruit popsicle', 'kiwi roll-up', 'lemon popsicle', 'lime roll-up', 'mango roll-up', 'orange roll-up', 'papaya roll-up', 'peach popsicle', 'pear popsicle', 'pineapple roll-up', 'plum popsicle', 'Boo-Raspberry', 'Boo-Strawberry', 'tangerine roll-up']\n"
     ]
    }
   ],
   "source": [
    "# c.) make the treats using map() -- for this you still need a function but you don't write a loop\n",
    "#             - map(function, list) acts as a loop by passing each list item to function, one item at a time\n",
    "#.            - with map, your function only operates on ONE item -- not a list of items, cuz there's no loop\n",
    "# trea\n",
    "print()"
   ]
  },
  {
   "cell_type": "code",
   "execution_count": null,
   "metadata": {
    "colab": {
     "base_uri": "https://localhost:8080/"
    },
    "id": "VEdtrLPic02k",
    "outputId": "ff67ca1d-28f3-4694-ae64-b8da7116021b"
   },
   "outputs": [
    {
     "name": "stdout",
     "output_type": "stream",
     "text": [
      "['apple roll-up',\n",
      " 'apricot popsicle',\n",
      " 'banana roll-up',\n",
      " 'Boo-Blueberry',\n",
      " 'grape roll-up',\n",
      " 'grapefruit popsicle',\n",
      " 'kiwi roll-up',\n",
      " 'lemon popsicle',\n",
      " 'lime roll-up',\n",
      " 'mango roll-up',\n",
      " 'orange roll-up',\n",
      " 'papaya roll-up',\n",
      " 'peach popsicle',\n",
      " 'pear popsicle',\n",
      " 'pineapple roll-up',\n",
      " 'plum popsicle',\n",
      " 'Boo-Raspberry',\n",
      " 'Boo-Strawberry',\n",
      " 'tangerine roll-up']\n"
     ]
    }
   ],
   "source": [
    "# d.) BONUS: map() takes a function as its argument -- in the predict_speed example, that argument was a call\n",
    "#.    to a named, external function BUT you can pass map an anonymous lambda function -- no outside function needed\n",
    "# tre\n",
    "# pp"
   ]
  },
  {
   "cell_type": "code",
   "execution_count": null,
   "metadata": {
    "colab": {
     "base_uri": "https://localhost:8080/",
     "height": 628
    },
    "executionInfo": {
     "elapsed": 207,
     "status": "ok",
     "timestamp": 1754337615528,
     "user": {
      "displayName": "Brian McClain",
      "userId": "08063899147261234403"
     },
     "user_tz": 240
    },
    "id": "B-COnKTtKkZp",
    "outputId": "1ac6b5b7-cebb-47ba-d290-4e4675cd5bf7"
   },
   "outputs": [
    {
     "name": "stdout",
     "output_type": "stream",
     "text": [
      "<class 'numpy.poly1d'>\n",
      "<class 'numpy.ndarray'>\n",
      "hour 0 (midnight to 12:59am) predicted speed in kmph: 114\n",
      "hour 4 (4:00-4:59AM) predicted speed in kmph: 71\n",
      "hour 11 (11:00-11:59AM) predicted speed in kmph: 65\n",
      "hour 17 (5:00-5:59PM) predicted speed in kmph: 89\n",
      "hour 20 (8:00-8:59PM) predicted speed in kmph: 98\n",
      "hour 23 (11:00-11:59PM) predicted speed in kmph: 98\n",
      "[114, 71, 65, 89, 98, 98]\n"
     ]
    },
    {
     "data": {
      "image/png": "[encoded data removed]",
      "text/plain": [
       "<Figure size 640x480 with 1 Axes>"
      ]
     },
     "metadata": {},
     "output_type": "display_data"
    }
   ],
   "source": [
    "# polynomial regression\n",
    "# x = hour of the day the car passes through an EZ-Pass\n",
    "# 1,2,3,5,6,7,8,9,10,12,13,14,15,16,18,19,21,22\n",
    "# y = EZ-Pass toll booth speed\n",
    "# 100, 90, 80, 60, 60, 55, 60, 65, 70, 70, 75, 76, 78, 79, 90, 99, 99, 100\n",
    "\n",
    "\n",
    "# 'Avg Speed of Cars through EZ-Pass by Hour'\n",
    "# 'Hour (0-23)'\n",
    "# 'Speed (KMPH)'\n",
    "\n",
    "# np.polyfit(x,y,num_of_slopes)\n",
    "\n",
    "print()\n",
    "\n",
    "# np.linspace(start-x, end-x, max-y)\n",
    "\n",
    "print()\n",
    "\n",
    "# plot the line, using the polynom_predict function and the regression_line\n",
    "\n",
    "# predict values by passing them to the polynom_predict()\n",
    "\n",
    "print(\"hour 0 (midnight to 12:59am) predicted speed in kmph:\",\n",
    "print(\"hour 4 (4:00-4:59AM) predicted speed in kmph:\",\n",
    "print(\"hour 11 (11:00-11:59AM) predicted speed in kmph:\",\n",
    "print(\"hour 17 (5:00-5:59PM) predicted speed in kmph:\",\n",
    "\n",
    "print(\"hour 20 (8:00-8:59PM) predicted speed in kmph:\",\n",
    "print(\"hour 23 (11:00-11:59PM) predicted speed in kmph:\",\n",
    "\n",
    "# above predictions on a loop:\n",
    "\n",
    "print('predicted_speeds\";)\n",
    "\n",
    "# now that we have 2 lists of 6 predictions: hrs and speeds,\n",
    "# we can plot the predictions\n"
   ]
  }
 ],
 "metadata": {
  "colab": {
   "provenance": []
  },
  "kernelspec": {
   "display_name": "Python 3",
   "name": "python3"
  },
  "language_info": {
   "name": "python"
  }
 },
 "nbformat": 4,
 "nbformat_minor": 0
}
