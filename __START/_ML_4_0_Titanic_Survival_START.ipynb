{
  "nbformat": 4,
  "nbformat_minor": 0,
  "metadata": {
    "colab": {
      "provenance": []
    },
    "kernelspec": {
      "name": "python3",
      "display_name": "Python 3"
    },
    "language_info": {
      "name": "python"
    }
  },
  "cells": [
    {
      "cell_type": "markdown",
      "source": [
        "# Predicting Titanic Survival using..\n",
        "## **sklearn (Scikit Learn) machine learning (ML) library**\n",
        "- **sklearn** is the most popular and robust library for machine learning, having a selection of algorithms that await your data"
      ],
      "metadata": {
        "id": "O-Rr7SV3ALIE"
      }
    },
    {
      "cell_type": "markdown",
      "source": [
        "**titanic dataset** is an iconic dataset used for Machine Learning practice and training\n",
        "- it contains 891 **observations** (rows) of 15 **variables** (columns) each\n",
        "- the dataset is used to train ML models to predict the probability of surviving the Titanic disaster based on variables such as passenger class, age and gender (spoiler alert: first class female passengers had a *much* better chance of survival than third class males)\n",
        "- **survived** column: 1 means survived; 0 means perished\n",
        "- **sibsp** stands for siblings and spouses\n",
        "- **parch** stands for parents and children\n",
        "- some columns are repeats of each other:\n",
        "  - **alive** (no, yes) is the string version of **survived** (0,1)\n",
        "  - **pclass** (1,2,3) is the numeric version of **class** (First, Second, Third)\n",
        "  - **who** (man, woman, child) overlaps **sex** (male, female)\n",
        "  - **embarked** (S, C, Q) is short for **embark_town** (Southhampton, Cherbourg, Queenstown)"
      ],
      "metadata": {
        "id": "gKmuxm8GA-Wb"
      }
    },
    {
      "cell_type": "markdown",
      "source": [
        "### **seaborn** is another visualization / plotting library, similar to matplotlib\n",
        "- seaborn also has the titanic dataset built in, so no csv file required"
      ],
      "metadata": {
        "id": "1xect9A2ETAD"
      }
    },
    {
      "cell_type": "code",
      "execution_count": null,
      "metadata": {
        "id": "6IqMv_47jfc-"
      },
      "outputs": [],
      "source": [
        "# imp"
      ]
    },
    {
      "cell_type": "code",
      "source": [
        "# fro"
      ],
      "metadata": {
        "id": "SaL1d23U6qGX"
      },
      "execution_count": null,
      "outputs": []
    },
    {
      "cell_type": "code",
      "source": [
        "# import sklearn machine learning packages:\n",
        "\n",
        "# LabelEncoder converts string data to numeric:\n",
        "# fro\n",
        "\n",
        "# normalize the data (get all values down to mean=0\n",
        "# and all other values are standard deviation\n",
        "# 95% of all values go in the +-2 std (-2 to 2)\n",
        "# fr\n",
        "\n",
        "# import RandomForestClassifier for training model\n",
        "# fr\n",
        "# import confusion matrix for quantifying model's accuracy\n",
        "# as TP, TN, FP, FN\n",
        "# fro"
      ],
      "metadata": {
        "id": "wQ1gYEyPFOkI"
      },
      "execution_count": null,
      "outputs": []
    },
    {
      "cell_type": "markdown",
      "source": [
        "#### **Scikit Learn (sklearn) packages**\n",
        "- **sklearn.preprocessing.LabelEncoder** encodes target labels with value between **0** and **n_classes-1**\n",
        "  - all data must be numeric for ML model training\n",
        "  - so, passenger classes First, Second and Third become 0, 1 and 2\n",
        "  - we need to convert object (string) columns (\"sex\", \"embarked\") into numbers\n",
        "- **sklearn.model_selection.train_test_split** splits data into training and testing sets\n",
        "  - **model** is trained on training set (fed data with the answers)\n",
        "  - **model** is tested on testing set by having it predict answers (testing labels)\n",
        "- **sklearn.preprocessing.StandardScaler** is for getting all values in a standard range,  \n",
        "where all mean values are 0; values within +/- 1 std are in the 1 to -1 range\n",
        "  - model needs all values in same range, so that it doesn't\n",
        "  conclude that age, which ranges from 0-80,  \n",
        "  is 40 times more important in predicting survival than passenger class, which ranges from just 0-2\n",
        "\n",
        "- make **confusion matrix** for each model (a 2x2 array showing TP, TN, FP, FN)\n",
        "from sklearn.metrics import confusion_matrix\n",
        "\n",
        "**What Is Random Forest?**\n",
        "- random forest is a tree-based supervised learning algorithm\n",
        "- **random forest classifier** can be used to solve for **regression** or **classification** problems\n",
        "- Random forest tends to combine hundreds of decision trees and then trains each decision tree on a different sample of the observations.\n",
        "- The final predictions of the random forest are made by averaging the predictions of each individual tree.\n",
        "\n",
        "**What is Confusion Matrix?**\n",
        "- a confusion maxtrix is a set of 4 values used to describe a categorical classification:\n",
        "- a confusion maxtrix has 4 categories: True Positive, False Positive, True Negative, False Negative\n",
        "  - **True Positive** : model said it's a 'cat' and it is a 'cat'\n",
        "  - **True Negative** : model said it's not a 'cat' and that's right\n",
        "  - **False Positive** : model said it's a 'cat' but it's not\n",
        "  - **False Negative** : model said it's not a 'cat' but it is\n"
      ],
      "metadata": {
        "id": "1b_MARU7ECkW"
      }
    },
    {
      "cell_type": "code",
      "source": [
        "# load titanic dataset from within seaborn (no csv file)\n",
        "# t\n",
        "print() # (891, 15)\n",
        "# t"
      ],
      "metadata": {
        "id": "Drt3wsXVj7ch",
        "colab": {
          "base_uri": "https://localhost:8080/"
        },
        "outputId": "9b80b261-9b9a-4a59-fff3-87b2431279aa"
      },
      "execution_count": null,
      "outputs": [
        {
          "output_type": "stream",
          "name": "stdout",
          "text": [
            "\n"
          ]
        }
      ]
    },
    {
      "cell_type": "code",
      "source": [
        "# ti"
      ],
      "metadata": {
        "id": "zF2CAo1c3Y2F"
      },
      "execution_count": null,
      "outputs": []
    },
    {
      "cell_type": "code",
      "source": [
        "# load the same data again BUT this time from train_titanic.csv file provided by Kaggle\n",
        "# ba\n",
        "# cs\n",
        "# tk_\n",
        "print() # (891, 12)\n",
        "# tk_"
      ],
      "metadata": {
        "id": "N6EG4YGIRIr0",
        "colab": {
          "base_uri": "https://localhost:8080/"
        },
        "outputId": "5227d36e-23b5-4f38-aee2-c5af4356a78f"
      },
      "execution_count": null,
      "outputs": [
        {
          "output_type": "stream",
          "name": "stdout",
          "text": [
            "\n"
          ]
        }
      ]
    },
    {
      "cell_type": "code",
      "source": [
        "# print column names for both for comparing:\n",
        "print('seaborn columns:\\n')\n",
        "print('\\nkaggle columns:\\n')\n",
        "# 3 L@@K: the seaborn data has a lot of redundant columns\n",
        "# if we know gender and age, we can infer man/woman/child"
      ],
      "metadata": {
        "id": "rOIk5BU_SUpT",
        "colab": {
          "base_uri": "https://localhost:8080/"
        },
        "outputId": "58e9fc05-8729-4339-9c97-aa781d789a02"
      },
      "execution_count": null,
      "outputs": [
        {
          "output_type": "stream",
          "name": "stdout",
          "text": [
            "seaborn columns:\n",
            "\n",
            "\n",
            "kaggle columns:\n",
            "\n"
          ]
        }
      ]
    },
    {
      "cell_type": "code",
      "source": [
        "# print a few cols unique values to see overlapping and redundancy:\n",
        "print()\n",
        "print()"
      ],
      "metadata": {
        "id": "NZYkBRv-S1XU",
        "colab": {
          "base_uri": "https://localhost:8080/"
        },
        "outputId": "6ceb4538-90fc-4d52-acc8-47ac0a3bcb62"
      },
      "execution_count": null,
      "outputs": [
        {
          "output_type": "stream",
          "name": "stdout",
          "text": [
            "\n",
            "\n"
          ]
        }
      ]
    },
    {
      "cell_type": "code",
      "source": [
        "# view statistical data for the numeric columns\n",
        "# ti"
      ],
      "metadata": {
        "id": "5g4f50LTkxMV"
      },
      "execution_count": null,
      "outputs": []
    },
    {
      "cell_type": "code",
      "source": [
        "# tk_"
      ],
      "metadata": {
        "id": "N67RVY8Uybuq"
      },
      "execution_count": null,
      "outputs": []
    },
    {
      "cell_type": "code",
      "source": [
        "# get info about the df:\n",
        "# tk_\n",
        "# L@@K: we are missing a lot of ages and almost all Cabin values are null\n",
        "# the move is to drop Cabin column altogether and drop missing Age rows\n",
        "# BUT definitely DO KEEP Age column"
      ],
      "metadata": {
        "id": "a780eJ7iF0h-"
      },
      "execution_count": null,
      "outputs": []
    },
    {
      "cell_type": "code",
      "source": [
        "# drop the Cabin column:\n",
        "# tk_"
      ],
      "metadata": {
        "id": "wc4rLwioWGM8"
      },
      "execution_count": null,
      "outputs": []
    },
    {
      "cell_type": "code",
      "source": [
        "print() # (891, 11)\n",
        "# tk_"
      ],
      "metadata": {
        "id": "b83fjoMjk7ds",
        "colab": {
          "base_uri": "https://localhost:8080/"
        },
        "outputId": "645558b0-407f-4a4d-ee8e-477b8d1008ae"
      },
      "execution_count": null,
      "outputs": [
        {
          "output_type": "stream",
          "name": "stdout",
          "text": [
            "\n"
          ]
        }
      ]
    },
    {
      "cell_type": "code",
      "source": [
        "# make a new new column for titanic kaggle called \"who\"\n",
        "# set it equal to the \"who\" col from other titanic_df\n",
        "# this way, we can know if the person is a child\n",
        "# which is useful for filling missing ages w more accurate age\n",
        "# tk_"
      ],
      "metadata": {
        "id": "DZZXW4sv2lG_"
      },
      "execution_count": null,
      "outputs": []
    },
    {
      "cell_type": "code",
      "source": [
        "print()\n",
        "# tk_"
      ],
      "metadata": {
        "colab": {
          "base_uri": "https://localhost:8080/"
        },
        "id": "qXZD1e1C2-Ji",
        "outputId": "c2f88b8a-e713-4428-c7f5-22c6785ce6b9"
      },
      "execution_count": null,
      "outputs": [
        {
          "output_type": "stream",
          "name": "stdout",
          "text": [
            "\n"
          ]
        }
      ]
    },
    {
      "cell_type": "code",
      "source": [
        "# fill the 177 missing ages w mean age"
      ],
      "metadata": {
        "id": "wxshPRvnfIAS"
      },
      "execution_count": null,
      "outputs": []
    },
    {
      "cell_type": "code",
      "source": [
        "# calculate the mean age of the adults and the children\n",
        "# man_\n",
        "# man"
      ],
      "metadata": {
        "id": "aBwyxSjGfjkc"
      },
      "execution_count": null,
      "outputs": []
    },
    {
      "cell_type": "code",
      "source": [
        "# mea\n",
        "# me"
      ],
      "metadata": {
        "id": "ntT3-xvE4YM9"
      },
      "execution_count": null,
      "outputs": []
    },
    {
      "cell_type": "code",
      "source": [
        "# mea\n",
        "# mea"
      ],
      "metadata": {
        "id": "9IyWkeZNjeP-"
      },
      "execution_count": null,
      "outputs": []
    },
    {
      "cell_type": "code",
      "source": [
        "# mea\n",
        "# mea"
      ],
      "metadata": {
        "id": "AXj7v3RRj6XT"
      },
      "execution_count": null,
      "outputs": []
    },
    {
      "cell_type": "markdown",
      "source": [
        "- **df['col'].fillna(value)** is for filling with same value for all null / missing values\n",
        "- if you need to fill based on a condition (man, woman, child), use **df['col'].apply(lambda)**"
      ],
      "metadata": {
        "id": "DzYmoGXkkeQE"
      }
    },
    {
      "cell_type": "code",
      "source": [
        "# fill the 2 missing Embarked with the most common value, which is \"S\"\n",
        "# add inplace=True if you don't want to save the changed df to itself\n",
        "# tk_"
      ],
      "metadata": {
        "id": "RXkLQMT1lOZ8"
      },
      "execution_count": null,
      "outputs": []
    },
    {
      "cell_type": "code",
      "source": [
        "# tk_"
      ],
      "metadata": {
        "id": "oYdfZrnxlc2t"
      },
      "execution_count": null,
      "outputs": []
    },
    {
      "cell_type": "code",
      "source": [
        "# fill the 177 missing ages with the correct mean age\n",
        "# call apply lambda on the WHOLE df, since we need access to 2 different columns\n",
        "# set the lamdba expression equal to row to capture the return value, row by row\n",
        "# tk"
      ],
      "metadata": {
        "id": "F9owi6-hl_W3"
      },
      "execution_count": null,
      "outputs": []
    },
    {
      "cell_type": "markdown",
      "source": [
        "#### **How the correct value is chosen from the dictionary passed to `map()`**\n",
        "\n",
        "The correct value is chosen from the dictionary passed to `map()` based on the value in the `who` column for each row. Here's how it works:\n",
        "\n",
        "1. **Mapping operation**: The `map()` function takes each value in the `who` column and looks it up in the dictionary `{'man': 33.2, 'woman': 32.0, 'child': 6.4}`.\n",
        "\n",
        "2. **Dictionary lookup**: For each row, the `map()` function uses the value in the `who` column (either `'man'`, `'woman'`, or `'child'`) as the key to look up the corresponding value (either `33.2`, `32.0`, or `6.4`) in the dictionary.\n",
        "\n",
        "3. **Assignment of values**: It then assigns that value (e.g., `33.2` for `'man'`) to the corresponding `Age` value, but only for rows where `Age` is `NaN` because we use `loc` to specifically target those rows.\n",
        "\n",
        "This allows for a very efficient and direct mapping between the categories in the `who` column and the desired `Age` values.\n"
      ],
      "metadata": {
        "id": "Gg5rIzWTtpw_"
      }
    },
    {
      "cell_type": "code",
      "source": [
        "# shorter version: use loc to target only the rows where Age is NaN, and\n",
        "# then set the values based on the who column. Here's a more concise solution:\n",
        "# tk"
      ],
      "metadata": {
        "id": "ZUf4E0dbsqpa"
      },
      "execution_count": null,
      "outputs": []
    },
    {
      "cell_type": "code",
      "source": [
        "# tk"
      ],
      "metadata": {
        "id": "KHTxIXQqqcGl"
      },
      "execution_count": null,
      "outputs": []
    },
    {
      "cell_type": "code",
      "source": [
        "# tk_"
      ],
      "metadata": {
        "id": "X0sI7ShxqexB"
      },
      "execution_count": null,
      "outputs": []
    },
    {
      "cell_type": "markdown",
      "source": [
        "- **df['col'].value_counts()** returns an itemized count for each discrete category in the col"
      ],
      "metadata": {
        "id": "GT9-t0OmuoZO"
      }
    },
    {
      "cell_type": "code",
      "source": [
        "# 'perished / survived' ratio of full 891 rows\n",
        "# 549 / 342 (61.61% of the 891 did not survive)\n",
        "# get the 'perished / survived' ratio (value_counts) for the 891 rows\n",
        "# tk_ # 59.55% of 891 did not survive"
      ],
      "metadata": {
        "id": "6ftwC3LslKXX"
      },
      "execution_count": null,
      "outputs": []
    },
    {
      "cell_type": "code",
      "source": [
        "# get the breakdown of the 3 passenger classes\n",
        "# tk_\n",
        "# 'Pclass'"
      ],
      "metadata": {
        "id": "9UKZtst5lR8i"
      },
      "execution_count": null,
      "outputs": []
    },
    {
      "cell_type": "code",
      "source": [
        "# tk_"
      ],
      "metadata": {
        "id": "9imS6m0vclqd"
      },
      "execution_count": null,
      "outputs": []
    },
    {
      "cell_type": "markdown",
      "source": [
        "**groupby()**\n",
        "- **group_count_df = df.groupby('col_1')[['col_2']].count()**\n",
        "- **group_mean_df = df.groupby('col_1')[['col_2']].mean()**\n",
        "- **group_mean_df** has index of 'col_1' where each category of the column is a row\n",
        "- **group_mean_df** has one col, 'col_2', the values of which is the count (or mean) for that row category\n"
      ],
      "metadata": {
        "id": "KhvoEVoowNV4"
      }
    },
    {
      "cell_type": "code",
      "source": [
        "# get a break down of passengers by class:\n",
        "# 'Pclass''Survived'\n",
        "# p\n",
        "# L@@K: careful -- the result is not how many survived per class,\n",
        "# but how many passengers there were per class"
      ],
      "metadata": {
        "id": "9UuApJlst6Bt"
      },
      "execution_count": null,
      "outputs": []
    },
    {
      "cell_type": "code",
      "source": [
        "# pc"
      ],
      "metadata": {
        "id": "_B6C_lxkv42-"
      },
      "execution_count": null,
      "outputs": []
    },
    {
      "cell_type": "code",
      "source": [
        "# change the column with the value counts to 'count'\n",
        "# pc"
      ],
      "metadata": {
        "id": "bGbjbonSuvOh"
      },
      "execution_count": null,
      "outputs": []
    },
    {
      "cell_type": "code",
      "source": [
        "# pc"
      ],
      "metadata": {
        "id": "aZI04hp_iodr"
      },
      "execution_count": null,
      "outputs": []
    },
    {
      "cell_type": "code",
      "source": [
        "# do a groupby to get survival rates by sex\n",
        "# 'Sex' 'Survived'\n",
        "# su\n",
        "print()\n",
        "# su"
      ],
      "metadata": {
        "id": "6FvejG5eqwWZ",
        "colab": {
          "base_uri": "https://localhost:8080/"
        },
        "outputId": "1c8e0c2f-e885-4b72-b7e4-c1ebf2e5452d"
      },
      "execution_count": null,
      "outputs": [
        {
          "output_type": "stream",
          "name": "stdout",
          "text": [
            "\n"
          ]
        }
      ]
    },
    {
      "cell_type": "code",
      "source": [
        "# do a groupby to get survival totals by sex\n",
        "# co\n",
        "# cou\n",
        "print()\n",
        "# cou"
      ],
      "metadata": {
        "id": "sHS8Wc0pj6qW",
        "colab": {
          "base_uri": "https://localhost:8080/"
        },
        "outputId": "6e588571-4bb4-41d1-929b-6704b3ec1fae"
      },
      "execution_count": null,
      "outputs": [
        {
          "output_type": "stream",
          "name": "stdout",
          "text": [
            "\n"
          ]
        }
      ]
    },
    {
      "cell_type": "code",
      "source": [
        "# but this is not showing survival, but rather the number of males vs females\n",
        "# the total is 891, which is the total number of observations (rows) in our df\n",
        "# 'sex'"
      ],
      "metadata": {
        "id": "pRpWTCsK8z8-"
      },
      "execution_count": null,
      "outputs": []
    },
    {
      "cell_type": "markdown",
      "source": [
        "**double and triple groupby()**\n",
        "- pass a list of columns to groupby() method"
      ],
      "metadata": {
        "id": "gaaYVYZB9k_Z"
      }
    },
    {
      "cell_type": "code",
      "source": [
        "# 'Sex' 'Pclass' 'Survived'\n",
        "# 'Survived' 'Count'\n",
        "# pc\n",
        "# p\n",
        "# pc"
      ],
      "metadata": {
        "id": "az_QhiQtrS_6"
      },
      "execution_count": null,
      "outputs": []
    },
    {
      "cell_type": "code",
      "source": [
        "# 'Sex' 'Pclass' 'Embarked' 'Survived'\n",
        "# 'Survived' 'Count'\n",
        "# pc\n",
        "# pc\n",
        "# pc"
      ],
      "metadata": {
        "id": "IULLw3YvrfIm"
      },
      "execution_count": null,
      "outputs": []
    },
    {
      "cell_type": "code",
      "source": [
        "# if 'survived' is actually showing total number of passengers\n",
        "# how can we break down the triple group by survival?\n",
        "# add a 4th item to group by list: 'survived'\n",
        "# 'survived', 'sex', 'pclass', 'embarked'\n",
        "# su\n",
        "# L@@K: survived at left is 0 vs 1 -- the perished vs. survived breakdown we want to see"
      ],
      "metadata": {
        "id": "98qdntF6_cGd"
      },
      "execution_count": null,
      "outputs": []
    },
    {
      "cell_type": "code",
      "source": [
        "# su"
      ],
      "metadata": {
        "id": "kg4r8KbR0xYN"
      },
      "execution_count": null,
      "outputs": []
    },
    {
      "cell_type": "code",
      "source": [
        "# do a groupby to get survival totals by sex\n",
        "# s\n",
        "# sur\n",
        "# surv"
      ],
      "metadata": {
        "id": "tMTDvR_fmzn9"
      },
      "execution_count": null,
      "outputs": []
    },
    {
      "cell_type": "code",
      "source": [
        "# plot survived_counts_df by calling plot() on the survived_or_not_df dataframe\n",
        "# set plot equal to ax so that we can show bar values\n",
        "# ax\n",
        "\n",
        "# 'Titanic Passengers: Survived vs. Perished')\n",
        "# pl\n",
        "# 'Number of Passengers'\n",
        "# pl\n",
        "# CHALLENGE: Label the bars with their counts: hint requires that ax variable as\n",
        "# well as a for loop\n",
        "# p\n",
        "# plt'Perished','Survived'\n",
        "\n",
        "# for bar in ax.containers:\n",
        "#   ax.bar_label(bar, padding=5, color=\"coral\")\n",
        "# ax\n",
        "print()\n",
        "# p"
      ],
      "metadata": {
        "id": "AMVZjNnou9Wd",
        "colab": {
          "base_uri": "https://localhost:8080/"
        },
        "outputId": "e20dc8f8-6fea-434a-8ddc-09e93eeae222"
      },
      "execution_count": null,
      "outputs": [
        {
          "output_type": "stream",
          "name": "stdout",
          "text": [
            "\n"
          ]
        }
      ]
    },
    {
      "cell_type": "markdown",
      "source": [
        "**seaborn** provides another way to make bar charts, which are side-by-side numeric comparisons of a column's values:\n",
        "- **sns.countplot(x='col_name', data=df)**\n",
        "  - makes a bar chart comparing counts\n",
        "  - does not require a \"grouped df\" (like survived_counts_df) for it to work\n",
        "  - **x** is the 'col_name' ; category values appear below x-axis\n",
        "  - **data** is the dataframe"
      ],
      "metadata": {
        "id": "Fb7PYeEztZxo"
      }
    },
    {
      "cell_type": "code",
      "source": [
        "# make a seaborn countplot showing survived vs perished\n",
        "# one bar per category of the 'survived' column;\n",
        "# bar height is the count of that category\n",
        "# ax\n",
        "\n",
        "# 'Titanic Passengers: Survived vs. Perished')\n",
        "# pl\n",
        "# 'Perished','Survived'\n",
        "# 'Number of Passengers'\n",
        "\n",
        "# show values above bars\n",
        "# ax\n",
        "\n",
        "# pl"
      ],
      "metadata": {
        "id": "_8OCbFUhlWVx"
      },
      "execution_count": null,
      "outputs": []
    },
    {
      "cell_type": "code",
      "source": [
        "# make a seaborn countplot counts of each passenger class\n",
        "# ax\n",
        "\n",
        "# 'Titanic Passengers by Class'\n",
        "# p\n",
        "# 'First','Second','Third'\n",
        "# 'Number of Passengers'\n",
        "\n",
        "# show values above bars\n",
        "# for bar in ax.containers:\n",
        "#   ax.bar_label(bar, padding=5, color=\"coral\")\n",
        "# a\n",
        "\n",
        "# pl"
      ],
      "metadata": {
        "id": "LFR7XWikmaYX"
      },
      "execution_count": null,
      "outputs": []
    },
    {
      "cell_type": "markdown",
      "source": [
        "**making a bar chart with data from two columns at once**\n",
        "- **sns.countplot(x='col_1', hue='col_2', data=df)**\n",
        "  - makes a bar chart comparing counts of *two* columns\n",
        "  - **x** is the column 1; category values appear below x-axis\n",
        "  - **hue** is column 2\n",
        "  - **data** is the dataframe"
      ],
      "metadata": {
        "id": "DEo58Bkc00VJ"
      }
    },
    {
      "cell_type": "code",
      "source": [
        "# make a seaborn countplot counts of each passenger class\n",
        "# ax\n",
        "\n",
        "# 'Titanic Survival by Class'\n",
        "# pl\n",
        "# 'Perished','Survived'\n",
        "# 'Number of Passengers'\n",
        "# plt\n",
        "# show values above bars\n",
        "# f\n",
        "# ax.bar_label(ax.containers[0], padding=5, color=\"coral\")\n",
        "\n",
        "# pl"
      ],
      "metadata": {
        "id": "bKExlqGjgpsv"
      },
      "execution_count": null,
      "outputs": []
    },
    {
      "cell_type": "code",
      "source": [
        "# divide survived vs perished by sex\n",
        "# 'Survived' 'Sex'\n",
        "# ax\n",
        "\n",
        "# 'Titanic Survival by Gender'\n",
        "# pl\n",
        "# 'Perished','Survived'\n",
        "# 'Number of Passengers'\n",
        "# pl\n",
        "# show values above bars\n",
        "# fo\n",
        "# ax.bar_label(ax.containers[0], padding=5, color=\"coral\")\n",
        "\n",
        "# pl\n",
        "# L@@K: More than half the passengers who embarked at Cherbourg survived\n",
        "# vs. 2/3 of the passengers who got on at Southampton perished"
      ],
      "metadata": {
        "id": "WrVrm5Rj1yXL"
      },
      "execution_count": null,
      "outputs": []
    },
    {
      "cell_type": "markdown",
      "source": [
        "**subdivide Pclass by Sex**\n",
        "- create a new column that combines both Pclass and Sex\n",
        "- then use this new column as the hue.\n",
        "\n",
        "#### How to Arrange Bars in a Specific Order (1st Class Female/Male, 2nd Class Female/Male, 3rd Class Female/Male)\n",
        "\n",
        "To arrange the bars in a specific order in your seaborn `countplot`, follow these steps:\n",
        "\n",
        "#### Step 1: Set the desired order for the combined `Pclass_Sex` column\n",
        "Convert the `Pclass_Sex` column into a categorical type and specify the order of categories:\n",
        "\n",
        "```python\n",
        "order = ['1_female', '1_male', '2_female', '2_male', '3_female', '3_male']\n",
        "tk_df['Pclass_Sex'] = pd.Categorical(tk_df['Pclass_Sex'], categories=order, ordered=True)\n"
      ],
      "metadata": {
        "id": "P4AytZ1OEHDN"
      }
    },
    {
      "cell_type": "code",
      "source": [
        "# make a new column that has as its value a concatenates string of Pclass and Sex\n",
        "# '1_female', '1_male', '2_female', '2_male', '3_female', '3_male'\n",
        "# 'Pclass_Sex'\n",
        "# 'Pclass_Sex'"
      ],
      "metadata": {
        "id": "mewCUG52EDhj"
      },
      "execution_count": null,
      "outputs": []
    },
    {
      "cell_type": "code",
      "source": [
        "# tk"
      ],
      "metadata": {
        "id": "2qmzkedQEtnl"
      },
      "execution_count": null,
      "outputs": []
    },
    {
      "cell_type": "code",
      "source": [
        "# survived vs perished by pclass AND sex using the new combo col as the hue\n",
        "# 'Survived' 'Sex'\n",
        "# 'Survived', 'Pclass_Sex'\n",
        "\n",
        "# 'Titanic Survival by Class and Gender'\n",
        "# pl\n",
        "# 'Perished','Survived'\n",
        "# 'Number of Passengers'\n",
        "# pl\n",
        "# show values above bars\n",
        "# fo\n",
        "# ax.bar_label(ax.containers[0], padding=5, color=\"coral\")\n",
        "\n",
        "# pl\n",
        "# L@@K: More than half the passengers who embarked at Cherbourg survived\n",
        "# vs. 2/3 of the passengers who got on at Southampton perished"
      ],
      "metadata": {
        "id": "KROMHtwJ4Bqt"
      },
      "execution_count": null,
      "outputs": []
    },
    {
      "cell_type": "code",
      "source": [
        "# Challenge\" : plot survival by Embarked Port\n",
        "# hint: no combo new column necessary, just an x for the main col\n",
        "# and hue for the secondary column\n",
        "# label the bars w their values\n",
        "# divide survived vs perished by sex\n",
        "# 'Survived' 'Sex'\n",
        "# ax\n",
        "\n",
        "# 'Titanic Survival by Port of Embarcation'\n",
        "# pl\n",
        "# 'Perished','Survived'\n",
        "# 'Number of Passengers'\n",
        "# pl\n",
        "# show values above bars\n",
        "# fo\n",
        "  # ax\n",
        "\n",
        "# rename the legend from S,Q,C to Southampton, Cherbourg, Queenstown\n",
        "# make a dictonary with current legend labels as keys and new labels as values\n",
        "# embarked_dict = {'S':'Southampton', 'Q':'Queenstown', 'C':'Cherbourg'}\n",
        "# get handles and labels from the legend\n",
        "# ha\n",
        "# replace the labels\n",
        "\n",
        "# use list comprehension to loop the dict, key by key:\n",
        "# list comprehension provides a \"one-liner\" alternative to a loop:\n",
        "# new_labels = [ embarked_dict[key] for key in labels ]\n",
        "# new_labels = []\n",
        "# for key, val in embarked_dict.items():\n",
        "#   new_labels.append(val)\n",
        "\n",
        "# or if you just know the new label names:\n",
        "\n",
        "# update the legend\n",
        "# 'Southampton', 'Queenstown', 'Cherbourg'\n",
        "# \"Port of Embarkation\"\n",
        "\n",
        "# pl\n",
        "# L@@K: More than half the passengers who embarked at Cherbourg survived\n",
        "# vs. 2/3 of the passengers who got on at Southampton perished"
      ],
      "metadata": {
        "id": "I4RiwYOhGyQz"
      },
      "execution_count": null,
      "outputs": []
    },
    {
      "cell_type": "markdown",
      "source": [],
      "metadata": {
        "id": "-m7Rxv0XLGji"
      }
    },
    {
      "cell_type": "code",
      "source": [
        "# 1. Given a list of fruits, we want a new list of just the berries.\n",
        "# Without list comprehension you would write a for loop containing an if statement\n",
        "# that checked the current fruit to see if it contained the substring \"berry\":\n",
        "# \"apple\", \"banana\", \"blackberry\", \"blueberry\", \"cherry\", \"cranberry\", \"grape\",\n",
        "# \"kiwi\", \"lemon\", \"mango\", \"peach\", \"raspberry\", \"strawberry\", \"tangerine\", \"watermelon\"\n",
        "\n",
        "# 2. Declare a list for holding the result (the berries)\n",
        "# ber\n",
        "\n",
        "# 3. Loop the list and check the condition, appending only berries to the new list\n",
        "# for\n",
        "print('for loop result:')"
      ],
      "metadata": {
        "colab": {
          "base_uri": "https://localhost:8080/"
        },
        "id": "l0NkrhFXLas6",
        "outputId": "d8a433f0-0641-4a5f-9245-de1092d43794"
      },
      "execution_count": null,
      "outputs": [
        {
          "output_type": "stream",
          "name": "stdout",
          "text": [
            "for loop result:\n"
          ]
        }
      ]
    },
    {
      "cell_type": "markdown",
      "source": [
        "\n",
        "#### **map() vs filter**\n",
        "- like **map(func,list)**, **filter(func,list)** takes 2 arguments:\n",
        "- - a function and a list\n",
        "- you can call a function or just run an inline anonymous lambda function\n",
        "- each item is passes as the arg of the lambda function\n",
        "- **map()** must return a new list w the SAME NUMBER of items as in the original\n",
        "- **filter()** must return a new list w FEWER items than in the original\n",
        "- the return value of filter is a **boolean comparison**\n",
        "- only items that return **True** are accumulated in the the new list\n",
        "- filter returns a filter object that you unpack by passing all to **list()**\n",
        "\n",
        "**example: berries2 = list(filter(lambda fru : 'berry' in fru, fruits))**"
      ],
      "metadata": {
        "id": "nxOVMhptNOPK"
      }
    },
    {
      "cell_type": "code",
      "source": [
        "# ber\n",
        "('berries2 via filter:')"
      ],
      "metadata": {
        "colab": {
          "base_uri": "https://localhost:8080/",
          "height": 35
        },
        "id": "5-bWgxoXN63o",
        "outputId": "00e3e0b7-86b1-4206-a150-2593b1fc52ca"
      },
      "execution_count": null,
      "outputs": [
        {
          "output_type": "execute_result",
          "data": {
            "text/plain": [
              "'berries2 via filter:'"
            ],
            "application/vnd.google.colaboratory.intrinsic+json": {
              "type": "string"
            }
          },
          "metadata": {},
          "execution_count": 125
        }
      ]
    },
    {
      "cell_type": "markdown",
      "source": [
        "### list comprehension\n",
        "- List comprehension offers a shorter way to make a new list from items in an existing list.\n",
        "- The syntax is: **new_list = [return_value for_loop if_condition]**"
      ],
      "metadata": {
        "id": "-fFj7lEyLOyb"
      }
    },
    {
      "cell_type": "code",
      "source": [
        "# list comprehension way:\n",
        "# [ return_value for loop if condition ]\n",
        "# ber\n",
        "# 'berries3 via list comprehensio:'"
      ],
      "metadata": {
        "id": "vZR68MadOcFK"
      },
      "execution_count": null,
      "outputs": []
    },
    {
      "cell_type": "markdown",
      "source": [],
      "metadata": {
        "id": "xacrivUYN8lp"
      }
    },
    {
      "cell_type": "markdown",
      "source": [
        "**pivot tables: rows become columns, columns become rows**\n",
        "- **df.pivot_table(index='col_1', columns='col_2', values='col_3')**\n",
        "- index can have two or more levels by passing **index** a list\n",
        "- **df.pivot_table(index=['col_1','col_2'], columns='col_3', values='col_4')**"
      ],
      "metadata": {
        "id": "Rz6MD4AyGcgn"
      }
    },
    {
      "cell_type": "code",
      "source": [
        "# make a pivot_table() where sex categories ('male', 'female') are the index values\n",
        "# columns are passenger class string ('First', 'Second', 'Third') and values are 'survived'\n",
        "# 'Sex', 'Pclass', 'Survived'\n",
        "# \"First\",\"Second\",\"Third\"\n",
        "# format as pcts: multiply the entire df by 100 -- this is a matrix operation, cuz it's 2D\n",
        "# as opposed to a vector operation which is math done across all items in a column vector\n",
        "# piv\n",
        "# pi"
      ],
      "metadata": {
        "id": "fpuMXZo4rrw1"
      },
      "execution_count": null,
      "outputs": []
    },
    {
      "cell_type": "code",
      "source": [
        "# Challenge: make a pivot table where:\n",
        "# row names are passenger classes (First, Second, Third -- NOT 1,2,3)\n",
        "# column names are sex\n",
        "# values are survival pcts\n",
        "# 'Survived'\n",
        "# \"First\",\"Second\",\"Third\"\n",
        "# pi\n",
        "# piv"
      ],
      "metadata": {
        "id": "vyL3cfLIhsr4"
      },
      "execution_count": null,
      "outputs": []
    },
    {
      "cell_type": "code",
      "source": [
        "# 'Embarked' 'Sex' 'Pclass' 'Survived'\n",
        "# 'Sex','Embarked', 'Pclass', 'Survived'\n",
        "# pivo\n",
        "# p\n",
        "# pivo"
      ],
      "metadata": {
        "id": "xPXeB6VksdSd"
      },
      "execution_count": null,
      "outputs": []
    },
    {
      "cell_type": "markdown",
      "source": [
        "**label_encoder_fit_transform()** method takes a list of strings and returns corresponding numbers"
      ],
      "metadata": {
        "id": "AXSkAqhaE3C6"
      }
    },
    {
      "cell_type": "code",
      "source": [
        "# test the label encoder on a simple dataset we make from scratch\n",
        "# 'aardvark', 'barracuda', 'crocodile', 'dolphin', 'elephant',\n",
        "#              'frog', 'giraffe', 'hawk', 'kangaroo', 'lizard', 'marlin',\n",
        "#              'narhwahl', 'ostrich', 'pirana', 'quail', 'raccoon', 'salamander',\n",
        "\n",
        "# 'mammal', 'fish', 'reptile', 'mammal', 'mammal', 'amphibian',\n",
        "#               'mammal', 'bird', 'mammal', 'reptile', 'fish', 'mammal',\n",
        "#               'bird', 'fish', 'bird', 'mammal', 'amphibian'\n"
      ],
      "metadata": {
        "id": "SUKNTPzbG005"
      },
      "execution_count": null,
      "outputs": []
    },
    {
      "cell_type": "code",
      "source": [
        "# make dataframe from animals_dict:\n",
        "# an\n",
        "print() # (17, 2)\n",
        "# a"
      ],
      "metadata": {
        "id": "lJGcx89KJfcW",
        "colab": {
          "base_uri": "https://localhost:8080/"
        },
        "outputId": "62f1a98a-aee1-48cd-97d7-8123db6ca5c6"
      },
      "execution_count": null,
      "outputs": [
        {
          "output_type": "stream",
          "name": "stdout",
          "text": [
            "\n"
          ]
        }
      ]
    },
    {
      "cell_type": "markdown",
      "source": [
        "**list(df['col_name'].unique()** returns a list of unique column values\n"
      ],
      "metadata": {
        "id": "vxLJsLuSKxPZ"
      }
    },
    {
      "cell_type": "code",
      "source": [
        "# an\n",
        "# ani"
      ],
      "metadata": {
        "id": "8WOLoUC-kRUP"
      },
      "execution_count": null,
      "outputs": []
    },
    {
      "cell_type": "markdown",
      "source": [
        "**LabelEncoder.fit_transform(list_of_strings)** takes a list of strings and returns a corresponding list of numbers\n",
        "\n",
        "\n"
      ],
      "metadata": {
        "id": "EsEAXAh-LBOU"
      }
    },
    {
      "cell_type": "code",
      "source": [
        "# instantiate a label encoder for converting string data to numeric:\n",
        "# l"
      ],
      "metadata": {
        "id": "VrCusLiavVzT"
      },
      "execution_count": null,
      "outputs": []
    },
    {
      "cell_type": "code",
      "source": [
        "# convert the animal classes (mammal, bird, fish, amphibian, reptile) to numbers 0-4\n",
        "# 'class num'\n",
        "# an"
      ],
      "metadata": {
        "id": "XjLPNngXGqqg"
      },
      "execution_count": null,
      "outputs": []
    },
    {
      "cell_type": "code",
      "source": [
        "# an"
      ],
      "metadata": {
        "id": "dzqQ2WLyEyfI"
      },
      "execution_count": null,
      "outputs": []
    },
    {
      "cell_type": "code",
      "source": [
        "# L@@K: we have 2 cols with string values that we need to make numeric\n",
        "# sex has 2 categories (male, female), which need to be converted to 0,1\n",
        "# embarked has 3 categories (S,C,Q), which needs to become 0,1,2"
      ],
      "metadata": {
        "id": "q1YpQH5vP-3W"
      },
      "execution_count": null,
      "outputs": []
    },
    {
      "cell_type": "code",
      "source": [
        "# use label_encoder.fit_transform(list_of_string) to convert 'sex' and 'embarked' from strings to ints\n",
        "# tk\n",
        "# tk_"
      ],
      "metadata": {
        "id": "Kl3-7X7S_S1w"
      },
      "execution_count": null,
      "outputs": []
    },
    {
      "cell_type": "code",
      "source": [
        "# CHALLENGE: label encode 'Embarked' columns: change S C Q into 0,1,2\n",
        "# tk\n",
        "# tk_"
      ],
      "metadata": {
        "id": "gjMFeBlwRX8e"
      },
      "execution_count": null,
      "outputs": []
    },
    {
      "cell_type": "code",
      "source": [
        "# SPLIT the DATA into TRAINING INPUTS and TRAINING LABELS\n",
        "# X is the training inputs, which is all rows and all cols EXCEPT for the survived column\n",
        "# the training inputs do not contain the survived column, because survived (0,1) is the answer\n",
        "# that we want the model to be able to learn to predict\n",
        "# X : titanic_kag_df[['']].va # X is all rows, all cols except 'survived'\n",
        "# y .il : .va # y is all rows, just first col, so 'survived' col\n",
        "# 'Pclass', 'Sex', 'Age'\n",
        "# 'Pclass','Embarked','Sex','Age','Fare','SibSp','Parch'"
      ],
      "metadata": {
        "id": "ikc9_Ifdwkez"
      },
      "execution_count": null,
      "outputs": []
    },
    {
      "cell_type": "code",
      "source": [
        "print()\n",
        "# X_"
      ],
      "metadata": {
        "colab": {
          "base_uri": "https://localhost:8080/"
        },
        "id": "8S7imxL6oncl",
        "outputId": "a98f9ade-1f8f-4d3f-8c02-f54476f9c733"
      },
      "execution_count": null,
      "outputs": [
        {
          "output_type": "stream",
          "name": "stdout",
          "text": [
            "\n"
          ]
        }
      ]
    },
    {
      "cell_type": "code",
      "source": [
        "# 'Survived'\n",
        "print() # (891,)\n",
        "# y_"
      ],
      "metadata": {
        "id": "09VoWOurv59w",
        "colab": {
          "base_uri": "https://localhost:8080/"
        },
        "outputId": "d81e44f1-5704-48f4-c6dd-677058e86d69"
      },
      "execution_count": null,
      "outputs": [
        {
          "output_type": "stream",
          "name": "stdout",
          "text": [
            "\n"
          ]
        }
      ]
    },
    {
      "cell_type": "markdown",
      "source": [
        "**StandardScaler.fit_transform(col)** creates an \"even playing field\" for the data\n",
        "- it takes a column and recalculates all the values, such that the mean is 0  \n",
        "- 1 standard deviation from the mean is assigned a 1 (or -1)\n",
        "- works best for continuous values (age, fare) and NOT to be used on discrete values (pclass 1,2,3)\n",
        "- for discrete values, we can use one hot encoding instead, whereby each class/category gets its own col (1st, 2nd, 3rd cols from pclass)\n",
        "- bigger numbers (such as age compared to passenger class) are not judged to be more important\n",
        "- 68% of the data will be in the -1 to 1 range (plus or minus 1 standard deviation from the mean)\n",
        "- 95% of the data will be in the -2 to 2 range (plus or minus 1 standard deviation from the mean)\n",
        "\n"
      ],
      "metadata": {
        "id": "wfITrFCPdgJe"
      }
    },
    {
      "cell_type": "code",
      "source": [
        "# instantiate the StandardScaler object:\n",
        "# sc"
      ],
      "metadata": {
        "id": "L9q9t2Agx3vJ"
      },
      "execution_count": null,
      "outputs": []
    },
    {
      "cell_type": "code",
      "source": [
        "# X"
      ],
      "metadata": {
        "id": "tsbyfiI3pWce"
      },
      "execution_count": null,
      "outputs": []
    },
    {
      "cell_type": "code",
      "source": [
        "# The y data is already in the form of 0 to 1 only, so\n",
        "# we only need to scale that -- just scale the X (input) data\n",
        "# use .loc to specify all rows as : and target cols as list of col names\n",
        "# 'Age','Fare'"
      ],
      "metadata": {
        "id": "SP-QBGGvdTW2"
      },
      "execution_count": null,
      "outputs": []
    },
    {
      "cell_type": "code",
      "source": [
        "# X_"
      ],
      "metadata": {
        "id": "So25ls29rYoc"
      },
      "execution_count": null,
      "outputs": []
    },
    {
      "cell_type": "code",
      "source": [
        "# 'images/random-forest-classifier-2.jpg'"
      ],
      "metadata": {
        "id": "-X50-O0HMiP4"
      },
      "execution_count": null,
      "outputs": []
    },
    {
      "cell_type": "code",
      "source": [
        "# 'images/random-forest-tree-w-text.jpg'"
      ],
      "metadata": {
        "id": "akxKBk7CONHE"
      },
      "execution_count": null,
      "outputs": []
    },
    {
      "cell_type": "markdown",
      "source": [
        "- **n_estimators=10**\n",
        "- Definition: Specifies the number of trees in the forest (i.e., the number of decision trees).\n",
        "- Explanation:\n",
        "- In a Random Forest model, multiple decision trees are built, and their predictions are averaged (for regression) or voted on (for classification).\n",
        "- The more trees you have, the more stable and accurate the model can be, although it may take longer to train.\n",
        "- In this case: You are using 10 decision trees.\n",
        "- **criterion='entropy'**\n",
        "- Definition: This parameter specifies the function used to measure the quality of a split when constructing each tree.\n",
        "- Explanation:\n",
        "- The two common criteria are gini (Gini impurity) and entropy (information gain).\n",
        "entropy: Measures how much information is gained by making a split. It uses the concept of information theory to find splits that reduce uncertainty (entropy) in the target labels.\n",
        "gini: Measures the degree of \"impurity\" in the nodes and tends to be slightly faster.\n",
        "- In this case: The Random Forest uses entropy to evaluate how splits reduce the uncertainty of the class labels in the dataset.\n",
        "- **random_state=42**\n",
        "- Definition: This parameter sets the seed for the random number generator.\n",
        "Explanation:\n",
        "- Random Forests introduce randomness by selecting random subsets of data for each tree and selecting random subsets of features for splitting at each node.\n",
        "random_state ensures reproducibility by controlling this randomness. Using the same seed (e.g., 42) ensures the same results across different runs (all else being equal)."
      ],
      "metadata": {
        "id": "BLA8zu1UtadI"
      }
    },
    {
      "cell_type": "code",
      "source": [
        "# instantiate a RandomForestClassifier model:\n",
        "# fo"
      ],
      "metadata": {
        "id": "QMBFMfwBkn_N"
      },
      "execution_count": null,
      "outputs": []
    },
    {
      "cell_type": "markdown",
      "source": [
        "**model.fit(X_train,y_train)** trains the model on the features with labels (that is, it gets the answers along with the questions)"
      ],
      "metadata": {
        "id": "VqvhhY0a7MA3"
      }
    },
    {
      "cell_type": "code",
      "source": [
        "# fo"
      ],
      "metadata": {
        "id": "ZYni8XZy7Fhr"
      },
      "execution_count": null,
      "outputs": []
    },
    {
      "cell_type": "markdown",
      "source": [
        "**predictions_list = model.predict(X_test)** returns a list of model predictions"
      ],
      "metadata": {
        "id": "BNKs6Ulf6QrU"
      }
    },
    {
      "cell_type": "code",
      "source": [
        "# load the test set\n",
        "# tk"
      ],
      "metadata": {
        "id": "i9HyUqv-mm0X"
      },
      "execution_count": null,
      "outputs": []
    },
    {
      "cell_type": "code",
      "source": [
        "print()\n",
        "# t"
      ],
      "metadata": {
        "colab": {
          "base_uri": "https://localhost:8080/"
        },
        "id": "iK5xLvqZzEgG",
        "outputId": "bdbd59db-7b90-474f-9027-6eeaf7647374"
      },
      "execution_count": null,
      "outputs": [
        {
          "output_type": "stream",
          "name": "stdout",
          "text": [
            "\n"
          ]
        }
      ]
    },
    {
      "cell_type": "code",
      "source": [
        "# tk_"
      ],
      "metadata": {
        "id": "N4QLj20BzVs1"
      },
      "execution_count": null,
      "outputs": []
    },
    {
      "cell_type": "code",
      "source": [
        "# there is no 'who' col of 'man', 'woman', 'child' to help fill missing ages\n",
        "# so just fill all age NA w 30\n",
        "# tk_t"
      ],
      "metadata": {
        "id": "rkiHo0Yp7fzh"
      },
      "execution_count": null,
      "outputs": []
    },
    {
      "cell_type": "code",
      "source": [
        "# tk_t"
      ],
      "metadata": {
        "id": "cNgJPZqo0sg6"
      },
      "execution_count": null,
      "outputs": []
    },
    {
      "cell_type": "code",
      "source": [
        "# get the avg fare\n",
        "# avg_\n",
        "# avg_"
      ],
      "metadata": {
        "id": "Ilh7rMI005vj"
      },
      "execution_count": null,
      "outputs": []
    },
    {
      "cell_type": "code",
      "source": [
        "# fill that one and only missing Fare w mean:\n",
        "# tk_"
      ],
      "metadata": {
        "id": "Y8cjmxrB1IKU"
      },
      "execution_count": null,
      "outputs": []
    },
    {
      "cell_type": "code",
      "source": [
        "# tk_"
      ],
      "metadata": {
        "id": "YcLh7LM31O6n"
      },
      "execution_count": null,
      "outputs": []
    },
    {
      "cell_type": "code",
      "source": [
        "# 'Pclass','Embarked','Sex','Age','Fare','SibSp','Parch'"
      ],
      "metadata": {
        "id": "HdHQjrKU1ZJU"
      },
      "execution_count": null,
      "outputs": []
    },
    {
      "cell_type": "code",
      "source": [
        "print()\n",
        "# X_"
      ],
      "metadata": {
        "colab": {
          "base_uri": "https://localhost:8080/"
        },
        "id": "Q9QCBNkC1k-o",
        "outputId": "e2f429f1-6a91-447a-dc8a-708cdb593abd"
      },
      "execution_count": null,
      "outputs": [
        {
          "output_type": "stream",
          "name": "stdout",
          "text": [
            "\n"
          ]
        }
      ]
    },
    {
      "cell_type": "code",
      "source": [
        "# Label Encode the Emparked and Sex cols -- strings become ints\n",
        "# 'Embarked'"
      ],
      "metadata": {
        "id": "q7B8r0Ii13Iy"
      },
      "execution_count": null,
      "outputs": []
    },
    {
      "cell_type": "code",
      "source": [
        "# X_t"
      ],
      "metadata": {
        "id": "rLGfYCiv2qZF"
      },
      "execution_count": null,
      "outputs": []
    },
    {
      "cell_type": "code",
      "source": [
        "# X_t"
      ],
      "metadata": {
        "id": "7bZdpuEpuMon"
      },
      "execution_count": null,
      "outputs": []
    },
    {
      "cell_type": "code",
      "source": [
        "# standard scaler the continuous values (non-categorical)\n",
        "# 'Age','Fare'"
      ],
      "metadata": {
        "id": "hrlZ1JCrudfR"
      },
      "execution_count": null,
      "outputs": []
    },
    {
      "cell_type": "code",
      "source": [
        "# X"
      ],
      "metadata": {
        "id": "drXVOuPn3uIZ"
      },
      "execution_count": null,
      "outputs": []
    },
    {
      "cell_type": "markdown",
      "source": [
        "**testing our model on the test.csv from kaggle**"
      ],
      "metadata": {
        "id": "wG4Sg544WBM0"
      }
    },
    {
      "cell_type": "code",
      "source": [
        "# have the new model predict survival on the kaggle 418 row test set\n",
        "# sur"
      ],
      "metadata": {
        "id": "YwwpyhapytVu"
      },
      "execution_count": null,
      "outputs": []
    },
    {
      "cell_type": "markdown",
      "source": [
        "**imaginary passenger check**"
      ],
      "metadata": {
        "id": "AKQAE3I76xYD"
      }
    },
    {
      "cell_type": "code",
      "source": [
        "# imaginary passenger check\n",
        "# the list must have all 7 expected \"independent variables\" in correct order\n",
        "# Pclass\tSex\tAge\tSibSp\tParch\tFare\tEmbarked\n",
        "# ['male' 'female'] = [1 0]\n",
        "# ['S' 'C' 'Q'] = [2 0 1]\n",
        "\n",
        "# inputs have to be a 2D matrix, so double wrap the list:\n",
        "# 3\t1\t1\t0.339424\t-0.498407\t0\t0\n",
        "# sec [2,\t0, 20, 0,\t0,\t13.5,\t0]\n",
        "# thi [3,\t1, 25, 0,\t0,\t9.5,\t2]\n",
        "# fir [1,\t0, -0.3, 1,\t0,\t0.8,\t1]\n",
        "# [1,\t0, -0.3, 1,\t0,\t0.8,\t1],\n",
        "#                                     [3,\t1,  -0.3, 1,\t0,\t-0.5,\t2],\n",
        "#                                    [3,\t1,  -0.3, 1,\t0,\t-0.5,\t2],\n",
        "#                                    [2,\t1,  -0.3, 1,\t0,\t0.25,\t1]\n",
        "# ima"
      ],
      "metadata": {
        "id": "Vz9201lI74om"
      },
      "execution_count": null,
      "outputs": []
    },
    {
      "cell_type": "code",
      "source": [
        "# ima"
      ],
      "metadata": {
        "id": "elyqGDvO5yEl"
      },
      "execution_count": null,
      "outputs": []
    },
    {
      "cell_type": "code",
      "source": [
        "# imag"
      ],
      "metadata": {
        "id": "EmYAkcnBUheK"
      },
      "execution_count": null,
      "outputs": []
    },
    {
      "cell_type": "markdown",
      "source": [
        "**Kaggle Titanic Survival Prediction Submission File Format:**.\n",
        "\n",
        "- You should submit a csv file with exactly 418 entries plus a header row.\n",
        "- Your submission will show an error if you have extra columns (beyond PassengerId and Survived) or rows.\n",
        "\n",
        "- The file should have exactly 2 columns:\n",
        "\n",
        "  - **PassengerId** (sorted in any order)\n",
        "  - **Survived** (contains your binary predictions: 1 for survived, 0 for deceased)"
      ],
      "metadata": {
        "id": "rvFg70eoMAPT"
      }
    },
    {
      "cell_type": "code",
      "source": [
        "# make a df for our predictions to submit to kaggle\n",
        "# kaggle requires a csv of 2 cols: PassengerId and Survived\n",
        "# my_ti\n",
        "# 'PassengerId'\n",
        "# 'Survived'"
      ],
      "metadata": {
        "id": "voK-tuOaNVM7"
      },
      "execution_count": null,
      "outputs": []
    },
    {
      "cell_type": "code",
      "source": [
        "print()\n",
        "# my"
      ],
      "metadata": {
        "id": "JcrziopgXzB1",
        "colab": {
          "base_uri": "https://localhost:8080/"
        },
        "outputId": "5d1449f7-0d87-4ec5-dc24-57f8aec0f6e6"
      },
      "execution_count": null,
      "outputs": [
        {
          "output_type": "stream",
          "name": "stdout",
          "text": [
            "\n"
          ]
        }
      ]
    },
    {
      "cell_type": "markdown",
      "source": [
        "**saving a dataframe to csv**\n",
        "- **df.to_csv(file_path/file_name, encoding='utf-8', index=False)**\n",
        "- saves df as file_name to file_path\n",
        "- encoding **encoding='utf-8'** just means normal English letters\n",
        "- **index=False** means do not make a column for the index"
      ],
      "metadata": {
        "id": "QhEXFHxmkSVw"
      }
    },
    {
      "cell_type": "code",
      "source": [
        "# save dataframe as csv\n",
        "# index=False prevents the index, which are ints from 0-417 from becoming a 3rd col\n",
        "# my_"
      ],
      "metadata": {
        "id": "rr6rj33cCPwf"
      },
      "execution_count": null,
      "outputs": []
    },
    {
      "cell_type": "code",
      "source": [
        "# load the csv to make sure it worked as expected\n",
        "# my_\n",
        "print() # (418, 3) oops -- we got an extra column\n",
        "# my_\n",
        "# kag_\n",
        "# L@@K: we have an unwanted \"Unnamed: 0\" column of the old index values"
      ],
      "metadata": {
        "id": "qi_w2i4jl0h-",
        "colab": {
          "base_uri": "https://localhost:8080/"
        },
        "outputId": "376d21c6-e8a7-447d-8667-9d8b7dc318cb"
      },
      "execution_count": null,
      "outputs": [
        {
          "output_type": "stream",
          "name": "stdout",
          "text": [
            "\n"
          ]
        }
      ]
    },
    {
      "cell_type": "markdown",
      "source": [
        "- it's all good to go -- time to submit the csv file to kaggle\n",
        "- download the csv file and upload it to kaggle at\n",
        "\n",
        " **https://www.kaggle.com/competitions/titanic**"
      ],
      "metadata": {
        "id": "za4cVEcPRucc"
      }
    }
  ]
}