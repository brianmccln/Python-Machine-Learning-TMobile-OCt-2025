{
 "cells": [
  {
   "cell_type": "markdown",
   "metadata": {
    "id": "OzIBepKuV76X"
   },
   "source": [
    "### **numpy**, **SciPy stats** and **matplotlib** modules  \n",
    "The **numpy** and **SciPy stats** and **matplotlib** modules have many mathematical  \n",
    "and statistical methods used in **Data Science** and **Machine Learning**  \n",
    "\n",
    "Given a collection of numeric values, such as a list, we can compute:\n",
    "\n",
    "- **mean** - the average value (numpy)\n",
    "- **median** - the mid-point value (numpy)\n",
    "- **mode** - the most frequent value (stats)\n",
    "- **standard deviation** - how far a value is from the mean (numpy)\n",
    "- **variance** - standard deviation squared (numpy)\n",
    "\n",
    "We can also generate numpy arrays of *random* numeric values.\n",
    "- **random.uniform** generates random, *uniform* (even) distribution of values\n",
    "- **random.normal** generates random, *normal* (bell curve shaped) distribution of values\n",
    "\n",
    "**matplotlib is for plotting data**\n",
    "- **histogram** shows **frequency distribution** of values: **plt.hist()**   \n",
    "random **uniform** and **normal** distributions can be plotted as a histogram. (matplotlib)\n",
    "- **scatter plot** shows  individual points in **(x,y) space**, as dots:  **plt.scatter()**\n",
    "- **line plot** shows lines in **(x,y) space**: **plt.plot()**\n",
    "- **linear regression** shows **best-fit / trend** lines.  \n",
    "given **x** or **y**, we can *predict* the other value by plotting it on the regression line."
   ]
  },
  {
   "cell_type": "code",
   "execution_count": 144,
   "metadata": {
    "colab": {
     "base_uri": "https://localhost:8080/"
    },
    "executionInfo": {
     "elapsed": 1791,
     "status": "ok",
     "timestamp": 1754322624586,
     "user": {
      "displayName": "Brian McClain",
      "userId": "08063899147261234403"
     },
     "user_tz": 240
    },
    "id": "M8zSMy5ybfRe",
    "outputId": "b144bf60-094c-4db0-eec4-e7c8b6df0737"
   },
   "outputs": [],
   "source": [
    "# 1. connect to Google Drive\n"
   ]
  },
  {
   "cell_type": "code",
   "execution_count": 145,
   "metadata": {},
   "outputs": [
    {
     "name": "stdout",
     "output_type": "stream",
     "text": [
      "Requirement already satisfied: matplotlib in /Users/brianmcclain/anaconda3/lib/python3.10/site-packages (3.7.0)\n",
      "Requirement already satisfied: scipy in /Users/brianmcclain/anaconda3/lib/python3.10/site-packages (1.10.0)\n",
      "Requirement already satisfied: pandas in /Users/brianmcclain/anaconda3/lib/python3.10/site-packages (1.5.3)\n",
      "Requirement already satisfied: IPython in /Users/brianmcclain/anaconda3/lib/python3.10/site-packages (8.10.0)\n",
      "Requirement already satisfied: contourpy>=1.0.1 in /Users/brianmcclain/anaconda3/lib/python3.10/site-packages (from matplotlib) (1.0.5)\n",
      "Requirement already satisfied: cycler>=0.10 in /Users/brianmcclain/anaconda3/lib/python3.10/site-packages (from matplotlib) (0.11.0)\n",
      "Requirement already satisfied: fonttools>=4.22.0 in /Users/brianmcclain/anaconda3/lib/python3.10/site-packages (from matplotlib) (4.25.0)\n",
      "Requirement already satisfied: kiwisolver>=1.0.1 in /Users/brianmcclain/anaconda3/lib/python3.10/site-packages (from matplotlib) (1.4.4)\n",
      "Requirement already satisfied: numpy>=1.20 in /Users/brianmcclain/anaconda3/lib/python3.10/site-packages (from matplotlib) (1.23.5)\n",
      "Requirement already satisfied: packaging>=20.0 in /Users/brianmcclain/anaconda3/lib/python3.10/site-packages (from matplotlib) (22.0)\n",
      "Requirement already satisfied: pillow>=6.2.0 in /Users/brianmcclain/anaconda3/lib/python3.10/site-packages (from matplotlib) (9.4.0)\n",
      "Requirement already satisfied: pyparsing>=2.3.1 in /Users/brianmcclain/anaconda3/lib/python3.10/site-packages (from matplotlib) (3.0.9)\n",
      "Requirement already satisfied: python-dateutil>=2.7 in /Users/brianmcclain/anaconda3/lib/python3.10/site-packages (from matplotlib) (2.8.2)\n",
      "Requirement already satisfied: pytz>=2020.1 in /Users/brianmcclain/anaconda3/lib/python3.10/site-packages (from pandas) (2022.7)\n",
      "Requirement already satisfied: backcall in /Users/brianmcclain/anaconda3/lib/python3.10/site-packages (from IPython) (0.2.0)\n",
      "Requirement already satisfied: decorator in /Users/brianmcclain/anaconda3/lib/python3.10/site-packages (from IPython) (5.1.1)\n",
      "Requirement already satisfied: jedi>=0.16 in /Users/brianmcclain/anaconda3/lib/python3.10/site-packages (from IPython) (0.18.1)\n",
      "Requirement already satisfied: matplotlib-inline in /Users/brianmcclain/anaconda3/lib/python3.10/site-packages (from IPython) (0.1.6)\n",
      "Requirement already satisfied: pickleshare in /Users/brianmcclain/anaconda3/lib/python3.10/site-packages (from IPython) (0.7.5)\n",
      "Requirement already satisfied: prompt-toolkit<3.1.0,>=3.0.30 in /Users/brianmcclain/anaconda3/lib/python3.10/site-packages (from IPython) (3.0.36)\n",
      "Requirement already satisfied: pygments>=2.4.0 in /Users/brianmcclain/anaconda3/lib/python3.10/site-packages (from IPython) (2.17.2)\n",
      "Requirement already satisfied: stack-data in /Users/brianmcclain/anaconda3/lib/python3.10/site-packages (from IPython) (0.2.0)\n",
      "Requirement already satisfied: traitlets>=5 in /Users/brianmcclain/anaconda3/lib/python3.10/site-packages (from IPython) (5.7.1)\n",
      "Requirement already satisfied: pexpect>4.3 in /Users/brianmcclain/anaconda3/lib/python3.10/site-packages (from IPython) (4.8.0)\n",
      "Requirement already satisfied: appnope in /Users/brianmcclain/anaconda3/lib/python3.10/site-packages (from IPython) (0.1.2)\n",
      "Requirement already satisfied: wcwidth in /Users/brianmcclain/anaconda3/lib/python3.10/site-packages (from prompt-toolkit<3.1.0,>=3.0.30->IPython) (0.2.5)\n",
      "Requirement already satisfied: parso<0.9.0,>=0.8.0 in /Users/brianmcclain/anaconda3/lib/python3.10/site-packages (from jedi>=0.16->IPython) (0.8.3)\n",
      "Requirement already satisfied: ptyprocess>=0.5 in /Users/brianmcclain/anaconda3/lib/python3.10/site-packages (from pexpect>4.3->IPython) (0.7.0)\n",
      "Requirement already satisfied: six>=1.5 in /Users/brianmcclain/anaconda3/lib/python3.10/site-packages (from python-dateutil>=2.7->matplotlib) (1.16.0)\n",
      "Requirement already satisfied: executing in /Users/brianmcclain/anaconda3/lib/python3.10/site-packages (from stack-data->IPython) (0.8.3)\n",
      "Requirement already satisfied: asttokens in /Users/brianmcclain/anaconda3/lib/python3.10/site-packages (from stack-data->IPython) (2.0.5)\n",
      "Requirement already satisfied: pure-eval in /Users/brianmcclain/anaconda3/lib/python3.10/site-packages (from stack-data->IPython) (0.2.2)\n",
      "\n",
      "\u001b[1m[\u001b[0m\u001b[34;49mnotice\u001b[0m\u001b[1;39;49m]\u001b[0m\u001b[39;49m A new release of pip is available: \u001b[0m\u001b[31;49m25.1.1\u001b[0m\u001b[39;49m -> \u001b[0m\u001b[32;49m25.2\u001b[0m\n",
      "\u001b[1m[\u001b[0m\u001b[34;49mnotice\u001b[0m\u001b[1;39;49m]\u001b[0m\u001b[39;49m To update, run: \u001b[0m\u001b[32;49mpip install --upgrade pip\u001b[0m\n",
      "Note: you may need to restart the kernel to use updated packages.\n"
     ]
    }
   ],
   "source": [
    "# install libraries if needed:\n",
    "%pip install matplotlib scipy pandas IPython"
   ]
  },
  {
   "cell_type": "code",
   "execution_count": 146,
   "metadata": {
    "executionInfo": {
     "elapsed": 28,
     "status": "ok",
     "timestamp": 1754323979546,
     "user": {
      "displayName": "Brian McClain",
      "userId": "08063899147261234403"
     },
     "user_tz": 240
    },
    "id": "cxtgxURdVefC"
   },
   "outputs": [],
   "source": [
    "# 2. import libraries\n",
    "import numpy as np\n",
    "import pandas as pd\n",
    "import random\n",
    "import matplotlib.pyplot as plt\n",
    "from IPython.display import Image\n",
    "from scipy import stats"
   ]
  },
  {
   "cell_type": "code",
   "execution_count": 147,
   "metadata": {
    "executionInfo": {
     "elapsed": 140,
     "status": "ok",
     "timestamp": 1754322624588,
     "user": {
      "displayName": "Brian McClain",
      "userId": "08063899147261234403"
     },
     "user_tz": 240
    },
    "id": "sMeBK68NeP2E"
   },
   "outputs": [],
   "source": [
    "# 3. set the base URL (the path that is the same for\n",
    "# all items loaded from Google Drive)"
   ]
  },
  {
   "cell_type": "code",
   "execution_count": 148,
   "metadata": {
    "executionInfo": {
     "elapsed": 118,
     "status": "ok",
     "timestamp": 1754322624589,
     "user": {
      "displayName": "Brian McClain",
      "userId": "08063899147261234403"
     },
     "user_tz": 240
    },
    "id": "_Ym3E_KgDImT"
   },
   "outputs": [],
   "source": [
    "car_df = pd.read_csv('../csv/Car_sales.csv')"
   ]
  },
  {
   "cell_type": "code",
   "execution_count": 149,
   "metadata": {
    "colab": {
     "base_uri": "https://localhost:8080/",
     "height": 243
    },
    "executionInfo": {
     "elapsed": 43,
     "status": "ok",
     "timestamp": 1754322624627,
     "user": {
      "displayName": "Brian McClain",
      "userId": "08063899147261234403"
     },
     "user_tz": 240
    },
    "id": "eZm3HTL3DhJP",
    "outputId": "bc572160-c88a-4996-a78f-63653e6163ce"
   },
   "outputs": [
    {
     "name": "stdout",
     "output_type": "stream",
     "text": [
      "(157, 16)\n"
     ]
    },
    {
     "data": {
      "text/html": [
       "<div>\n",
       "<style scoped>\n",
       "    .dataframe tbody tr th:only-of-type {\n",
       "        vertical-align: middle;\n",
       "    }\n",
       "\n",
       "    .dataframe tbody tr th {\n",
       "        vertical-align: top;\n",
       "    }\n",
       "\n",
       "    .dataframe thead th {\n",
       "        text-align: right;\n",
       "    }\n",
       "</style>\n",
       "<table border=\"1\" class=\"dataframe\">\n",
       "  <thead>\n",
       "    <tr style=\"text-align: right;\">\n",
       "      <th></th>\n",
       "      <th>Manufacturer</th>\n",
       "      <th>Model</th>\n",
       "      <th>Sales_in_thousands</th>\n",
       "      <th>__year_resale_value</th>\n",
       "      <th>Vehicle_type</th>\n",
       "      <th>Price_in_thousands</th>\n",
       "      <th>Engine_size</th>\n",
       "      <th>Horsepower</th>\n",
       "      <th>Wheelbase</th>\n",
       "      <th>Width</th>\n",
       "      <th>Length</th>\n",
       "      <th>Curb_weight</th>\n",
       "      <th>Fuel_capacity</th>\n",
       "      <th>Fuel_efficiency</th>\n",
       "      <th>Latest_Launch</th>\n",
       "      <th>Power_perf_factor</th>\n",
       "    </tr>\n",
       "  </thead>\n",
       "  <tbody>\n",
       "    <tr>\n",
       "      <th>0</th>\n",
       "      <td>Acura</td>\n",
       "      <td>Integra</td>\n",
       "      <td>16.919</td>\n",
       "      <td>16.360</td>\n",
       "      <td>Passenger</td>\n",
       "      <td>21.50</td>\n",
       "      <td>1.8</td>\n",
       "      <td>140.0</td>\n",
       "      <td>101.2</td>\n",
       "      <td>67.3</td>\n",
       "      <td>172.4</td>\n",
       "      <td>2.639</td>\n",
       "      <td>13.2</td>\n",
       "      <td>28.0</td>\n",
       "      <td>2/2/2012</td>\n",
       "      <td>58.280150</td>\n",
       "    </tr>\n",
       "    <tr>\n",
       "      <th>1</th>\n",
       "      <td>Acura</td>\n",
       "      <td>TL</td>\n",
       "      <td>39.384</td>\n",
       "      <td>19.875</td>\n",
       "      <td>Passenger</td>\n",
       "      <td>28.40</td>\n",
       "      <td>3.2</td>\n",
       "      <td>225.0</td>\n",
       "      <td>108.1</td>\n",
       "      <td>70.3</td>\n",
       "      <td>192.9</td>\n",
       "      <td>3.517</td>\n",
       "      <td>17.2</td>\n",
       "      <td>25.0</td>\n",
       "      <td>6/3/2011</td>\n",
       "      <td>91.370778</td>\n",
       "    </tr>\n",
       "    <tr>\n",
       "      <th>2</th>\n",
       "      <td>Acura</td>\n",
       "      <td>CL</td>\n",
       "      <td>14.114</td>\n",
       "      <td>18.225</td>\n",
       "      <td>Passenger</td>\n",
       "      <td>NaN</td>\n",
       "      <td>3.2</td>\n",
       "      <td>225.0</td>\n",
       "      <td>106.9</td>\n",
       "      <td>70.6</td>\n",
       "      <td>192.0</td>\n",
       "      <td>3.470</td>\n",
       "      <td>17.2</td>\n",
       "      <td>26.0</td>\n",
       "      <td>1/4/2012</td>\n",
       "      <td>NaN</td>\n",
       "    </tr>\n",
       "    <tr>\n",
       "      <th>3</th>\n",
       "      <td>Acura</td>\n",
       "      <td>RL</td>\n",
       "      <td>8.588</td>\n",
       "      <td>29.725</td>\n",
       "      <td>Passenger</td>\n",
       "      <td>42.00</td>\n",
       "      <td>3.5</td>\n",
       "      <td>210.0</td>\n",
       "      <td>114.6</td>\n",
       "      <td>71.4</td>\n",
       "      <td>196.6</td>\n",
       "      <td>3.850</td>\n",
       "      <td>18.0</td>\n",
       "      <td>22.0</td>\n",
       "      <td>3/10/2011</td>\n",
       "      <td>91.389779</td>\n",
       "    </tr>\n",
       "    <tr>\n",
       "      <th>4</th>\n",
       "      <td>Audi</td>\n",
       "      <td>A4</td>\n",
       "      <td>20.397</td>\n",
       "      <td>22.255</td>\n",
       "      <td>Passenger</td>\n",
       "      <td>23.99</td>\n",
       "      <td>1.8</td>\n",
       "      <td>150.0</td>\n",
       "      <td>102.6</td>\n",
       "      <td>68.2</td>\n",
       "      <td>178.0</td>\n",
       "      <td>2.998</td>\n",
       "      <td>16.4</td>\n",
       "      <td>27.0</td>\n",
       "      <td>10/8/2011</td>\n",
       "      <td>62.777639</td>\n",
       "    </tr>\n",
       "  </tbody>\n",
       "</table>\n",
       "</div>"
      ],
      "text/plain": [
       "  Manufacturer    Model  Sales_in_thousands  __year_resale_value Vehicle_type  \\\n",
       "0        Acura  Integra              16.919               16.360    Passenger   \n",
       "1        Acura       TL              39.384               19.875    Passenger   \n",
       "2        Acura       CL              14.114               18.225    Passenger   \n",
       "3        Acura       RL               8.588               29.725    Passenger   \n",
       "4         Audi       A4              20.397               22.255    Passenger   \n",
       "\n",
       "   Price_in_thousands  Engine_size  Horsepower  Wheelbase  Width  Length  \\\n",
       "0               21.50          1.8       140.0      101.2   67.3   172.4   \n",
       "1               28.40          3.2       225.0      108.1   70.3   192.9   \n",
       "2                 NaN          3.2       225.0      106.9   70.6   192.0   \n",
       "3               42.00          3.5       210.0      114.6   71.4   196.6   \n",
       "4               23.99          1.8       150.0      102.6   68.2   178.0   \n",
       "\n",
       "   Curb_weight  Fuel_capacity  Fuel_efficiency Latest_Launch  \\\n",
       "0        2.639           13.2             28.0      2/2/2012   \n",
       "1        3.517           17.2             25.0      6/3/2011   \n",
       "2        3.470           17.2             26.0      1/4/2012   \n",
       "3        3.850           18.0             22.0     3/10/2011   \n",
       "4        2.998           16.4             27.0     10/8/2011   \n",
       "\n",
       "   Power_perf_factor  \n",
       "0          58.280150  \n",
       "1          91.370778  \n",
       "2                NaN  \n",
       "3          91.389779  \n",
       "4          62.777639  "
      ]
     },
     "execution_count": 149,
     "metadata": {},
     "output_type": "execute_result"
    }
   ],
   "source": [
    "print(car_df.shape) # (157, 16)\n",
    "car_df.head() # rows 1-5"
   ]
  },
  {
   "cell_type": "code",
   "execution_count": 150,
   "metadata": {
    "colab": {
     "base_uri": "https://localhost:8080/",
     "height": 143
    },
    "executionInfo": {
     "elapsed": 5,
     "status": "ok",
     "timestamp": 1754322624634,
     "user": {
      "displayName": "Brian McClain",
      "userId": "08063899147261234403"
     },
     "user_tz": 240
    },
    "id": "ZoIsu8FYS22y",
    "outputId": "76dcc702-b217-4909-f1a2-cfa89f2c651c"
   },
   "outputs": [
    {
     "data": {
      "text/html": [
       "<div>\n",
       "<style scoped>\n",
       "    .dataframe tbody tr th:only-of-type {\n",
       "        vertical-align: middle;\n",
       "    }\n",
       "\n",
       "    .dataframe tbody tr th {\n",
       "        vertical-align: top;\n",
       "    }\n",
       "\n",
       "    .dataframe thead th {\n",
       "        text-align: right;\n",
       "    }\n",
       "</style>\n",
       "<table border=\"1\" class=\"dataframe\">\n",
       "  <thead>\n",
       "    <tr style=\"text-align: right;\">\n",
       "      <th></th>\n",
       "      <th>Manufacturer</th>\n",
       "      <th>Model</th>\n",
       "      <th>Sales_in_thousands</th>\n",
       "    </tr>\n",
       "  </thead>\n",
       "  <tbody>\n",
       "    <tr>\n",
       "      <th>0</th>\n",
       "      <td>Acura</td>\n",
       "      <td>Integra</td>\n",
       "      <td>16.919</td>\n",
       "    </tr>\n",
       "    <tr>\n",
       "      <th>1</th>\n",
       "      <td>Acura</td>\n",
       "      <td>TL</td>\n",
       "      <td>39.384</td>\n",
       "    </tr>\n",
       "    <tr>\n",
       "      <th>2</th>\n",
       "      <td>Acura</td>\n",
       "      <td>CL</td>\n",
       "      <td>14.114</td>\n",
       "    </tr>\n",
       "  </tbody>\n",
       "</table>\n",
       "</div>"
      ],
      "text/plain": [
       "  Manufacturer    Model  Sales_in_thousands\n",
       "0        Acura  Integra              16.919\n",
       "1        Acura       TL              39.384\n",
       "2        Acura       CL              14.114"
      ]
     },
     "execution_count": 150,
     "metadata": {},
     "output_type": "execute_result"
    }
   ],
   "source": [
    "# loc vs iloc: loc takes col names and index names\n",
    "# with loc end name is NOT exclusive -- it is INCLUSIVE\n",
    "# using loc, get the first 3 rows first 3 cols (3x3 in the upper left corner)\n",
    "car_df.loc[:2, \"Manufacturer\":\"Sales_in_thousands\"]"
   ]
  },
  {
   "cell_type": "code",
   "execution_count": 151,
   "metadata": {
    "colab": {
     "base_uri": "https://localhost:8080/",
     "height": 143
    },
    "executionInfo": {
     "elapsed": 4,
     "status": "ok",
     "timestamp": 1754322624640,
     "user": {
      "displayName": "Brian McClain",
      "userId": "08063899147261234403"
     },
     "user_tz": 240
    },
    "id": "jq7o_M1iTc3H",
    "outputId": "192759f8-06ae-49b2-b6d7-bddd8d2e0be1"
   },
   "outputs": [
    {
     "data": {
      "text/html": [
       "<div>\n",
       "<style scoped>\n",
       "    .dataframe tbody tr th:only-of-type {\n",
       "        vertical-align: middle;\n",
       "    }\n",
       "\n",
       "    .dataframe tbody tr th {\n",
       "        vertical-align: top;\n",
       "    }\n",
       "\n",
       "    .dataframe thead th {\n",
       "        text-align: right;\n",
       "    }\n",
       "</style>\n",
       "<table border=\"1\" class=\"dataframe\">\n",
       "  <thead>\n",
       "    <tr style=\"text-align: right;\">\n",
       "      <th></th>\n",
       "      <th>Manufacturer</th>\n",
       "      <th>Model</th>\n",
       "      <th>Sales_in_thousands</th>\n",
       "    </tr>\n",
       "  </thead>\n",
       "  <tbody>\n",
       "    <tr>\n",
       "      <th>0</th>\n",
       "      <td>Acura</td>\n",
       "      <td>Integra</td>\n",
       "      <td>16.919</td>\n",
       "    </tr>\n",
       "    <tr>\n",
       "      <th>1</th>\n",
       "      <td>Acura</td>\n",
       "      <td>TL</td>\n",
       "      <td>39.384</td>\n",
       "    </tr>\n",
       "    <tr>\n",
       "      <th>2</th>\n",
       "      <td>Acura</td>\n",
       "      <td>CL</td>\n",
       "      <td>14.114</td>\n",
       "    </tr>\n",
       "  </tbody>\n",
       "</table>\n",
       "</div>"
      ],
      "text/plain": [
       "  Manufacturer    Model  Sales_in_thousands\n",
       "0        Acura  Integra              16.919\n",
       "1        Acura       TL              39.384\n",
       "2        Acura       CL              14.114"
      ]
     },
     "execution_count": 151,
     "metadata": {},
     "output_type": "execute_result"
    }
   ],
   "source": [
    "# challenge : same as above, but with iloc instead of loc\n",
    "car_df.iloc[:3, :3]"
   ]
  },
  {
   "cell_type": "code",
   "execution_count": 152,
   "metadata": {
    "colab": {
     "base_uri": "https://localhost:8080/",
     "height": 143
    },
    "executionInfo": {
     "elapsed": 4,
     "status": "ok",
     "timestamp": 1754322624646,
     "user": {
      "displayName": "Brian McClain",
      "userId": "08063899147261234403"
     },
     "user_tz": 240
    },
    "id": "o1DiuQ5VUNY3",
    "outputId": "18a1da6d-d4c8-4b81-c2d6-41cbd31114c0"
   },
   "outputs": [
    {
     "data": {
      "text/html": [
       "<div>\n",
       "<style scoped>\n",
       "    .dataframe tbody tr th:only-of-type {\n",
       "        vertical-align: middle;\n",
       "    }\n",
       "\n",
       "    .dataframe tbody tr th {\n",
       "        vertical-align: top;\n",
       "    }\n",
       "\n",
       "    .dataframe thead th {\n",
       "        text-align: right;\n",
       "    }\n",
       "</style>\n",
       "<table border=\"1\" class=\"dataframe\">\n",
       "  <thead>\n",
       "    <tr style=\"text-align: right;\">\n",
       "      <th></th>\n",
       "      <th>Fuel_efficiency</th>\n",
       "      <th>Latest_Launch</th>\n",
       "      <th>Power_perf_factor</th>\n",
       "    </tr>\n",
       "  </thead>\n",
       "  <tbody>\n",
       "    <tr>\n",
       "      <th>154</th>\n",
       "      <td>25.0</td>\n",
       "      <td>6/25/2011</td>\n",
       "      <td>71.155978</td>\n",
       "    </tr>\n",
       "    <tr>\n",
       "      <th>155</th>\n",
       "      <td>23.0</td>\n",
       "      <td>4/26/2011</td>\n",
       "      <td>101.623357</td>\n",
       "    </tr>\n",
       "    <tr>\n",
       "      <th>156</th>\n",
       "      <td>24.0</td>\n",
       "      <td>11/14/2011</td>\n",
       "      <td>85.735655</td>\n",
       "    </tr>\n",
       "  </tbody>\n",
       "</table>\n",
       "</div>"
      ],
      "text/plain": [
       "     Fuel_efficiency Latest_Launch  Power_perf_factor\n",
       "154             25.0     6/25/2011          71.155978\n",
       "155             23.0     4/26/2011         101.623357\n",
       "156             24.0    11/14/2011          85.735655"
      ]
     },
     "execution_count": 152,
     "metadata": {},
     "output_type": "execute_result"
    }
   ],
   "source": [
    "# challenge : same as above, with both .loc and .iloc versions\n",
    "# BUT get the lower RIGHT 3x3\n",
    "# first the .loc version:\n",
    "car_df.loc[154:156, \"Fuel_efficiency\":\"Power_perf_factor\"]"
   ]
  },
  {
   "cell_type": "code",
   "execution_count": 153,
   "metadata": {
    "colab": {
     "base_uri": "https://localhost:8080/",
     "height": 143
    },
    "executionInfo": {
     "elapsed": 4,
     "status": "ok",
     "timestamp": 1754322624652,
     "user": {
      "displayName": "Brian McClain",
      "userId": "08063899147261234403"
     },
     "user_tz": 240
    },
    "id": "EGaZ_UoRjFVW",
    "outputId": "d5cb6ce9-c6ef-4e32-945c-f1b58b32f62e"
   },
   "outputs": [
    {
     "data": {
      "text/html": [
       "<div>\n",
       "<style scoped>\n",
       "    .dataframe tbody tr th:only-of-type {\n",
       "        vertical-align: middle;\n",
       "    }\n",
       "\n",
       "    .dataframe tbody tr th {\n",
       "        vertical-align: top;\n",
       "    }\n",
       "\n",
       "    .dataframe thead th {\n",
       "        text-align: right;\n",
       "    }\n",
       "</style>\n",
       "<table border=\"1\" class=\"dataframe\">\n",
       "  <thead>\n",
       "    <tr style=\"text-align: right;\">\n",
       "      <th></th>\n",
       "      <th>Fuel_efficiency</th>\n",
       "      <th>Latest_Launch</th>\n",
       "      <th>Power_perf_factor</th>\n",
       "    </tr>\n",
       "  </thead>\n",
       "  <tbody>\n",
       "    <tr>\n",
       "      <th>154</th>\n",
       "      <td>25.0</td>\n",
       "      <td>6/25/2011</td>\n",
       "      <td>71.155978</td>\n",
       "    </tr>\n",
       "    <tr>\n",
       "      <th>155</th>\n",
       "      <td>23.0</td>\n",
       "      <td>4/26/2011</td>\n",
       "      <td>101.623357</td>\n",
       "    </tr>\n",
       "    <tr>\n",
       "      <th>156</th>\n",
       "      <td>24.0</td>\n",
       "      <td>11/14/2011</td>\n",
       "      <td>85.735655</td>\n",
       "    </tr>\n",
       "  </tbody>\n",
       "</table>\n",
       "</div>"
      ],
      "text/plain": [
       "     Fuel_efficiency Latest_Launch  Power_perf_factor\n",
       "154             25.0     6/25/2011          71.155978\n",
       "155             23.0     4/26/2011         101.623357\n",
       "156             24.0    11/14/2011          85.735655"
      ]
     },
     "execution_count": 153,
     "metadata": {},
     "output_type": "execute_result"
    }
   ],
   "source": [
    "# challenge : same as above, with both .loc and .iloc versions\n",
    "# BUT get the lower RIGHT 3x3\n",
    "# then the .iloc version:\n",
    "car_df.iloc[-3:, -3:]"
   ]
  },
  {
   "cell_type": "code",
   "execution_count": 154,
   "metadata": {
    "colab": {
     "base_uri": "https://localhost:8080/"
    },
    "executionInfo": {
     "elapsed": 82,
     "status": "ok",
     "timestamp": 1754322624735,
     "user": {
      "displayName": "Brian McClain",
      "userId": "08063899147261234403"
     },
     "user_tz": 240
    },
    "id": "7PtcikEDU3Wz",
    "outputId": "8be46b33-494d-4ea0-c38a-958ed7c81f75"
   },
   "outputs": [
    {
     "name": "stdout",
     "output_type": "stream",
     "text": [
      "car_df_cols_list:\n",
      " ['Manufacturer', 'Model', 'Sales_in_thousands', '__year_resale_value', 'Vehicle_type', 'Price_in_thousands', 'Engine_size', 'Horsepower', 'Wheelbase', 'Width', 'Length', 'Curb_weight', 'Fuel_capacity', 'Fuel_efficiency', 'Latest_Launch', 'Power_perf_factor']\n",
      "num_rows: 157\n"
     ]
    }
   ],
   "source": [
    "# make a list of just the column names\n",
    "car_df_cols_list = list(car_df.columns)\n",
    "print('car_df_cols_list:\\n', car_df_cols_list)\n",
    "# get the length (num rows)\n",
    "num_rows = len(car_df.index)\n",
    "print('num_rows:', num_rows)"
   ]
  },
  {
   "cell_type": "code",
   "execution_count": 155,
   "metadata": {},
   "outputs": [
    {
     "name": "stdout",
     "output_type": "stream",
     "text": [
      "<class 'pandas.core.frame.DataFrame'>\n",
      "RangeIndex: 157 entries, 0 to 156\n",
      "Data columns (total 16 columns):\n",
      " #   Column               Non-Null Count  Dtype  \n",
      "---  ------               --------------  -----  \n",
      " 0   Manufacturer         157 non-null    object \n",
      " 1   Model                157 non-null    object \n",
      " 2   Sales_in_thousands   157 non-null    float64\n",
      " 3   __year_resale_value  121 non-null    float64\n",
      " 4   Vehicle_type         157 non-null    object \n",
      " 5   Price_in_thousands   155 non-null    float64\n",
      " 6   Engine_size          156 non-null    float64\n",
      " 7   Horsepower           156 non-null    float64\n",
      " 8   Wheelbase            156 non-null    float64\n",
      " 9   Width                156 non-null    float64\n",
      " 10  Length               156 non-null    float64\n",
      " 11  Curb_weight          155 non-null    float64\n",
      " 12  Fuel_capacity        156 non-null    float64\n",
      " 13  Fuel_efficiency      154 non-null    float64\n",
      " 14  Latest_Launch        157 non-null    object \n",
      " 15  Power_perf_factor    155 non-null    float64\n",
      "dtypes: float64(12), object(4)\n",
      "memory usage: 19.8+ KB\n"
     ]
    }
   ],
   "source": [
    "car_df.info()"
   ]
  },
  {
   "cell_type": "code",
   "execution_count": 156,
   "metadata": {
    "executionInfo": {
     "elapsed": 35,
     "status": "ok",
     "timestamp": 1754322624777,
     "user": {
      "displayName": "Brian McClain",
      "userId": "08063899147261234403"
     },
     "user_tz": 240
    },
    "id": "Reyx3SyMKNJV"
   },
   "outputs": [],
   "source": [
    "# a bit more dataframe practice:\n",
    "# drop, move and rename cols\n",
    "car_df.drop(columns=\"__year_resale_value\", inplace=True)\n",
    "# a.) drop \"__year_resale_value\" (missing a lot of data)\n",
    "# \"__year_resale_value\""
   ]
  },
  {
   "cell_type": "code",
   "execution_count": 157,
   "metadata": {},
   "outputs": [
    {
     "name": "stdout",
     "output_type": "stream",
     "text": [
      "(157, 15)\n"
     ]
    },
    {
     "data": {
      "text/html": [
       "<div>\n",
       "<style scoped>\n",
       "    .dataframe tbody tr th:only-of-type {\n",
       "        vertical-align: middle;\n",
       "    }\n",
       "\n",
       "    .dataframe tbody tr th {\n",
       "        vertical-align: top;\n",
       "    }\n",
       "\n",
       "    .dataframe thead th {\n",
       "        text-align: right;\n",
       "    }\n",
       "</style>\n",
       "<table border=\"1\" class=\"dataframe\">\n",
       "  <thead>\n",
       "    <tr style=\"text-align: right;\">\n",
       "      <th></th>\n",
       "      <th>Manufacturer</th>\n",
       "      <th>Model</th>\n",
       "      <th>Sales_in_thousands</th>\n",
       "      <th>Vehicle_type</th>\n",
       "      <th>Price_in_thousands</th>\n",
       "      <th>Engine_size</th>\n",
       "      <th>Horsepower</th>\n",
       "      <th>Wheelbase</th>\n",
       "      <th>Width</th>\n",
       "      <th>Length</th>\n",
       "      <th>Curb_weight</th>\n",
       "      <th>Fuel_capacity</th>\n",
       "      <th>Fuel_efficiency</th>\n",
       "      <th>Latest_Launch</th>\n",
       "      <th>Power_perf_factor</th>\n",
       "    </tr>\n",
       "  </thead>\n",
       "  <tbody>\n",
       "    <tr>\n",
       "      <th>0</th>\n",
       "      <td>Acura</td>\n",
       "      <td>Integra</td>\n",
       "      <td>16.919</td>\n",
       "      <td>Passenger</td>\n",
       "      <td>21.50</td>\n",
       "      <td>1.8</td>\n",
       "      <td>140.0</td>\n",
       "      <td>101.2</td>\n",
       "      <td>67.3</td>\n",
       "      <td>172.4</td>\n",
       "      <td>2.639</td>\n",
       "      <td>13.2</td>\n",
       "      <td>28.0</td>\n",
       "      <td>2/2/2012</td>\n",
       "      <td>58.280150</td>\n",
       "    </tr>\n",
       "    <tr>\n",
       "      <th>1</th>\n",
       "      <td>Acura</td>\n",
       "      <td>TL</td>\n",
       "      <td>39.384</td>\n",
       "      <td>Passenger</td>\n",
       "      <td>28.40</td>\n",
       "      <td>3.2</td>\n",
       "      <td>225.0</td>\n",
       "      <td>108.1</td>\n",
       "      <td>70.3</td>\n",
       "      <td>192.9</td>\n",
       "      <td>3.517</td>\n",
       "      <td>17.2</td>\n",
       "      <td>25.0</td>\n",
       "      <td>6/3/2011</td>\n",
       "      <td>91.370778</td>\n",
       "    </tr>\n",
       "    <tr>\n",
       "      <th>2</th>\n",
       "      <td>Acura</td>\n",
       "      <td>CL</td>\n",
       "      <td>14.114</td>\n",
       "      <td>Passenger</td>\n",
       "      <td>NaN</td>\n",
       "      <td>3.2</td>\n",
       "      <td>225.0</td>\n",
       "      <td>106.9</td>\n",
       "      <td>70.6</td>\n",
       "      <td>192.0</td>\n",
       "      <td>3.470</td>\n",
       "      <td>17.2</td>\n",
       "      <td>26.0</td>\n",
       "      <td>1/4/2012</td>\n",
       "      <td>NaN</td>\n",
       "    </tr>\n",
       "    <tr>\n",
       "      <th>3</th>\n",
       "      <td>Acura</td>\n",
       "      <td>RL</td>\n",
       "      <td>8.588</td>\n",
       "      <td>Passenger</td>\n",
       "      <td>42.00</td>\n",
       "      <td>3.5</td>\n",
       "      <td>210.0</td>\n",
       "      <td>114.6</td>\n",
       "      <td>71.4</td>\n",
       "      <td>196.6</td>\n",
       "      <td>3.850</td>\n",
       "      <td>18.0</td>\n",
       "      <td>22.0</td>\n",
       "      <td>3/10/2011</td>\n",
       "      <td>91.389779</td>\n",
       "    </tr>\n",
       "    <tr>\n",
       "      <th>4</th>\n",
       "      <td>Audi</td>\n",
       "      <td>A4</td>\n",
       "      <td>20.397</td>\n",
       "      <td>Passenger</td>\n",
       "      <td>23.99</td>\n",
       "      <td>1.8</td>\n",
       "      <td>150.0</td>\n",
       "      <td>102.6</td>\n",
       "      <td>68.2</td>\n",
       "      <td>178.0</td>\n",
       "      <td>2.998</td>\n",
       "      <td>16.4</td>\n",
       "      <td>27.0</td>\n",
       "      <td>10/8/2011</td>\n",
       "      <td>62.777639</td>\n",
       "    </tr>\n",
       "    <tr>\n",
       "      <th>...</th>\n",
       "      <td>...</td>\n",
       "      <td>...</td>\n",
       "      <td>...</td>\n",
       "      <td>...</td>\n",
       "      <td>...</td>\n",
       "      <td>...</td>\n",
       "      <td>...</td>\n",
       "      <td>...</td>\n",
       "      <td>...</td>\n",
       "      <td>...</td>\n",
       "      <td>...</td>\n",
       "      <td>...</td>\n",
       "      <td>...</td>\n",
       "      <td>...</td>\n",
       "      <td>...</td>\n",
       "    </tr>\n",
       "    <tr>\n",
       "      <th>152</th>\n",
       "      <td>Volvo</td>\n",
       "      <td>V40</td>\n",
       "      <td>3.545</td>\n",
       "      <td>Passenger</td>\n",
       "      <td>24.40</td>\n",
       "      <td>1.9</td>\n",
       "      <td>160.0</td>\n",
       "      <td>100.5</td>\n",
       "      <td>67.6</td>\n",
       "      <td>176.6</td>\n",
       "      <td>3.042</td>\n",
       "      <td>15.8</td>\n",
       "      <td>25.0</td>\n",
       "      <td>9/21/2011</td>\n",
       "      <td>66.498812</td>\n",
       "    </tr>\n",
       "    <tr>\n",
       "      <th>153</th>\n",
       "      <td>Volvo</td>\n",
       "      <td>S70</td>\n",
       "      <td>15.245</td>\n",
       "      <td>Passenger</td>\n",
       "      <td>27.50</td>\n",
       "      <td>2.4</td>\n",
       "      <td>168.0</td>\n",
       "      <td>104.9</td>\n",
       "      <td>69.3</td>\n",
       "      <td>185.9</td>\n",
       "      <td>3.208</td>\n",
       "      <td>17.9</td>\n",
       "      <td>25.0</td>\n",
       "      <td>11/24/2012</td>\n",
       "      <td>70.654495</td>\n",
       "    </tr>\n",
       "    <tr>\n",
       "      <th>154</th>\n",
       "      <td>Volvo</td>\n",
       "      <td>V70</td>\n",
       "      <td>17.531</td>\n",
       "      <td>Passenger</td>\n",
       "      <td>28.80</td>\n",
       "      <td>2.4</td>\n",
       "      <td>168.0</td>\n",
       "      <td>104.9</td>\n",
       "      <td>69.3</td>\n",
       "      <td>186.2</td>\n",
       "      <td>3.259</td>\n",
       "      <td>17.9</td>\n",
       "      <td>25.0</td>\n",
       "      <td>6/25/2011</td>\n",
       "      <td>71.155978</td>\n",
       "    </tr>\n",
       "    <tr>\n",
       "      <th>155</th>\n",
       "      <td>Volvo</td>\n",
       "      <td>C70</td>\n",
       "      <td>3.493</td>\n",
       "      <td>Passenger</td>\n",
       "      <td>45.50</td>\n",
       "      <td>2.3</td>\n",
       "      <td>236.0</td>\n",
       "      <td>104.9</td>\n",
       "      <td>71.5</td>\n",
       "      <td>185.7</td>\n",
       "      <td>3.601</td>\n",
       "      <td>18.5</td>\n",
       "      <td>23.0</td>\n",
       "      <td>4/26/2011</td>\n",
       "      <td>101.623357</td>\n",
       "    </tr>\n",
       "    <tr>\n",
       "      <th>156</th>\n",
       "      <td>Volvo</td>\n",
       "      <td>S80</td>\n",
       "      <td>18.969</td>\n",
       "      <td>Passenger</td>\n",
       "      <td>36.00</td>\n",
       "      <td>2.9</td>\n",
       "      <td>201.0</td>\n",
       "      <td>109.9</td>\n",
       "      <td>72.1</td>\n",
       "      <td>189.8</td>\n",
       "      <td>3.600</td>\n",
       "      <td>21.1</td>\n",
       "      <td>24.0</td>\n",
       "      <td>11/14/2011</td>\n",
       "      <td>85.735655</td>\n",
       "    </tr>\n",
       "  </tbody>\n",
       "</table>\n",
       "<p>157 rows × 15 columns</p>\n",
       "</div>"
      ],
      "text/plain": [
       "    Manufacturer    Model  Sales_in_thousands Vehicle_type  \\\n",
       "0          Acura  Integra              16.919    Passenger   \n",
       "1          Acura       TL              39.384    Passenger   \n",
       "2          Acura       CL              14.114    Passenger   \n",
       "3          Acura       RL               8.588    Passenger   \n",
       "4           Audi       A4              20.397    Passenger   \n",
       "..           ...      ...                 ...          ...   \n",
       "152        Volvo      V40               3.545    Passenger   \n",
       "153        Volvo      S70              15.245    Passenger   \n",
       "154        Volvo      V70              17.531    Passenger   \n",
       "155        Volvo      C70               3.493    Passenger   \n",
       "156        Volvo      S80              18.969    Passenger   \n",
       "\n",
       "     Price_in_thousands  Engine_size  Horsepower  Wheelbase  Width  Length  \\\n",
       "0                 21.50          1.8       140.0      101.2   67.3   172.4   \n",
       "1                 28.40          3.2       225.0      108.1   70.3   192.9   \n",
       "2                   NaN          3.2       225.0      106.9   70.6   192.0   \n",
       "3                 42.00          3.5       210.0      114.6   71.4   196.6   \n",
       "4                 23.99          1.8       150.0      102.6   68.2   178.0   \n",
       "..                  ...          ...         ...        ...    ...     ...   \n",
       "152               24.40          1.9       160.0      100.5   67.6   176.6   \n",
       "153               27.50          2.4       168.0      104.9   69.3   185.9   \n",
       "154               28.80          2.4       168.0      104.9   69.3   186.2   \n",
       "155               45.50          2.3       236.0      104.9   71.5   185.7   \n",
       "156               36.00          2.9       201.0      109.9   72.1   189.8   \n",
       "\n",
       "     Curb_weight  Fuel_capacity  Fuel_efficiency Latest_Launch  \\\n",
       "0          2.639           13.2             28.0      2/2/2012   \n",
       "1          3.517           17.2             25.0      6/3/2011   \n",
       "2          3.470           17.2             26.0      1/4/2012   \n",
       "3          3.850           18.0             22.0     3/10/2011   \n",
       "4          2.998           16.4             27.0     10/8/2011   \n",
       "..           ...            ...              ...           ...   \n",
       "152        3.042           15.8             25.0     9/21/2011   \n",
       "153        3.208           17.9             25.0    11/24/2012   \n",
       "154        3.259           17.9             25.0     6/25/2011   \n",
       "155        3.601           18.5             23.0     4/26/2011   \n",
       "156        3.600           21.1             24.0    11/14/2011   \n",
       "\n",
       "     Power_perf_factor  \n",
       "0            58.280150  \n",
       "1            91.370778  \n",
       "2                  NaN  \n",
       "3            91.389779  \n",
       "4            62.777639  \n",
       "..                 ...  \n",
       "152          66.498812  \n",
       "153          70.654495  \n",
       "154          71.155978  \n",
       "155         101.623357  \n",
       "156          85.735655  \n",
       "\n",
       "[157 rows x 15 columns]"
      ]
     },
     "execution_count": 157,
     "metadata": {},
     "output_type": "execute_result"
    }
   ],
   "source": [
    "print(car_df.shape) # (157, 15)\n",
    "car_df"
   ]
  },
  {
   "cell_type": "code",
   "execution_count": 158,
   "metadata": {
    "colab": {
     "base_uri": "https://localhost:8080/"
    },
    "executionInfo": {
     "elapsed": 39,
     "status": "ok",
     "timestamp": 1754322625014,
     "user": {
      "displayName": "Brian McClain",
      "userId": "08063899147261234403"
     },
     "user_tz": 240
    },
    "id": "i70N380ElxIz",
    "outputId": "6b349bed-0c8a-4bba-91b7-0fcd3ebd3e17"
   },
   "outputs": [
    {
     "name": "stdout",
     "output_type": "stream",
     "text": [
      "car_df_cols_list:\n",
      " ['Manufacturer', 'Model', 'Sales_in_thousands', 'Vehicle_type', 'Price_in_thousands', 'Engine_size', 'Horsepower', 'Wheelbase', 'Width', 'Length', 'Curb_weight', 'Fuel_capacity', 'Fuel_efficiency', 'Latest_Launch', 'Power_perf_factor']\n",
      "curb_wt_index: 10\n"
     ]
    }
   ],
   "source": [
    "car_df_cols_list = list(car_df.columns)\n",
    "print('car_df_cols_list:\\n',car_df_cols_list)\n",
    "\n",
    "# b.) move 'Wheelbase' to be between 'Length and 'Curb_weight'\n",
    "# get the index of 'Curb_weight' col so that we know where to insert 'Wheelbase'; list.index(item) returns the numeric position (index) of the item in the list\n",
    "curb_wt_index = car_df_cols_list.index('Curb_weight')\n",
    "print('curb_wt_index:',curb_wt_index) # 10"
   ]
  },
  {
   "cell_type": "code",
   "execution_count": 159,
   "metadata": {},
   "outputs": [
    {
     "name": "stdout",
     "output_type": "stream",
     "text": [
      "popped_wheelbase_col:\n",
      " 0    101.2\n",
      "1    108.1\n",
      "2    106.9\n",
      "3    114.6\n",
      "4    102.6\n",
      "Name: Wheelbase, dtype: float64\n"
     ]
    }
   ],
   "source": [
    "# popped_col = df.pop(col_name) to pop (remove) the col that we want to move\n",
    "popped_wheelbase_col = car_df.pop('Wheelbase')\n",
    "print('popped_wheelbase_col:\\n',popped_wheelbase_col[:5])"
   ]
  },
  {
   "cell_type": "code",
   "execution_count": 160,
   "metadata": {},
   "outputs": [],
   "source": [
    "# get fresh values since we have removed a column:\n",
    "car_df_cols_list = list(car_df.columns)\n",
    "curb_wt_index = car_df_cols_list.index('Curb_weight')"
   ]
  },
  {
   "cell_type": "code",
   "execution_count": 161,
   "metadata": {
    "executionInfo": {
     "elapsed": 6,
     "status": "ok",
     "timestamp": 1754322625021,
     "user": {
      "displayName": "Brian McClain",
      "userId": "08063899147261234403"
     },
     "user_tz": 240
    },
    "id": "wC2IwElwoTzZ"
   },
   "outputs": [],
   "source": [
    "# insert the popped wheelbase series as col data at new index (10):\n",
    "# df.insert(index,col_name,data)\n",
    "# \"Wheelbase\"\n",
    "car_df.insert(curb_wt_index,\"Wheelbase\",popped_wheelbase_col)"
   ]
  },
  {
   "cell_type": "code",
   "execution_count": 162,
   "metadata": {
    "colab": {
     "base_uri": "https://localhost:8080/",
     "height": 226
    },
    "executionInfo": {
     "elapsed": 11,
     "status": "ok",
     "timestamp": 1754322625037,
     "user": {
      "displayName": "Brian McClain",
      "userId": "08063899147261234403"
     },
     "user_tz": 240
    },
    "id": "yhOg6M_eoifw",
    "outputId": "17b1deef-4cdc-4666-cbd5-b7d5f44ef846"
   },
   "outputs": [
    {
     "name": "stdout",
     "output_type": "stream",
     "text": [
      "(157, 15)\n"
     ]
    },
    {
     "data": {
      "text/html": [
       "<div>\n",
       "<style scoped>\n",
       "    .dataframe tbody tr th:only-of-type {\n",
       "        vertical-align: middle;\n",
       "    }\n",
       "\n",
       "    .dataframe tbody tr th {\n",
       "        vertical-align: top;\n",
       "    }\n",
       "\n",
       "    .dataframe thead th {\n",
       "        text-align: right;\n",
       "    }\n",
       "</style>\n",
       "<table border=\"1\" class=\"dataframe\">\n",
       "  <thead>\n",
       "    <tr style=\"text-align: right;\">\n",
       "      <th></th>\n",
       "      <th>Manufacturer</th>\n",
       "      <th>Model</th>\n",
       "      <th>Sales_in_thousands</th>\n",
       "      <th>Vehicle_type</th>\n",
       "      <th>Price_in_thousands</th>\n",
       "      <th>Engine_size</th>\n",
       "      <th>Horsepower</th>\n",
       "      <th>Width</th>\n",
       "      <th>Length</th>\n",
       "      <th>Wheelbase</th>\n",
       "      <th>Curb_weight</th>\n",
       "      <th>Fuel_capacity</th>\n",
       "      <th>Fuel_efficiency</th>\n",
       "      <th>Latest_Launch</th>\n",
       "      <th>Power_perf_factor</th>\n",
       "    </tr>\n",
       "  </thead>\n",
       "  <tbody>\n",
       "    <tr>\n",
       "      <th>0</th>\n",
       "      <td>Acura</td>\n",
       "      <td>Integra</td>\n",
       "      <td>16.919</td>\n",
       "      <td>Passenger</td>\n",
       "      <td>21.50</td>\n",
       "      <td>1.8</td>\n",
       "      <td>140.0</td>\n",
       "      <td>67.3</td>\n",
       "      <td>172.4</td>\n",
       "      <td>101.2</td>\n",
       "      <td>2.639</td>\n",
       "      <td>13.2</td>\n",
       "      <td>28.0</td>\n",
       "      <td>2/2/2012</td>\n",
       "      <td>58.280150</td>\n",
       "    </tr>\n",
       "    <tr>\n",
       "      <th>1</th>\n",
       "      <td>Acura</td>\n",
       "      <td>TL</td>\n",
       "      <td>39.384</td>\n",
       "      <td>Passenger</td>\n",
       "      <td>28.40</td>\n",
       "      <td>3.2</td>\n",
       "      <td>225.0</td>\n",
       "      <td>70.3</td>\n",
       "      <td>192.9</td>\n",
       "      <td>108.1</td>\n",
       "      <td>3.517</td>\n",
       "      <td>17.2</td>\n",
       "      <td>25.0</td>\n",
       "      <td>6/3/2011</td>\n",
       "      <td>91.370778</td>\n",
       "    </tr>\n",
       "    <tr>\n",
       "      <th>2</th>\n",
       "      <td>Acura</td>\n",
       "      <td>CL</td>\n",
       "      <td>14.114</td>\n",
       "      <td>Passenger</td>\n",
       "      <td>NaN</td>\n",
       "      <td>3.2</td>\n",
       "      <td>225.0</td>\n",
       "      <td>70.6</td>\n",
       "      <td>192.0</td>\n",
       "      <td>106.9</td>\n",
       "      <td>3.470</td>\n",
       "      <td>17.2</td>\n",
       "      <td>26.0</td>\n",
       "      <td>1/4/2012</td>\n",
       "      <td>NaN</td>\n",
       "    </tr>\n",
       "    <tr>\n",
       "      <th>3</th>\n",
       "      <td>Acura</td>\n",
       "      <td>RL</td>\n",
       "      <td>8.588</td>\n",
       "      <td>Passenger</td>\n",
       "      <td>42.00</td>\n",
       "      <td>3.5</td>\n",
       "      <td>210.0</td>\n",
       "      <td>71.4</td>\n",
       "      <td>196.6</td>\n",
       "      <td>114.6</td>\n",
       "      <td>3.850</td>\n",
       "      <td>18.0</td>\n",
       "      <td>22.0</td>\n",
       "      <td>3/10/2011</td>\n",
       "      <td>91.389779</td>\n",
       "    </tr>\n",
       "    <tr>\n",
       "      <th>4</th>\n",
       "      <td>Audi</td>\n",
       "      <td>A4</td>\n",
       "      <td>20.397</td>\n",
       "      <td>Passenger</td>\n",
       "      <td>23.99</td>\n",
       "      <td>1.8</td>\n",
       "      <td>150.0</td>\n",
       "      <td>68.2</td>\n",
       "      <td>178.0</td>\n",
       "      <td>102.6</td>\n",
       "      <td>2.998</td>\n",
       "      <td>16.4</td>\n",
       "      <td>27.0</td>\n",
       "      <td>10/8/2011</td>\n",
       "      <td>62.777639</td>\n",
       "    </tr>\n",
       "  </tbody>\n",
       "</table>\n",
       "</div>"
      ],
      "text/plain": [
       "  Manufacturer    Model  Sales_in_thousands Vehicle_type  Price_in_thousands  \\\n",
       "0        Acura  Integra              16.919    Passenger               21.50   \n",
       "1        Acura       TL              39.384    Passenger               28.40   \n",
       "2        Acura       CL              14.114    Passenger                 NaN   \n",
       "3        Acura       RL               8.588    Passenger               42.00   \n",
       "4         Audi       A4              20.397    Passenger               23.99   \n",
       "\n",
       "   Engine_size  Horsepower  Width  Length  Wheelbase  Curb_weight  \\\n",
       "0          1.8       140.0   67.3   172.4      101.2        2.639   \n",
       "1          3.2       225.0   70.3   192.9      108.1        3.517   \n",
       "2          3.2       225.0   70.6   192.0      106.9        3.470   \n",
       "3          3.5       210.0   71.4   196.6      114.6        3.850   \n",
       "4          1.8       150.0   68.2   178.0      102.6        2.998   \n",
       "\n",
       "   Fuel_capacity  Fuel_efficiency Latest_Launch  Power_perf_factor  \n",
       "0           13.2             28.0      2/2/2012          58.280150  \n",
       "1           17.2             25.0      6/3/2011          91.370778  \n",
       "2           17.2             26.0      1/4/2012                NaN  \n",
       "3           18.0             22.0     3/10/2011          91.389779  \n",
       "4           16.4             27.0     10/8/2011          62.777639  "
      ]
     },
     "execution_count": 162,
     "metadata": {},
     "output_type": "execute_result"
    }
   ],
   "source": [
    "print(car_df.shape)\n",
    "car_df.head()"
   ]
  },
  {
   "cell_type": "code",
   "execution_count": 163,
   "metadata": {
    "executionInfo": {
     "elapsed": 9,
     "status": "ok",
     "timestamp": 1754322625053,
     "user": {
      "displayName": "Brian McClain",
      "userId": "08063899147261234403"
     },
     "user_tz": 240
    },
    "id": "m48kFNwqlyqh"
   },
   "outputs": [],
   "source": [
    "# c.) rename 'Power_perf_factor' as 'Power_Performance'\n",
    "# 'Power_perf_factor'\n",
    "car_df.rename(columns={'Power_perf_factor':'Power_Performance'}, inplace=True)"
   ]
  },
  {
   "cell_type": "code",
   "execution_count": 164,
   "metadata": {
    "colab": {
     "base_uri": "https://localhost:8080/",
     "height": 226
    },
    "executionInfo": {
     "elapsed": 14,
     "status": "ok",
     "timestamp": 1754322625070,
     "user": {
      "displayName": "Brian McClain",
      "userId": "08063899147261234403"
     },
     "user_tz": 240
    },
    "id": "pnqWcL9UpUUw",
    "outputId": "2817de85-6b47-4dd5-8ce8-d59acfcfafeb"
   },
   "outputs": [
    {
     "name": "stdout",
     "output_type": "stream",
     "text": [
      "(157, 15)\n"
     ]
    },
    {
     "data": {
      "text/html": [
       "<div>\n",
       "<style scoped>\n",
       "    .dataframe tbody tr th:only-of-type {\n",
       "        vertical-align: middle;\n",
       "    }\n",
       "\n",
       "    .dataframe tbody tr th {\n",
       "        vertical-align: top;\n",
       "    }\n",
       "\n",
       "    .dataframe thead th {\n",
       "        text-align: right;\n",
       "    }\n",
       "</style>\n",
       "<table border=\"1\" class=\"dataframe\">\n",
       "  <thead>\n",
       "    <tr style=\"text-align: right;\">\n",
       "      <th></th>\n",
       "      <th>Manufacturer</th>\n",
       "      <th>Model</th>\n",
       "      <th>Sales_in_thousands</th>\n",
       "      <th>Vehicle_type</th>\n",
       "      <th>Price_in_thousands</th>\n",
       "      <th>Engine_size</th>\n",
       "      <th>Horsepower</th>\n",
       "      <th>Width</th>\n",
       "      <th>Length</th>\n",
       "      <th>Wheelbase</th>\n",
       "      <th>Curb_weight</th>\n",
       "      <th>Fuel_capacity</th>\n",
       "      <th>Fuel_efficiency</th>\n",
       "      <th>Latest_Launch</th>\n",
       "      <th>Power_Performance</th>\n",
       "    </tr>\n",
       "  </thead>\n",
       "  <tbody>\n",
       "    <tr>\n",
       "      <th>0</th>\n",
       "      <td>Acura</td>\n",
       "      <td>Integra</td>\n",
       "      <td>16.919</td>\n",
       "      <td>Passenger</td>\n",
       "      <td>21.50</td>\n",
       "      <td>1.8</td>\n",
       "      <td>140.0</td>\n",
       "      <td>67.3</td>\n",
       "      <td>172.4</td>\n",
       "      <td>101.2</td>\n",
       "      <td>2.639</td>\n",
       "      <td>13.2</td>\n",
       "      <td>28.0</td>\n",
       "      <td>2/2/2012</td>\n",
       "      <td>58.280150</td>\n",
       "    </tr>\n",
       "    <tr>\n",
       "      <th>1</th>\n",
       "      <td>Acura</td>\n",
       "      <td>TL</td>\n",
       "      <td>39.384</td>\n",
       "      <td>Passenger</td>\n",
       "      <td>28.40</td>\n",
       "      <td>3.2</td>\n",
       "      <td>225.0</td>\n",
       "      <td>70.3</td>\n",
       "      <td>192.9</td>\n",
       "      <td>108.1</td>\n",
       "      <td>3.517</td>\n",
       "      <td>17.2</td>\n",
       "      <td>25.0</td>\n",
       "      <td>6/3/2011</td>\n",
       "      <td>91.370778</td>\n",
       "    </tr>\n",
       "    <tr>\n",
       "      <th>2</th>\n",
       "      <td>Acura</td>\n",
       "      <td>CL</td>\n",
       "      <td>14.114</td>\n",
       "      <td>Passenger</td>\n",
       "      <td>NaN</td>\n",
       "      <td>3.2</td>\n",
       "      <td>225.0</td>\n",
       "      <td>70.6</td>\n",
       "      <td>192.0</td>\n",
       "      <td>106.9</td>\n",
       "      <td>3.470</td>\n",
       "      <td>17.2</td>\n",
       "      <td>26.0</td>\n",
       "      <td>1/4/2012</td>\n",
       "      <td>NaN</td>\n",
       "    </tr>\n",
       "    <tr>\n",
       "      <th>3</th>\n",
       "      <td>Acura</td>\n",
       "      <td>RL</td>\n",
       "      <td>8.588</td>\n",
       "      <td>Passenger</td>\n",
       "      <td>42.00</td>\n",
       "      <td>3.5</td>\n",
       "      <td>210.0</td>\n",
       "      <td>71.4</td>\n",
       "      <td>196.6</td>\n",
       "      <td>114.6</td>\n",
       "      <td>3.850</td>\n",
       "      <td>18.0</td>\n",
       "      <td>22.0</td>\n",
       "      <td>3/10/2011</td>\n",
       "      <td>91.389779</td>\n",
       "    </tr>\n",
       "    <tr>\n",
       "      <th>4</th>\n",
       "      <td>Audi</td>\n",
       "      <td>A4</td>\n",
       "      <td>20.397</td>\n",
       "      <td>Passenger</td>\n",
       "      <td>23.99</td>\n",
       "      <td>1.8</td>\n",
       "      <td>150.0</td>\n",
       "      <td>68.2</td>\n",
       "      <td>178.0</td>\n",
       "      <td>102.6</td>\n",
       "      <td>2.998</td>\n",
       "      <td>16.4</td>\n",
       "      <td>27.0</td>\n",
       "      <td>10/8/2011</td>\n",
       "      <td>62.777639</td>\n",
       "    </tr>\n",
       "  </tbody>\n",
       "</table>\n",
       "</div>"
      ],
      "text/plain": [
       "  Manufacturer    Model  Sales_in_thousands Vehicle_type  Price_in_thousands  \\\n",
       "0        Acura  Integra              16.919    Passenger               21.50   \n",
       "1        Acura       TL              39.384    Passenger               28.40   \n",
       "2        Acura       CL              14.114    Passenger                 NaN   \n",
       "3        Acura       RL               8.588    Passenger               42.00   \n",
       "4         Audi       A4              20.397    Passenger               23.99   \n",
       "\n",
       "   Engine_size  Horsepower  Width  Length  Wheelbase  Curb_weight  \\\n",
       "0          1.8       140.0   67.3   172.4      101.2        2.639   \n",
       "1          3.2       225.0   70.3   192.9      108.1        3.517   \n",
       "2          3.2       225.0   70.6   192.0      106.9        3.470   \n",
       "3          3.5       210.0   71.4   196.6      114.6        3.850   \n",
       "4          1.8       150.0   68.2   178.0      102.6        2.998   \n",
       "\n",
       "   Fuel_capacity  Fuel_efficiency Latest_Launch  Power_Performance  \n",
       "0           13.2             28.0      2/2/2012          58.280150  \n",
       "1           17.2             25.0      6/3/2011          91.370778  \n",
       "2           17.2             26.0      1/4/2012                NaN  \n",
       "3           18.0             22.0     3/10/2011          91.389779  \n",
       "4           16.4             27.0     10/8/2011          62.777639  "
      ]
     },
     "execution_count": 164,
     "metadata": {},
     "output_type": "execute_result"
    }
   ],
   "source": [
    "print(car_df.shape)\n",
    "car_df.head()"
   ]
  },
  {
   "cell_type": "code",
   "execution_count": 165,
   "metadata": {
    "colab": {
     "base_uri": "https://localhost:8080/"
    },
    "executionInfo": {
     "elapsed": 40,
     "status": "ok",
     "timestamp": 1754322625206,
     "user": {
      "displayName": "Brian McClain",
      "userId": "08063899147261234403"
     },
     "user_tz": 240
    },
    "id": "bTbPuqfKWZkN",
    "outputId": "18893c93-a9ec-454c-df82-5cd9f3af8537"
   },
   "outputs": [
    {
     "name": "stdout",
     "output_type": "stream",
     "text": [
      "\n",
      "minimum degrees:\n",
      "maximum degrees:\n",
      "index of minimum degrees:\n",
      "index of maximum degrees:\n"
     ]
    }
   ],
   "source": [
    "# 4. declare a list of numbers and find their min and max:\n",
    "# 77,66,72,88,90,56,91,82,90,101,75,63,70,83, 95, 95, 74, 48, 92\n",
    "print() # 19\n",
    "print('minimum degrees:') # 48\n",
    "print('maximum degrees:') # 101\n",
    "\n",
    "# np.argmin(list) returns the index of the min value in a list\n",
    "print('index of minimum degrees:') # 17\n",
    "# np.argmax(list) returns the index of the max value in a list\n",
    "print('index of maximum degrees:') # 9"
   ]
  },
  {
   "cell_type": "code",
   "execution_count": 166,
   "metadata": {
    "colab": {
     "base_uri": "https://localhost:8080/"
    },
    "executionInfo": {
     "elapsed": 44,
     "status": "ok",
     "timestamp": 1754322625251,
     "user": {
      "displayName": "Brian McClain",
      "userId": "08063899147261234403"
     },
     "user_tz": 240
    },
    "id": "1sHaYPxfFMUk",
    "outputId": "84488a75-870a-4612-f200-aceccb812006"
   },
   "outputs": [
    {
     "name": "stdout",
     "output_type": "stream",
     "text": [
      "Horsepower\n",
      "Horsepower\n",
      "Horsepower\n"
     ]
    }
   ],
   "source": [
    "# 4B. get the min / max / mean of the df's Horsepower col:\n",
    "print('Horsepower') # 55.0\n",
    "print('Horsepower') # 450.0\n",
    "print('Horsepower') # 186"
   ]
  },
  {
   "cell_type": "code",
   "execution_count": 167,
   "metadata": {
    "colab": {
     "base_uri": "https://localhost:8080/"
    },
    "executionInfo": {
     "elapsed": 670,
     "status": "ok",
     "timestamp": 1754322625927,
     "user": {
      "displayName": "Brian McClain",
      "userId": "08063899147261234403"
     },
     "user_tz": 240
    },
    "id": "cD5CV2PGVk9W",
    "outputId": "b0f708a5-d05a-45d8-a338-9b33ae1c1b7a"
   },
   "outputs": [
    {
     "name": "stdout",
     "output_type": "stream",
     "text": [
      "mean_deg:\n",
      "med_deg:\n",
      "degrees_fahr:\n"
     ]
    }
   ],
   "source": [
    "# 5. find the mean (average) and median value of the degrees list:\n",
    "\n",
    "print('mean_deg:') # 79.4\n",
    "\n",
    "\n",
    "print('med_deg:') # 82.0\n",
    "\n",
    "# 6. median is middle value, which you get if you sort the list\n",
    "\n",
    "print('degrees_fahr:') # median is the value in the middle of sorted nums"
   ]
  },
  {
   "cell_type": "markdown",
   "metadata": {
    "id": "35THZPcHaFEZ"
   },
   "source": [
    "The **mode** method returns a **tuple**, which is immutable collection of numeric values in parentheses **()**.  \n",
    "The **ModeResult** tuple contains two values:   \n",
    "- the **mode** value itself, and\n",
    "- the **count** (number of occurrences) of the mode.\n",
    "\n",
    "The tuple items can be accessed by index: 0 and 1:"
   ]
  },
  {
   "cell_type": "code",
   "execution_count": 168,
   "metadata": {
    "colab": {
     "base_uri": "https://localhost:8080/"
    },
    "executionInfo": {
     "elapsed": 602,
     "status": "ok",
     "timestamp": 1754322625930,
     "user": {
      "displayName": "Brian McClain",
      "userId": "08063899147261234403"
     },
     "user_tz": 240
    },
    "id": "nP8BoW6aXmH1",
    "outputId": "fcb477c2-bab0-4607-f472-48ebfc8dcc64"
   },
   "outputs": [
    {
     "name": "stdout",
     "output_type": "stream",
     "text": [
      "degrees_fahr:\n",
      "mode_degrees_fahr:\n",
      "mode_value:\n",
      "mode_freq:\n"
     ]
    }
   ],
   "source": [
    "# 7. find the mode (most frequently occurring) deg:\n",
    "# if there's a tie, it takes the first one (from sorted list)\n",
    "# add 3 90's to the list\n",
    "\n",
    "print('degrees_fahr:')\n",
    "\n",
    "print('mode_degrees_fahr:') # ModeResult(mode=90, count=5)\n",
    "# get the mode value and frequency from the tuple:\n",
    "\n",
    "print('mode_value:') # 90\n",
    "\n",
    "print('mode_freq:') #"
   ]
  },
  {
   "cell_type": "markdown",
   "metadata": {
    "id": "ICiflAcLgndc"
   },
   "source": [
    "**standard deviation** is a measure of how far a value is from the mean.\n",
    "- In **normal distribution** most values cluster around the mean.\n",
    "- This can be shown by a symmetrically graph called a **bell curve**\n",
    "- On a bell curve of normal distribution:\n",
    "  - 68.2% of all values are within 1 standard deviation, plus or minus, of the mean.\n",
    "  - 95.4% of all values are within 2 standard deviations, plus or minus, of the mean.\n",
    "  - 99.8% of all values are within 3 standard deviations, plus or minus, of the mean.\n",
    "\n",
    "The standard deviation of the **temperature** list would be that value which,  \n",
    "if added or subtracted from the mean, would give a value that is 1 standard deviation away from the mean.  \n",
    "The standard deviation unit is **Sigma: σ**."
   ]
  },
  {
   "cell_type": "code",
   "execution_count": 169,
   "metadata": {
    "colab": {
     "base_uri": "https://localhost:8080/",
     "height": 317
    },
    "executionInfo": {
     "elapsed": 91,
     "status": "ok",
     "timestamp": 1754322837482,
     "user": {
      "displayName": "Brian McClain",
      "userId": "08063899147261234403"
     },
     "user_tz": 240
    },
    "id": "z2fqI5hvhduJ",
    "outputId": "773d7fe5-695b-4c57-f544-f580f73bc71c"
   },
   "outputs": [],
   "source": [
    "# 9. Load the bell curve image by concatentating it onto the base url\n",
    "# and then displaying it:\n",
    "#  \"bell-curve-standard-deviation.png\""
   ]
  },
  {
   "cell_type": "code",
   "execution_count": 170,
   "metadata": {
    "colab": {
     "base_uri": "https://localhost:8080/"
    },
    "executionInfo": {
     "elapsed": 32,
     "status": "ok",
     "timestamp": 1754323082286,
     "user": {
      "displayName": "Brian McClain",
      "userId": "08063899147261234403"
     },
     "user_tz": 240
    },
    "id": "2AgKst9sirob",
    "outputId": "e9343212-08b7-4c8b-9b3c-c36361c0d3ad"
   },
   "outputs": [
    {
     "name": "stdout",
     "output_type": "stream",
     "text": [
      "degs_std:\n"
     ]
    }
   ],
   "source": [
    "# 10. Find the standard deviation of the temperature:\n",
    "\n",
    "print('degs_std:') # 13.546674746749288"
   ]
  },
  {
   "cell_type": "markdown",
   "metadata": {
    "id": "GqqMpoiWjWne"
   },
   "source": [
    "- The **standard deviation** of the **degrees** list is around 14 degrees\n",
    "- The **mean degrees** is **79** ish\n",
    "- 68.2% of all degrees are within 1 standard deviation of the **degrees**.\n",
    "- Therefore, 68.2% of all degrees are in the 65 to 93 range"
   ]
  },
  {
   "cell_type": "markdown",
   "metadata": {
    "id": "1PnsAAPmmVHl"
   },
   "source": [
    "The **variance** is the square of **standard deviation**.  \n",
    "The variance unit is **Sigma: σ2** (sigma squared)"
   ]
  },
  {
   "cell_type": "code",
   "execution_count": 171,
   "metadata": {
    "colab": {
     "base_uri": "https://localhost:8080/"
    },
    "executionInfo": {
     "elapsed": 118,
     "status": "ok",
     "timestamp": 1754323199562,
     "user": {
      "displayName": "Brian McClain",
      "userId": "08063899147261234403"
     },
     "user_tz": 240
    },
    "id": "thOZxqWmmTg_",
    "outputId": "1e05dd76-6c8d-4829-f1c7-ed4f6ecbdc91"
   },
   "outputs": [
    {
     "name": "stdout",
     "output_type": "stream",
     "text": [
      "degs_var:\n",
      "\n"
     ]
    }
   ],
   "source": [
    "# 11. Find the variance of the temperature:\n",
    "\n",
    "print('degs_var:') # 197.0747922437673\n",
    "print() # std squared is variance"
   ]
  },
  {
   "cell_type": "markdown",
   "metadata": {
    "id": "EdevcEo2oGEW"
   },
   "source": [
    "**percentile** is the percent of values in a collection of numbers that are lower than a given number.\n",
    "- **np.percentile(list,pct_cut_off)**"
   ]
  },
  {
   "cell_type": "code",
   "execution_count": 172,
   "metadata": {
    "colab": {
     "base_uri": "https://localhost:8080/",
     "height": 320
    },
    "executionInfo": {
     "elapsed": 117,
     "status": "ok",
     "timestamp": 1754323280604,
     "user": {
      "displayName": "Brian McClain",
      "userId": "08063899147261234403"
     },
     "user_tz": 240
    },
    "id": "qigw9zab0DFd",
    "outputId": "7e547299-a57b-41d0-faaa-767f6b3655f7"
   },
   "outputs": [],
   "source": [
    "# call df.describe() for stats on numeric cols\n",
    "# includes min, max, mean, std, pct (75,50,25)\n",
    "# car_"
   ]
  },
  {
   "cell_type": "code",
   "execution_count": 173,
   "metadata": {
    "colab": {
     "base_uri": "https://localhost:8080/"
    },
    "executionInfo": {
     "elapsed": 37,
     "status": "ok",
     "timestamp": 1754323599498,
     "user": {
      "displayName": "Brian McClain",
      "userId": "08063899147261234403"
     },
     "user_tz": 240
    },
    "id": "tcMhQ48Te_J4",
    "outputId": "4ee3d4a3-3747-45f1-f5bc-e92672d4b98c"
   },
   "outputs": [
    {
     "name": "stdout",
     "output_type": "stream",
     "text": [
      "pctile_75:\n",
      "pctile_25:\n",
      "pctile_95:\n",
      "pctile_5:\n"
     ]
    }
   ],
   "source": [
    "# get the degree number that 75% of all the degrees are less than\n",
    "\n",
    "print('pctile_75:') # 90.0\n",
    "# (so 75% of all the degrees are less than 90)\n",
    "\n",
    "# get the degree number that 25% of all the degrees are less than]\n",
    "\n",
    "print('pctile_25:') # 72.5\n",
    "\n",
    "# get the degree number that 95% of all the degrees are less than]\n",
    "\n",
    "print('pctile_95:') # 95.0\n",
    "\n",
    "# get the degree number that 5% of all the degrees are less than]\n",
    "\n",
    "print('pctile_5:') # 56.35"
   ]
  },
  {
   "cell_type": "code",
   "execution_count": 174,
   "metadata": {
    "executionInfo": {
     "elapsed": 23,
     "status": "ok",
     "timestamp": 1754323786363,
     "user": {
      "displayName": "Brian McClain",
      "userId": "08063899147261234403"
     },
     "user_tz": 240
    },
    "id": "CeKBhiuOoFtd"
   },
   "outputs": [],
   "source": [
    "# CHALLENGE: Declare a list of people's ages:\n",
    "# 5,31,43,48,50,41,7,11,15,39,80,82,32,2,8,6,25,36,27,61,31"
   ]
  },
  {
   "cell_type": "code",
   "execution_count": 175,
   "metadata": {
    "colab": {
     "base_uri": "https://localhost:8080/"
    },
    "executionInfo": {
     "elapsed": 2208,
     "status": "ok",
     "timestamp": 1754323856661,
     "user": {
      "displayName": "Brian McClain",
      "userId": "08063899147261234403"
     },
     "user_tz": 240
    },
    "id": "t9RxdX9xo4bB",
    "outputId": "d41fd8fa-604a-4124-c8b2-a528238ee0ae"
   },
   "outputs": [
    {
     "name": "stdout",
     "output_type": "stream",
     "text": [
      "% of all ages are less than \n"
     ]
    }
   ],
   "source": [
    "# 14. Make an input box for entering a percentile and getting back the age\n",
    "#.    at which that percent of people are younger:\n",
    "# \"Enter Percentile, Get Age: \"\n",
    "\n",
    "print('% of all ages are less than ')\n",
    "# some values to try:\n",
    "# input 40, get:\n",
    "# 90% of all people are less than 61.0\n",
    "# 80% of all people are less than 48.0\n",
    "# 70% of all people are less than 41.0\n",
    "# 40% of all people are less than 27.0\n",
    "# 35% of all people are less than 25.0\n",
    "# 30% of all people are less than 15.0\n",
    "# 20% of all people are less than 8.0\n",
    "# 10% of all people are less than 6.0"
   ]
  },
  {
   "cell_type": "markdown",
   "metadata": {
    "id": "0kvF2dCWha92"
   },
   "source": [
    "- **random.randint(min,max)** - gives one random integer in min-max range\n",
    "- **random.sample(range(min,max),count)** - gives a list of unique min-max integers; list length = count"
   ]
  },
  {
   "cell_type": "code",
   "execution_count": 176,
   "metadata": {
    "colab": {
     "base_uri": "https://localhost:8080/"
    },
    "executionInfo": {
     "elapsed": 36,
     "status": "ok",
     "timestamp": 1754324020251,
     "user": {
      "displayName": "Brian McClain",
      "userId": "08063899147261234403"
     },
     "user_tz": 240
    },
    "id": "42HBOiE4iPAp",
    "outputId": "cb26247a-38ed-461a-af13-7b8ecf9c7d3d"
   },
   "outputs": [
    {
     "name": "stdout",
     "output_type": "stream",
     "text": [
      "r:\n"
     ]
    }
   ],
   "source": [
    "# small range to prove that max is inclusive\n",
    "print('r:')"
   ]
  },
  {
   "cell_type": "markdown",
   "metadata": {
    "id": "Xgljg1PhjyMv"
   },
   "source": [
    "**for loop vs while loop**: when to use one or ther other\n",
    "- **for loop** when you know the exact number of iterations (such as looping a range of numbers or a list)\n",
    "- **while loop** when you do NOT know the exact number of iterations (such as going until you find something or meet some condition)"
   ]
  },
  {
   "cell_type": "code",
   "execution_count": 177,
   "metadata": {
    "colab": {
     "base_uri": "https://localhost:8080/"
    },
    "executionInfo": {
     "elapsed": 24,
     "status": "ok",
     "timestamp": 1754324211899,
     "user": {
      "displayName": "Brian McClain",
      "userId": "08063899147261234403"
     },
     "user_tz": 240
    },
    "id": "1B_-JUbz3g7I",
    "outputId": "e4935313-17a2-4880-9a08-4054e3975d50"
   },
   "outputs": [],
   "source": [
    "# for loop is for when you know exactly how many times loop will run\n",
    "# this could be for looping a range of nums:\n",
    "# for"
   ]
  },
  {
   "cell_type": "code",
   "execution_count": 178,
   "metadata": {
    "colab": {
     "base_uri": "https://localhost:8080/"
    },
    "executionInfo": {
     "elapsed": 43,
     "status": "ok",
     "timestamp": 1754324281893,
     "user": {
      "displayName": "Brian McClain",
      "userId": "08063899147261234403"
     },
     "user_tz": 240
    },
    "id": "YxOvvyg432pT",
    "outputId": "b07ef5be-6a55-400a-ed44-12e0f646eadb"
   },
   "outputs": [],
   "source": [
    "# OR: for loop could be for looping a list from start to end:\n",
    "# 'apple','banana','cherry','grape','kiwi'\n",
    "# fo"
   ]
  },
  {
   "cell_type": "code",
   "execution_count": 179,
   "metadata": {
    "colab": {
     "base_uri": "https://localhost:8080/"
    },
    "executionInfo": {
     "elapsed": 34,
     "status": "ok",
     "timestamp": 1754324671048,
     "user": {
      "displayName": "Brian McClain",
      "userId": "08063899147261234403"
     },
     "user_tz": 240
    },
    "id": "iiFkNGiJ4ZN9",
    "outputId": "02c47032-5b3c-4515-abee-59c945c6fde6"
   },
   "outputs": [],
   "source": [
    "# while loop runs an unknown number of times -- stops when a condition is met\n",
    "# generate a rand int from 1-100 until you get a number divisible by 5\n",
    "# such as: 5,10,15,,,85,90,95,100\n",
    "# r\n",
    "# while r is NOT evenly divisible by 5\n",
    "# while condition must be True for loop to run\n",
    "# wh"
   ]
  },
  {
   "cell_type": "code",
   "execution_count": 180,
   "metadata": {
    "colab": {
     "base_uri": "https://localhost:8080/"
    },
    "executionInfo": {
     "elapsed": 45,
     "status": "ok",
     "timestamp": 1754325548350,
     "user": {
      "displayName": "Brian McClain",
      "userId": "08063899147261234403"
     },
     "user_tz": 240
    },
    "id": "f6KxbdXJhEjC",
    "outputId": "031e7f6e-5894-4d1f-cf9f-0671c284becc"
   },
   "outputs": [
    {
     "name": "stdout",
     "output_type": "stream",
     "text": [
      "lottery_ticket:\n"
     ]
    }
   ],
   "source": [
    "# challenge: generate a Powerball Lottery ticket as a list\n",
    "# consisting of 5 unique numbers from 1-69 in ascending order\n",
    "# followed by (last item) a number from 1-26 (Powerball number)\n",
    "# hint: use random.sample(range(min,max),count)\n",
    "# example result: [5,11,23,24,45,23]\n",
    "\n",
    "print('lottery_ticket:')"
   ]
  },
  {
   "cell_type": "markdown",
   "metadata": {
    "id": "pt9og3qG9NXB"
   },
   "source": [
    "**numpy.random.uniform(min,max,sample_size)**"
   ]
  },
  {
   "cell_type": "code",
   "execution_count": 181,
   "metadata": {
    "colab": {
     "base_uri": "https://localhost:8080/"
    },
    "executionInfo": {
     "elapsed": 58,
     "status": "ok",
     "timestamp": 1754325731595,
     "user": {
      "displayName": "Brian McClain",
      "userId": "08063899147261234403"
     },
     "user_tz": 240
    },
    "id": "azt6xfeetAhP",
    "outputId": "3b961901-f690-4cf5-a251-5d8e47a9006c"
   },
   "outputs": [
    {
     "name": "stdout",
     "output_type": "stream",
     "text": [
      "rand_600[:60]:\n",
      "\n"
     ]
    }
   ],
   "source": [
    "# 15. Make a uniform numpy array of 600 random floats between 0 and 6:\n",
    "# rand_\n",
    "print('rand_600[:60]:\\n')"
   ]
  },
  {
   "cell_type": "markdown",
   "metadata": {
    "id": "71c5_qQMu_eL"
   },
   "source": [
    "**histogram** shows **frequency distribution** -- how many items fall within specified ranges.  \n",
    "\n",
    "Each range, called a **bin**, is visualized as a column.\n",
    "\n",
    "**uniform distribution** is when all values are more or less uniformly distributed, as by random.  \n",
    "The greater the sample size, the more even the distribution.\n",
    "**plt.hist(x,bins)**"
   ]
  },
  {
   "cell_type": "code",
   "execution_count": 182,
   "metadata": {
    "colab": {
     "base_uri": "https://localhost:8080/",
     "height": 472
    },
    "executionInfo": {
     "elapsed": 151,
     "status": "ok",
     "timestamp": 1754325997916,
     "user": {
      "displayName": "Brian McClain",
      "userId": "08063899147261234403"
     },
     "user_tz": 240
    },
    "id": "c2Xkn71GvXgt",
    "outputId": "5e12d8c5-14ea-472d-862d-4aa92a1e8ac2"
   },
   "outputs": [],
   "source": [
    "# 16. Make a histogram of the rand_floats. Since the values\n",
    "#.    were generatead by random.uniform, there should be\n",
    "#.    100 items, give or take, in each of 6 bins. However,\n",
    "#.    due to the very small sample size, the bins will have\n",
    "#.    very different heights:\n",
    "# plt\n",
    "# 'Roll of the Dice: 600 times (one die)'\n",
    "# 'Dice Result'\n",
    "# 'Count'\n",
    "# plt"
   ]
  },
  {
   "cell_type": "code",
   "execution_count": 183,
   "metadata": {
    "colab": {
     "base_uri": "https://localhost:8080/"
    },
    "executionInfo": {
     "elapsed": 49,
     "status": "ok",
     "timestamp": 1754326327784,
     "user": {
      "displayName": "Brian McClain",
      "userId": "08063899147261234403"
     },
     "user_tz": 240
    },
    "id": "7f8kRWns_cHP",
    "outputId": "503f25ff-92a2-40fe-dd11-0c2be2c09d69"
   },
   "outputs": [],
   "source": [
    "# similar to above but without ranges -- just 600 ints from 1,6 at random\n",
    "# then just bar chart\n",
    "# rand_6"
   ]
  },
  {
   "cell_type": "code",
   "execution_count": 184,
   "metadata": {
    "colab": {
     "base_uri": "https://localhost:8080/",
     "height": 472
    },
    "executionInfo": {
     "elapsed": 525,
     "status": "ok",
     "timestamp": 1754326943470,
     "user": {
      "displayName": "Brian McClain",
      "userId": "08063899147261234403"
     },
     "user_tz": 240
    },
    "id": "rC_kEQFK_4KO",
    "outputId": "0521257e-0454-474c-8f7d-e2f7cd99b659"
   },
   "outputs": [],
   "source": [
    "# plot the rolls of the dice as bars.. don't need histogram bins\n",
    "# cuz these values are not ranges\n",
    "\n",
    "# Count occurrences of each face\n",
    "# unique_values, num_of_each = np.unique(list_of_nums, return_counts=True)\n",
    "# val\n",
    "\n",
    "# Plot bar chart\n",
    "# ba\n",
    "\n",
    "# 'Roll of the Dice: 600 times (one die)'\n",
    "# 'Dice Result'\n",
    "# 'Count'\n",
    "\n",
    "# add the values to each bar\n",
    "# add vertical space to show the bar values\n",
    "# use enumerate() to gain access to the index of each bar as you loop\n",
    "\n",
    "  # output text count label for each bar in x,y space\n",
    "  # plt\n",
    "\n",
    "# plt"
   ]
  },
  {
   "cell_type": "code",
   "execution_count": 185,
   "metadata": {
    "colab": {
     "base_uri": "https://localhost:8080/"
    },
    "executionInfo": {
     "elapsed": 64,
     "status": "ok",
     "timestamp": 1754331023615,
     "user": {
      "displayName": "Brian McClain",
      "userId": "08063899147261234403"
     },
     "user_tz": 240
    },
    "id": "xz_0fBbuwJgr",
    "outputId": "dba939ea-dabb-41f6-c72a-ff9199b4ad1c"
   },
   "outputs": [
    {
     "name": "stdout",
     "output_type": "stream",
     "text": [
      "\n"
     ]
    }
   ],
   "source": [
    "# 17. Repeat the previous two steps, but this time with 60K items:\n",
    "# rand_6\n",
    "print()"
   ]
  },
  {
   "cell_type": "code",
   "execution_count": 186,
   "metadata": {
    "colab": {
     "base_uri": "https://localhost:8080/",
     "height": 472
    },
    "executionInfo": {
     "elapsed": 209,
     "status": "ok",
     "timestamp": 1754331103171,
     "user": {
      "displayName": "Brian McClain",
      "userId": "08063899147261234403"
     },
     "user_tz": 240
    },
    "id": "OLhNGEg7RG4a",
    "outputId": "de2e81f9-fadb-4b15-9887-d85a36114e1c"
   },
   "outputs": [],
   "source": [
    "# val\n",
    "\n",
    "# Plot bar chart\n",
    "# ba\n",
    "\n",
    "# 'Roll of the Dice: 60,000 times (one die)'\n",
    "# 'Dice Result'\n",
    "# 'Count'\n",
    "\n",
    "# add the values to each bar\n",
    "# add vertical space to show the bar values\n",
    "# use enumerate() to gain access to the index of each bar as you loop\n",
    "\n",
    "  # output text count label for each bar in x,y space\n",
    "\n",
    "\n"
   ]
  },
  {
   "cell_type": "markdown",
   "metadata": {
    "id": "B3MGH1E-7xGP"
   },
   "source": [
    "- **normal distribution** is when values tend to cluster around the mean, as in a **bell curve**.\n",
    "- **numpy.random.normal(mean, standard_deviation, number_of_values)**"
   ]
  },
  {
   "cell_type": "code",
   "execution_count": 187,
   "metadata": {
    "colab": {
     "base_uri": "https://localhost:8080/",
     "height": 430
    },
    "executionInfo": {
     "elapsed": 105,
     "status": "ok",
     "timestamp": 1754331506592,
     "user": {
      "displayName": "Brian McClain",
      "userId": "08063899147261234403"
     },
     "user_tz": 240
    },
    "id": "-NFc9IPb7cTq",
    "outputId": "d8530e46-3a01-47aa-821d-04c45354e165"
   },
   "outputs": [],
   "source": [
    "# 18. Make a normal distribution of 1,000 test scores that have an average value\n",
    "#.    of 100 and a standard deviation of 15 (that is, 68.2% of values will be\n",
    "#.    within the 85-115 range). Plot the result as a histogram of 20 bins\n",
    "\n",
    "# print(test_scores_1000[:30])\n",
    "# pl\n",
    "\n",
    "# the result is a jaggy bell curve -- not enough bins and too small a sample size\n"
   ]
  },
  {
   "cell_type": "code",
   "execution_count": null,
   "metadata": {
    "id": "OEXsihaHTVFa"
   },
   "outputs": [],
   "source": []
  },
  {
   "cell_type": "code",
   "execution_count": 188,
   "metadata": {
    "colab": {
     "base_uri": "https://localhost:8080/",
     "height": 420
    },
    "executionInfo": {
     "elapsed": 280,
     "status": "ok",
     "timestamp": 1754332078296,
     "user": {
      "displayName": "Brian McClain",
      "userId": "08063899147261234403"
     },
     "user_tz": 240
    },
    "id": "ST7pgDC59NkY",
    "outputId": "b4919a30-aa61-452d-8e88-bea9c96d9969"
   },
   "outputs": [
    {
     "name": "stdout",
     "output_type": "stream",
     "text": [
      "max test score:\n",
      "98% percentile score:\n",
      "99.9% percentile score:\n",
      "99.99% percentile score:\n"
     ]
    }
   ],
   "source": [
    "# 19. Plot a 250,000 with the same mean (100) and standard deviation (15).\n",
    "#.    Increase bins to 200. The resulting bell curve will be much smoother:\n",
    "# \"Test Score Bell Curve Normal Distribution\"\n",
    "\n",
    "# 'min test score:'\n",
    "print('max test score:',)\n",
    "print('98% percentile score:')\n",
    "print('99.9% percentile score:')\n",
    "print('99.99% percentile score:')"
   ]
  },
  {
   "cell_type": "code",
   "execution_count": 189,
   "metadata": {
    "id": "A-4Qob0HDPe4"
   },
   "outputs": [
    {
     "name": "stdout",
     "output_type": "stream",
     "text": [
      "x:\n",
      "y:\n"
     ]
    }
   ],
   "source": [
    "# 20. Make 500 x values with a mean of 100 and a std of 15:\n",
    "\n",
    "print('x:')\n",
    "# make 500 y values to go with the x values: same mean and std:\n",
    "\n",
    "print('y:')"
   ]
  },
  {
   "cell_type": "code",
   "execution_count": 190,
   "metadata": {
    "colab": {
     "base_uri": "https://localhost:8080/",
     "height": 452
    },
    "executionInfo": {
     "elapsed": 324,
     "status": "ok",
     "timestamp": 1754332479226,
     "user": {
      "displayName": "Brian McClain",
      "userId": "08063899147261234403"
     },
     "user_tz": 240
    },
    "id": "3Az748utDOC8",
    "outputId": "2532f700-48ac-4148-af85-14d3a71414fd"
   },
   "outputs": [],
   "source": [
    "# 21. Plot the 50,000 dots\n",
    "# \"50,000 random, normally distributed dots of mean 100 and std 15\"\n",
    "\n",
    "# the dots cluster like a bullseye right around the two averages: (100,100)"
   ]
  },
  {
   "cell_type": "markdown",
   "metadata": {
    "id": "xSxnRyoLJw_d"
   },
   "source": [
    "**regression** is used to *predict* the relationship between variables:  \n",
    "in terms of **(x,y)** points: given just **x**, we may be able to predict **y** --  *if* we have some existing **(x,y)** points to study first.\n",
    "\n",
    "**linear Regression** uses the relationship between known data-points to draw a straight line through all them.\n",
    "- the **regression line**, also called the **best fit** line, minimizes the distance from the line to *all* points\n",
    "- more specifically, the best fit line minimizes the **sum of the squares** of all the distances from the dots to the line, and is sometimes called the **least squares line**\n",
    "\n",
    "This line can be used to predict future values."
   ]
  },
  {
   "cell_type": "code",
   "execution_count": 191,
   "metadata": {
    "colab": {
     "base_uri": "https://localhost:8080/",
     "height": 487
    },
    "executionInfo": {
     "elapsed": 19,
     "status": "ok",
     "timestamp": 1754332671638,
     "user": {
      "displayName": "Brian McClain",
      "userId": "08063899147261234403"
     },
     "user_tz": 240
    },
    "id": "i-yQYzygQood",
    "outputId": "d257ca5e-658a-4663-d91c-e6875fe2c12d"
   },
   "outputs": [],
   "source": [
    "# 22. output the regression best fit line image:\n",
    "# a 4-pack showing what the regression line is and and how it is drawn:\n",
    "# 'regression-best-fit-line.jpg'"
   ]
  },
  {
   "cell_type": "code",
   "execution_count": 192,
   "metadata": {
    "colab": {
     "base_uri": "https://localhost:8080/"
    },
    "executionInfo": {
     "elapsed": 163,
     "status": "ok",
     "timestamp": 1754332890670,
     "user": {
      "displayName": "Brian McClain",
      "userId": "08063899147261234403"
     },
     "user_tz": 240
    },
    "id": "l-krVQxcJokV",
    "outputId": "d5725331-699f-40bb-a0ef-21b90577f5ae"
   },
   "outputs": [
    {
     "name": "stdout",
     "output_type": "stream",
     "text": [
      "\n",
      "\n"
     ]
    }
   ],
   "source": [
    "# 23. Make some x-y values of ballbame attendance and concession stand revenue\n",
    "# in general, the greater the attendance, the greater the revenue, BUT\n",
    "# how can we predict revenue given only an attendance number\n",
    "\n",
    "# 25678,22455,17796,18098,27029,22342,19453,32089,29089,31024,15190,32454,24033,26343\n",
    "\n",
    "# make sure the two lists have the same number of values -- a scatterplot requirement:\n",
    "\n",
    "# 750202,632144,593234,502243,730343,753433,534934,800242,779908,848403,430989,874977,629385,743086\n",
    "\n",
    "print()\n",
    "print()"
   ]
  },
  {
   "cell_type": "code",
   "execution_count": 193,
   "metadata": {
    "executionInfo": {
     "elapsed": 27,
     "status": "ok",
     "timestamp": 1754332954059,
     "user": {
      "displayName": "Brian McClain",
      "userId": "08063899147261234403"
     },
     "user_tz": 240
    },
    "id": "Y-BCIjs2BkQe"
   },
   "outputs": [],
   "source": [
    "# challenge: make a 2-col dataframe using the 2 lists\n",
    "# att"
   ]
  },
  {
   "cell_type": "code",
   "execution_count": 194,
   "metadata": {
    "executionInfo": {
     "elapsed": 26,
     "status": "ok",
     "timestamp": 1754333010740,
     "user": {
      "displayName": "Brian McClain",
      "userId": "08063899147261234403"
     },
     "user_tz": 240
    },
    "id": "xtSWO6JtByYi"
   },
   "outputs": [],
   "source": [
    "# \"Attendance\"\n",
    "# \"Concessions\""
   ]
  },
  {
   "cell_type": "code",
   "execution_count": 195,
   "metadata": {
    "colab": {
     "base_uri": "https://localhost:8080/",
     "height": 223
    },
    "executionInfo": {
     "elapsed": 59,
     "status": "ok",
     "timestamp": 1754333322778,
     "user": {
      "displayName": "Brian McClain",
      "userId": "08063899147261234403"
     },
     "user_tz": 240
    },
    "id": "sNdYHQk0B_9m",
    "outputId": "9fd51169-10a3-49a7-b806-b3d446e178fb"
   },
   "outputs": [
    {
     "name": "stdout",
     "output_type": "stream",
     "text": [
      "\n"
     ]
    }
   ],
   "source": [
    "print() # (14, 2)\n"
   ]
  },
  {
   "cell_type": "markdown",
   "metadata": {
    "id": "i9AJjw3KCL9k"
   },
   "source": [
    "- **vector operations** doing math between corresponding items in 2+ cols"
   ]
  },
  {
   "cell_type": "code",
   "execution_count": 196,
   "metadata": {
    "executionInfo": {
     "elapsed": 36,
     "status": "ok",
     "timestamp": 1754333335435,
     "user": {
      "displayName": "Brian McClain",
      "userId": "08063899147261234403"
     },
     "user_tz": 240
    },
    "id": "r4JPZyxaCLYN"
   },
   "outputs": [],
   "source": [
    "# \"Avg Sales\" \"Concessions\" \"Attendance\"\n",
    "#  add a new col: \"Avg Sales\" (rounded to int)\n"
   ]
  },
  {
   "cell_type": "code",
   "execution_count": 197,
   "metadata": {
    "colab": {
     "base_uri": "https://localhost:8080/",
     "height": 223
    },
    "executionInfo": {
     "elapsed": 104,
     "status": "ok",
     "timestamp": 1754333299425,
     "user": {
      "displayName": "Brian McClain",
      "userId": "08063899147261234403"
     },
     "user_tz": 240
    },
    "id": "vtiQbBJXCfSL",
    "outputId": "3c458459-398d-4729-8d3b-77a3514b56db"
   },
   "outputs": [
    {
     "ename": "NameError",
     "evalue": "name 'attendace_concessions_df' is not defined",
     "output_type": "error",
     "traceback": [
      "\u001b[0;31m---------------------------------------------------------------------------\u001b[0m",
      "\u001b[0;31mNameError\u001b[0m                                 Traceback (most recent call last)",
      "Cell \u001b[0;32mIn[197], line 1\u001b[0m\n\u001b[0;32m----> 1\u001b[0m \u001b[38;5;28mprint\u001b[39m(\u001b[43mattendace_concessions_df\u001b[49m\u001b[38;5;241m.\u001b[39mshape)\n\u001b[1;32m      2\u001b[0m attendace_concessions_df\u001b[38;5;241m.\u001b[39mhead()\n",
      "\u001b[0;31mNameError\u001b[0m: name 'attendace_concessions_df' is not defined"
     ]
    }
   ],
   "source": [
    "print(attendace_concessions_df.shape)\n",
    "attendace_concessions_df.head()"
   ]
  },
  {
   "cell_type": "markdown",
   "metadata": {
    "id": "gWlW93ENaMFq"
   },
   "source": [
    "**y = mx + b** is the formula for the slope of a line.\n",
    "- if you have any 3 of the four values, you can solve for the missing one\n",
    "- **y** is concessions revenue, which is what we want to predict for a given attendance (x value)\n",
    "- so, we use the linregress method to get the slope and y-intercept,  \n",
    "plug those into the formula along with x, and in that way solve for y"
   ]
  },
  {
   "cell_type": "code",
   "execution_count": null,
   "metadata": {
    "colab": {
     "base_uri": "https://localhost:8080/",
     "height": 507
    },
    "executionInfo": {
     "elapsed": 135,
     "status": "ok",
     "timestamp": 1754334162441,
     "user": {
      "displayName": "Brian McClain",
      "userId": "08063899147261234403"
     },
     "user_tz": 240
    },
    "id": "5clrPEjNSfbL",
    "outputId": "3ebd05b2-e17e-40ec-f89f-ac5d188edded"
   },
   "outputs": [
    {
     "name": "stdout",
     "output_type": "stream",
     "text": [
      "concessions_25K_fans: 697119\n",
      "attendance_1M_revenue: 38437\n"
     ]
    },
    {
     "data": {
      "image/png": "[encoded data removed]",
      "text/plain": [
       "<Figure size 640x480 with 1 Axes>"
      ]
     },
     "metadata": {},
     "output_type": "display_data"
    }
   ],
   "source": [
    "# 24. plot attendance vs concessions as a scatterplot\n",
    "#     and on top of that, add the regression line\n",
    "\n",
    "# \"Plotsburgh Pythons Paid Attendance vs Concessions Revenue\"\n",
    "\n",
    "\n",
    "# we get a strong positive correlation between attendance and concessions revenue,\n",
    "# as expected; next we'll draw a regression line through the dots\n",
    "# m # m, b used for finding x or y\n",
    "# in terms of the other via the famous equation y = mx + b\n",
    "\n",
    "# drawing regression line requires numpy arrays for x values -- plain list won't work\n",
    "\n",
    "\n",
    "# predict concessions for 25000 attendance\n",
    "\n",
    "print('concessions_25K_fans:') # 697119\n",
    "\n",
    "print('attendance_1M_revenue:') # 697119\n"
   ]
  },
  {
   "cell_type": "code",
   "execution_count": null,
   "metadata": {
    "colab": {
     "base_uri": "https://localhost:8080/"
    },
    "executionInfo": {
     "elapsed": 367,
     "status": "ok",
     "timestamp": 1754322628902,
     "user": {
      "displayName": "Brian McClain",
      "userId": "08063899147261234403"
     },
     "user_tz": 240
    },
    "id": "z7KCObY8HNLV",
    "outputId": "f62c132a-74e9-44d0-bc95-4da756f3f335"
   },
   "outputs": [
    {
     "name": "stdout",
     "output_type": "stream",
     "text": [
      "\n"
     ]
    }
   ],
   "source": [
    "# predict concessions based on attendance:\n",
    "# given x, look up y\n",
    "# 25000 fans -- what's the concesssions ??\n",
    "# x_\n",
    "# y_\n"
   ]
  },
  {
   "cell_type": "code",
   "execution_count": null,
   "metadata": {
    "executionInfo": {
     "elapsed": 296,
     "status": "ok",
     "timestamp": 1754322628904,
     "user": {
      "displayName": "Brian McClain",
      "userId": "08063899147261234403"
     },
     "user_tz": 240
    },
    "id": "y1MzJWamVjCK"
   },
   "outputs": [],
   "source": [
    "# 28. Define a function that takes in an an attendance figure,\n",
    "#     as x, plugs and returns the y-value, which is concessions:\n",
    "# de\n",
    "  # calculate y using y=mx + b formula, and return y:\n",
    "  # ret"
   ]
  },
  {
   "cell_type": "code",
   "execution_count": null,
   "metadata": {
    "colab": {
     "base_uri": "https://localhost:8080/"
    },
    "executionInfo": {
     "elapsed": 296,
     "status": "ok",
     "timestamp": 1754322628910,
     "user": {
      "displayName": "Brian McClain",
      "userId": "08063899147261234403"
     },
     "user_tz": 240
    },
    "id": "3nIAGInBbf46",
    "outputId": "7348e497-3027-475f-bf21-6cafef6daab6"
   },
   "outputs": [
    {
     "name": "stdout",
     "output_type": "stream",
     "text": [
      "\n"
     ]
    }
   ],
   "source": [
    "# try the function: enter an attendance (fans_num), get the answer\n",
    "# sale\n",
    "print()"
   ]
  }
 ],
 "metadata": {
  "colab": {
   "provenance": []
  },
  "kernelspec": {
   "display_name": "base",
   "language": "python",
   "name": "python3"
  },
  "language_info": {
   "codemirror_mode": {
    "name": "ipython",
    "version": 3
   },
   "file_extension": ".py",
   "mimetype": "text/x-python",
   "name": "python",
   "nbconvert_exporter": "python",
   "pygments_lexer": "ipython3",
   "version": "3.10.9"
  }
 },
 "nbformat": 4,
 "nbformat_minor": 0
}
