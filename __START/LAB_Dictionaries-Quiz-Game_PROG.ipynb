{
  "cells": [
    {
      "cell_type": "markdown",
      "metadata": {
        "id": "lGcMb80q5u9s"
      },
      "source": [
        "**LAB: Dictionaries, APIs and JSON**\n",
        "- **Dictionaries** are a type of **collection** (along with **lists**, **tuples** and **sets**)\n",
        "**properties** are **key-value** pairs\n",
        "\n",
        "Some dictionary and list operations we will be using:\n",
        "- **dict1.update(dict2)** merge two dictionaries\n",
        "\n",
        "- **list.remove(item)** removes the specified item\n",
        "\n",
        "- **list(dict.keys())** returns list of dict keys\n",
        "\n",
        "- **del dict[key]** deletes dictionary key"
      ]
    },
    {
      "cell_type": "code",
      "execution_count": 1,
      "metadata": {
        "id": "BKLMWBKrZG5R"
      },
      "outputs": [],
      "source": [
        "# 1. import standard modules\n",
        "import pprint as pp\n",
        "import random\n",
        "\n",
        "# 2. Import timer for delaying code execution (for quiz game)\n"
      ]
    },
    {
      "cell_type": "markdown",
      "metadata": {
        "id": "elgSttmG5qyv"
      },
      "source": [
        "**CHALLENGE: make a student dictionary for YOURSELF**.\n",
        "Make a dictionary called **student**.  \n",
        "Make it with the following keys.\n",
        "Make the values for **YOURSELF**:\n",
        "- **first_name** (str)\n",
        "- **last_name** (str)\n",
        "- **school** (str)\n",
        "- **city** (str)\n",
        "- **state** (str)\n",
        "- **country** (str)\n",
        "- **hobbies** (list)\n",
        "on your own:\n",
        "- add one key with a value of **int**\n",
        "- add one key with a value of **boolean**\n",
        "make a string greeting using the dict data:\n",
        "\"Hi! My name is {}. I am a student at {} in {}, {}. My hobbies are {}, {} and {}.\"\n",
        "- Add a few properties right inside the dict declaration, so **INSIDE** the **{}** as **\"key\": value**\n",
        "- Add a few more properties **AFTER** the {}, as **\"key\" = value**"
      ]
    },
    {
      "cell_type": "code",
      "execution_count": 2,
      "metadata": {
        "colab": {
          "base_uri": "https://localhost:8080/"
        },
        "id": "gbwU7Kym8CsW",
        "outputId": "cf7ad4f5-bd87-4e5a-a6d5-3a731d8b33ba"
      },
      "outputs": [],
      "source": [
        "# 3. Declare a student dictionary with the following keys and data types:\n",
        "#    str: \"first_name\", \"last_name\",\"school\",\"city\",\"state\",\"country\",\n",
        "#    list: \"hobbies\"\n",
        "\n",
        "\n"
      ]
    },
    {
      "cell_type": "code",
      "execution_count": 3,
      "metadata": {},
      "outputs": [],
      "source": [
        "# 4. Assign two new properties \"gpa\" and \"class of\"\n"
      ]
    },
    {
      "cell_type": "markdown",
      "metadata": {},
      "source": [
        "**dict1.update(dict2)** merges one dictionary with another"
      ]
    },
    {
      "cell_type": "code",
      "execution_count": 4,
      "metadata": {
        "colab": {
          "base_uri": "https://localhost:8080/"
        },
        "id": "cbJDFMpoEzzU",
        "outputId": "3957e00c-bdc1-46a4-892e-6eaba5849401"
      },
      "outputs": [],
      "source": [
        "\n",
        "# 5. Declare another mini-dictionary with following keys and data types:\n",
        "#    int: \"zip code\", \"SAT Math\", \"SAT English\"\n",
        "#    bool: \"takes bus\"\n",
        "\n"
      ]
    },
    {
      "cell_type": "code",
      "execution_count": 5,
      "metadata": {},
      "outputs": [
        {
          "ename": "NameError",
          "evalue": "name 'student' is not defined",
          "output_type": "error",
          "traceback": [
            "\u001b[0;31m---------------------------------------------------------------------------\u001b[0m",
            "\u001b[0;31mNameError\u001b[0m                                 Traceback (most recent call last)",
            "Cell \u001b[0;32mIn[5], line 3\u001b[0m\n\u001b[1;32m      1\u001b[0m \u001b[38;5;66;03m# 6. update() student to include more_student_info\u001b[39;00m\n\u001b[1;32m      2\u001b[0m \u001b[38;5;66;03m#.   the result is one big dicitonary\u001b[39;00m\n\u001b[0;32m----> 3\u001b[0m \u001b[43mstudent\u001b[49m\u001b[38;5;241m.\u001b[39mupdate(more_student_info)\n\u001b[1;32m      4\u001b[0m pp\u001b[38;5;241m.\u001b[39mpprint(student)\n",
            "\u001b[0;31mNameError\u001b[0m: name 'student' is not defined"
          ]
        }
      ],
      "source": [
        "# 6. update() student to include more_student_info\n",
        "#.   the result is one big dicitonary\n",
        "student.update(more_student_info)\n",
        "pp.pprint(student)"
      ]
    },
    {
      "cell_type": "markdown",
      "metadata": {
        "id": "yK1B6LeZ85Fv"
      },
      "source": [
        "**making a multiple choice quiz from a list of dictionaries**"
      ]
    },
    {
      "cell_type": "code",
      "execution_count": 3,
      "metadata": {
        "colab": {
          "base_uri": "https://localhost:8080/"
        },
        "id": "y5pXoJlRkwV0",
        "outputId": "11a3c36c-f38a-4d58-9f00-6496402cd0b2"
      },
      "outputs": [
        {
          "name": "stdout",
          "output_type": "stream",
          "text": [
            "len(quiz_questions): 30\n"
          ]
        }
      ],
      "source": [
        "# 7. Given this list of 27 quiz questions, as a list of dictionaries, one dictionary per question\n",
        "#    Add 4 new quiz questions, as dictionaries of your own making, following the provided format:\n",
        "#    - \"answer choices\" key has a dictionary for its value, for a nested dictionary\n",
        "#.   - your questions should pertain to one or more of these categories:\n",
        "#    - Science, Geography, Movies, Sports, History\n",
        "#.   - your wrong answers should sound plausible (no joke choices)\n",
        "\n",
        "quiz_questions = [\n",
        "    { \"category\": \"Science\",\n",
        "      \"question\": \"What of these elments has the lowest Atomic Number?\",\n",
        "      \"choices\": {\"A\": \"Nitrogen\", \"B\": \"Oxygen\", \"C\": \"Helium\", \"D\": \"Hydrogen\"},\n",
        "      \"correct\": \"D\",\n",
        "    },\n",
        "    { \"category\": \"Science\",\n",
        "      \"question\": \"The biological Class 'Aves'(Birds) includes all of the following EXCEPT..\",\n",
        "      \"choices\": {\"A\": \"Pheasant\", \"B\": \"Penguin\", \"C\": \"Pangolin\", \"D\": \"Plover\"},\n",
        "      \"correct\": \"C\",\n",
        "    },\n",
        "    { \"category\": \"Science\",\n",
        "      \"question\": \"Which of the following is NOT a type of rock?\",\n",
        "      \"choices\": {\"A\": \"Diatomic\", \"B\": \"Igneous\", \"C\": \"Metamorphic\", \"D\": \"Sedimentary\"},\n",
        "      \"correct\": \"A\",\n",
        "    },\n",
        "    { \"category\": \"Science\",\n",
        "      \"question\": \"How many nanoseconds are there in 1 second?\",\n",
        "      \"choices\": {\"A\": \"1,000\", \"B\": \"1,000,000\", \"C\": \"1,000,000,000\", \"D\": \"1,000,000,000,000\"},\n",
        "      \"correct\": \"C\",\n",
        "    },\n",
        "    { \"category\": \"Science\",\n",
        "      \"question\": \"Which of these planets is closet to Earth?\",\n",
        "      \"choices\": {\"A\": \"Mercury\", \"B\": \"Venus\", \"C\": \"Mars\", \"D\": \"Jupiter\"},\n",
        "      \"correct\": \"B\",\n",
        "    },\n",
        "    { \"category\": \"Geography\",\n",
        "      \"question\": \"Which of these countries is not in Africa?\",\n",
        "      \"choices\": {\"A\": \"Cameroon\", \"B\": \"Oman\", \"C\": \"Sierra Leone\", \"D\": \"Chad\"},\n",
        "      \"correct\": \"B\",\n",
        "    },\n",
        "    { \"category\": \"Geography\",\n",
        "      \"question\": \"The largest of the Great Lakes is:\",\n",
        "      \"choices\": {\"A\": \"Lake Michigan\", \"B\": \"Lake Ontario\", \"C\": \"Lake Huron\", \"D\": \"Lake Superior\"},\n",
        "      \"correct\": \"D\",\n",
        "    },\n",
        "    { \"category\": \"Geography\",\n",
        "      \"question\": \"The former name of Mt. Denali is:\",\n",
        "      \"choices\": {\"A\": \"Mt. McKinley\", \"B\": \"Mt. Kilimanjaro\", \"C\": \"Mt. Fuji\", \"D\": \"Mt. Hood\"},\n",
        "      \"correct\": \"A\",\n",
        "    },\n",
        "    { \"category\": \"Geography\",\n",
        "      \"question\": \"Which of these countries is a peninsula?\",\n",
        "      \"choices\": {\"A\": \"Ecuador\", \"B\": \"Libya\", \"C\": \"Denmark\", \"D\": \"Mongolia\"},\n",
        "      \"correct\": \"C\",\n",
        "    },\n",
        "    { \"category\": \"Geography\",\n",
        "      \"question\": \"What is the longest river in the world?\",\n",
        "      \"choices\": {\"A\": \"Nile River\", \"B\": \"Amazon River\", \"C\": \"Mississipi River\", \"D\": \"Yellow River\"},\n",
        "      \"correct\": \"A\",\n",
        "    },\n",
        "    { \"category\": \"Movies\",\n",
        "      \"question\": \"Which movie does not star Al Pacino?\",\n",
        "      \"choices\": {\"A\": \"The Godfather\", \"B\": \"Scarface\", \"C\": \"Dog Day Afternoon\", \"D\": \"Goodfellas\"},\n",
        "      \"correct\": \"D\",\n",
        "    },\n",
        "    { \"category\": \"Movies\",\n",
        "      \"question\": \"In The Wizard of Oz, Dorothy's house lands on the Witch of the..\",\n",
        "      \"choices\": {\"A\": \"North\", \"B\": \"South\", \"C\": \"East\", \"D\": \"West\"},\n",
        "      \"correct\": \"C\",\n",
        "    },\n",
        "    { \"category\": \"Geography\",\n",
        "      \"question\": \"What is the capital city of Belgium?\",\n",
        "      \"choices\": {\"A\": \"Antwerp\", \"B\": \"Ghnet\", \"C\": \"Brussels\", \"D\": \"Leuven\"},\n",
        "      \"correct\": \"C\",\n",
        "    },\n",
        "    { \"category\": \"Geography\",\n",
        "      \"question\": \"Which one of these neighborhoods is the newest in New York City?\",\n",
        "      \"choices\": {\"A\": \"NoHo\", \"B\": \"Gramercy Park\",\n",
        "                  \"C\": \"Bedford Stuyvesant\", \"D\": \"Hudson Yards\"},\n",
        "      \"correct\": \"D\",\n",
        "    },\n",
        "    { \"category\": \"Astronomy\",\n",
        "          \"question\": \"Which of the following does not directly relate to astronomy\",\n",
        "          \"choices\": {\"A\": \"Sagittarius A\", \"B\": \"Higgs Boson Particle\",\n",
        "                      \"C\": \"Event Horizon\", \"D\": \"Ablation\"},\n",
        "          \"correct\": \"D\",\n",
        "    },\n",
        "    { \"category\": \"programming\",\n",
        "          \"question\": \"Which of the following is the first programming language \",\n",
        "          \"choices\": {\"A\": \"Regional Assembly Language\", \"B\": \"Autocode\",\n",
        "                      \"C\": \"IPL\", \"D\": \"FLOW-MATIC\"},\n",
        "          \"correct\": \"A\",\n",
        "    },\n",
        "    {\"category\": \"Sports\",\n",
        "      \"question\": \"Who has the most MVP's in MLB history?\",\n",
        "        \"choices\": {\"A\": \"Derek Jeter\", \"B\": \"Babe Ruth\",\n",
        "                    \"C\": \"Mike Trout\", \"D\": \"Barry Bonds\"},\n",
        "        \"correct\": \"D\"\n",
        "    },\n",
        "    { \"category\": \"Sports\",\n",
        "      \"question\": \"Who is the starting runningback for the Tennessee Titans?\",\n",
        "      \"choices\": {\"A\": \"Derrick Jones\", \"B\": \"Nick Chubb\",\n",
        "                  \"C\": \"Tom Brady\", \"D\": \"Derrick Henry\"},\n",
        "      \"correct\": \"D\",\n",
        "    },\n",
        "    { \"category\": \"Astronomy\",\n",
        "      \"question\": \"In the Northern Hemisphere, in which season is the Earth the closest to the Sun?\",\n",
        "      \"choices\": {\"A\": \"Fall\", \"B\": \"Spring\",\n",
        "                  \"C\": \"Winter\", \"D\": \"Summer\"},\n",
        "      \"correct\": \"C\",\n",
        "    },\n",
        "    { \"category\": \"Movies\",\n",
        "        \"question\": \"Who would Harry have married?\",\n",
        "        \"choices\": {\"A\": \"Hermione Granger\", \"B\": \"Luna Lovegood\",\n",
        "                    \"C\": \"Ginney Weasley\", \"D\": \"Pans Parkinson\"},\n",
        "        \"correct\": \"C\",\n",
        "    },\n",
        "    {\"category\": \"Sports\",\n",
        "     \"question\": \"Who won the American League MVP in 2022\",\n",
        "     \"choices\": {\"A\": \"Shohei Ohtani\", \"B\": \"Aaron Judge\", \"C\": \"Paul Goldschmidt\", \"D\": \"Jeremy Pena\"},\n",
        "     \"correct\": \"B\"\n",
        "    },\n",
        "    {\"category\": \"Science\",\n",
        "      \"question\": \"what is the most expensive element?\",\n",
        "      \"choices\": {\"A\": \"gold\", \"B\": \"silver\",\n",
        "                  \"C\": \"Helium\", \"D\": \"francium\"},\n",
        "      \"correct\": \"D\",\n",
        "    },\n",
        "    {\"category\": \"Biology\",\n",
        "     \"question\": \"How many bones are in the human body?\",\n",
        "     \"choices\": {\"A\": \"206\", \"B\": \"414\", \"C\": \"123\", \"D\": \"213\"},\n",
        "     \"correct\": \"A\"\n",
        "    },\n",
        "    { \"category\": \"Sports\",\n",
        "      \"question\": \"Who did Mike Tyson knock out in 1986 for the Heavyweight Champion title?\",\n",
        "      \"choices\": {\"A\": \"Muhammad Ali\", \"B\": \"Buzz Lightyear\",\n",
        "                  \"C\": \"Trevor Berbick\", \"D\": \"Sugar Ray Leonard\"},\n",
        "      \"correct\": \"C\",\n",
        "    },\n",
        "    { \"category\": \"Geography\",\n",
        "       \"question\": \"71% of the earths surface is made up of?\",\n",
        "       \"choices\": {\"A\": \"Continents\", \"B\": \"Forests\", \"C\": \"Water\", \"D\": \"Deserts\"},\n",
        "       \"correct\": \"C\",\n",
        "    },\n",
        "    { \"category\": \"Sports\",\n",
        "      \"question\": \"How many NBA Championships has Michael Jordan won?\",\n",
        "      \"choices\": {\"A\": \"7\", \"B\": \"3\", \"C\": \"5\", \"D\": \"6\"},\n",
        "      \"correct\": \"D\",\n",
        "    },\n",
        "    { \"category\": \"Sports\",\n",
        "      \"question\": \"How many ATP Grand Slam are there per year?\",\n",
        "      \"choices\": {\"A\": \"2\", \"B\": \"3\", \"C\": \"4\", \"D\": \"5\"},\n",
        "      \"correct\": \"C\",\n",
        "    },\n",
        "    {\n",
        "      \"category\": \"Geography\",\n",
        "      \"question\": \"Which country has the most islands in the world\",\n",
        "      \"choices\": {\"A\": \"Malaysia\", \"B\": \"Philiphines\", \"C\": \"Japan\", \"D\": \"Sweden\"},\n",
        "      \"correct\": \"D\",\n",
        "    },\n",
        "    {\n",
        "      \"category\": \"Science\",\n",
        "      \"question\": \"what is the heaviest metal?\",\n",
        "      \"choices\": {\"A\": \"gold\", \"B\": \"silver\",\n",
        "                  \"C\": \"Helium\", \"D\": \"osmium\"},\n",
        "      \"correct\": \"D\",\n",
        "    },\n",
        "    {\n",
        "      \"category\": \"Science\",\n",
        "      \"question\": \"How many planets are there in our Solar System?\",\n",
        "      \"choices\": {\"A\": \"5\", \"B\": \"6\", \"C\": \"7\", \"D\": \"8\"},\n",
        "      \"correct\": \"D\",\n",
        "    },\n",
        "]\n",
        "\n",
        "print(\"len(quiz_questions):\",len(quiz_questions))"
      ]
    },
    {
      "cell_type": "code",
      "execution_count": 4,
      "metadata": {
        "id": "FY7ItMv5a2GU"
      },
      "outputs": [],
      "source": [
        "# 8. Make a copy of the quiz_questions list for game play \n",
        "#    do not use the original, as questions will be deleted after use\n",
        "quiz_questions_copy = quiz_questions.copy()"
      ]
    },
    {
      "cell_type": "code",
      "execution_count": 5,
      "metadata": {
        "colab": {
          "base_uri": "https://localhost:8080/"
        },
        "id": "ODcd7m0MZig9",
        "outputId": "31aadf0a-2f56-4715-e914-011ffc616765"
      },
      "outputs": [],
      "source": [
        "# 9. Shuffle / randomize the list of quiz questions:\n",
        "random.shuffle(quiz_questions_copy)"
      ]
    },
    {
      "cell_type": "code",
      "execution_count": null,
      "metadata": {},
      "outputs": [],
      "source": [
        "# 10. Make a \"game pack\" of the last 5 randomized questions:\n",
        "game_pack = quiz_questions_copy[-5:]\n",
        "game_pack"
      ]
    },
    {
      "cell_type": "code",
      "execution_count": 7,
      "metadata": {},
      "outputs": [],
      "source": [
        "# 11. Remove the last 5 questions so they will not be used again\n",
        "#.    rather than explicitly remove the questions, save it back to itself\n",
        "#.    but leave off the last 5 questions (these being the game_pack)\n",
        "quiz_questions_copy = quiz_questions_copy[:-5]"
      ]
    },
    {
      "cell_type": "code",
      "execution_count": null,
      "metadata": {
        "colab": {
          "base_uri": "https://localhost:8080/"
        },
        "id": "T_sfOcoMQ7OH",
        "outputId": "4a3b4192-f8f6-4b93-c572-b4ffa2e3f83e"
      },
      "outputs": [],
      "source": [
        "# 12. Get the first question in the game pack:\n",
        "question0 = game_pack[0]\n",
        "pp.pprint(question0)"
      ]
    },
    {
      "cell_type": "code",
      "execution_count": 16,
      "metadata": {},
      "outputs": [
        {
          "data": {
            "text/plain": [
              "{'A': 'Regional Assembly Language',\n",
              " 'B': 'Autocode',\n",
              " 'C': 'IPL',\n",
              " 'D': 'FLOW-MATIC'}"
            ]
          },
          "execution_count": 16,
          "metadata": {},
          "output_type": "execute_result"
        }
      ],
      "source": [
        "# 13. Get and print the answer choices for the first question\n",
        "#.    this is a dictionary of letter keys (A-D) and their answer choices\n",
        "question0_choices = question0['choices']\n",
        "question0_choices"
      ]
    },
    {
      "cell_type": "code",
      "execution_count": 15,
      "metadata": {},
      "outputs": [
        {
          "name": "stdout",
          "output_type": "stream",
          "text": [
            "question_0_correct: A\n"
          ]
        }
      ],
      "source": [
        "# 14. Get the correct answer to the first question\n",
        "question_0_correct = question0['correct']\n",
        "print(\"question_0_correct:\",question_0_correct)"
      ]
    },
    {
      "cell_type": "code",
      "execution_count": 18,
      "metadata": {},
      "outputs": [
        {
          "name": "stdout",
          "output_type": "stream",
          "text": [
            "letters_list: ['A', 'B', 'C', 'D']\n"
          ]
        }
      ],
      "source": [
        "# 15. Make a list of the choices keys, which are letters ['A', 'B', 'C', 'D']\n",
        "letters_list = list(question0_choices.keys())\n",
        "print('letters_list:',letters_list)"
      ]
    },
    {
      "cell_type": "code",
      "execution_count": 19,
      "metadata": {},
      "outputs": [
        {
          "name": "stdout",
          "output_type": "stream",
          "text": [
            "A\n",
            "B\n",
            "C\n",
            "D\n"
          ]
        }
      ],
      "source": [
        "# 16. Loop the keys ['A', 'B', 'C', 'D'] and print them\n",
        "#.    use enumerate() to gain access to the index:\n",
        "for letter in letters_list:\n",
        "    print(letter)"
      ]
    },
    {
      "cell_type": "code",
      "execution_count": 26,
      "metadata": {},
      "outputs": [
        {
          "name": "stdout",
          "output_type": "stream",
          "text": [
            "\tA.   Regional Assembly Language\n",
            "\tB.   Autocode\n",
            "\tC.   IPL\n",
            "\tD.   FLOW-MATIC\n"
          ]
        }
      ],
      "source": [
        "# 16B. Print the actual answer choices next to their letters:\n",
        "for letter in letters_list:\n",
        "    print(f\"\\t{letter}.   {question0_choices[letter]}\")"
      ]
    },
    {
      "cell_type": "code",
      "execution_count": null,
      "metadata": {
        "id": "M9pTyV9LsGOw"
      },
      "outputs": [],
      "source": [
        "# 17. Define a function that takes in a game_pack list of 5 dictionaries\n",
        "#     function runs a loop that serves up questions until all 5 are used up\n",
        "#.    user is prompted to enter answer choice letter\n",
        "#.    user answer is evaluated (compared to correct answer)\n",
        "#.    user gets Correct / Wrong feedback before the next question is served\n",
        "# de\n",
        "  time.sleep(1) # one-sec delay\n",
        "  # 18. pop (remove) last question dictionary and save it\n",
        "  # que\n",
        "    \n",
        "  # 19. print the question\n",
        "  print() \n",
        "\n",
        "  # 20. Loop the \"choices\" dictionary of 4 properties (A-D):\n",
        "  # syntax: for key, value in dictionary['key'].items()\n",
        "  # items() unlocks key and value\n",
        "  # fo\n",
        "    # 21. Print the key (letter) and its value (question)\n",
        "\n",
        "\n",
        "  # 22. Prompt the user to enter their answer letter A, B, C or D\n",
        "  #.    Assume valid input (no attempt made to make sure user entered a letter from A-D)\n",
        "  #.    Save the user's answer\n",
        "# \"\\nEnter answer choice (A, B, C or D):\\n\"\n",
        "  # time.sleep(1)\n",
        "  print('Your answer: ')\n",
        "\n",
        "  time.sleep(1) # one-sec delay\n",
        "  \n",
        "  # 23. Compare the user's answer letter to the correct letter\n",
        "  #.    if the user's answer equals the correct letter, say CORRECT\n",
        "\n",
        "  # 24. else, the user's answer choice is wrongs, so say Sorry\n",
        "\n",
        "    # 25. Reveal the correct answer\n",
        "print(f\"The correct answer is\")\n",
        "\n",
        "  # 26. while the game pack still has question(s) in it, its length is not zero\n",
        "  #    so call the function to serve the next question\n",
        "  #.   this is an example of the important programming concept of RECURSION:\n",
        "  #.   Recursion is when a function CALLS ITSELF\n",
        "  # wh\n"
      ]
    },
    {
      "cell_type": "markdown",
      "metadata": {
        "id": "UI2Jc2J0dn8q"
      },
      "source": [
        "**RUN CELL BELOW FOR NEW TRIVIA QUIZ; EACH QUIZ GAME IS 5 QUESTIONS**"
      ]
    },
    {
      "cell_type": "code",
      "execution_count": null,
      "metadata": {
        "colab": {
          "base_uri": "https://localhost:8080/"
        },
        "id": "Pi6fIsLic25W",
        "outputId": "9d79f0c7-f028-44ee-e3ce-1079c8513559"
      },
      "outputs": [
        {
          "name": "stdout",
          "output_type": "stream",
          "text": [
            "What is the capital city of Belgium?\n",
            "A. Antwerp\n",
            "B. Ghnet\n",
            "C. Brussels\n",
            "D. Leuven\n",
            "Your answer: \"\"\n",
            "Sorry! \"\" is INCORRECT.\n",
            "The correct answer is \"C\"\n",
            "\n",
            "How many nanoseconds are there in 1 second?\n",
            "A. 1,000\n",
            "B. 1,000,000\n",
            "C. 1,000,000,000\n",
            "D. 1,000,000,000,000\n",
            "Your answer: \"A\"\n",
            "Sorry! \"A\" is INCORRECT.\n",
            "The correct answer is \"C\"\n",
            "\n",
            "Which one of these neighborhoods is the newest in New York City?\n",
            "A. NoHo\n",
            "B. Gramercy Park\n",
            "C. Bedford Stuyvesant\n",
            "D. Hudson Yards\n",
            "Your answer: \"C\"\n",
            "Sorry! \"C\" is INCORRECT.\n",
            "The correct answer is \"D\"\n",
            "\n",
            "The largest of the Great Lakes is:\n",
            "A. Lake Michigan\n",
            "B. Lake Ontario\n",
            "C. Lake Huron\n",
            "D. Lake Superior\n"
          ]
        }
      ],
      "source": [
        "# RUN THIS CELL WHENEVER YOU WANT NEW GAME\n",
        "# EACH GAME CONSISTS OF QUESTIONS\n",
        "\n",
        "# 27. Check if the quiz_questions_copy still has at least 5 questions in it\n",
        "#     which is the \"game pack\" of the last 5 random questions:\n",
        "# if\n",
        "  # 28. If we have enough questions still, make a fresh game pack of 5 questions:\n",
        " \n",
        "  # 29. remove these 5 questions from the quiz_questions_copy\n",
        "\n",
        "  # 30. Call the game play function to start the new 5-question quiz:\n",
        " \n",
        "# 31. If the quiz questions have all been used, print a Sorry message:\n",
        "# el\n",
        "print(f\"Sorry! Allquiz questions have been used..!\")"
      ]
    }
  ],
  "metadata": {
    "colab": {
      "provenance": []
    },
    "kernelspec": {
      "display_name": "base",
      "language": "python",
      "name": "python3"
    },
    "language_info": {
      "codemirror_mode": {
        "name": "ipython",
        "version": 3
      },
      "file_extension": ".py",
      "mimetype": "text/x-python",
      "name": "python",
      "nbconvert_exporter": "python",
      "pygments_lexer": "ipython3",
      "version": "3.10.9"
    }
  },
  "nbformat": 4,
  "nbformat_minor": 0
}
