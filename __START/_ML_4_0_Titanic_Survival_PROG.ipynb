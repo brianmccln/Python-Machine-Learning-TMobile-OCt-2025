{
  "cells": [
    {
      "cell_type": "markdown",
      "metadata": {
        "id": "O-Rr7SV3ALIE"
      },
      "source": [
        "### Predicting Titanic Survival using..\n",
        "#### **sklearn (Scikit Learn) machine learning (ML) library**\n",
        "- **sklearn** is the most popular and robust library for machine learning, having a selection of algorithms that await your data"
      ]
    },
    {
      "cell_type": "markdown",
      "metadata": {
        "id": "gKmuxm8GA-Wb"
      },
      "source": [
        "**titanic dataset** is an iconic dataset used for Machine Learning practice and training\n",
        "- it contains 891 **observations** (rows) of 15 **variables** (columns) each\n",
        "- the dataset is used to train ML models to predict the probability of surviving the Titanic disaster based on variables such as passenger class, age and gender (spoiler alert: first class female passengers had a *much* better chance of survival than third class males)\n",
        "- **survived** column: 1 means survived; 0 means perished\n",
        "- **sibsp** stands for siblings and spouses\n",
        "- **parch** stands for parents and children\n",
        "- some columns are repeats of each other:\n",
        "  - **alive** (no, yes) is the string version of **survived** (0,1)\n",
        "  - **pclass** (1,2,3) is the numeric version of **class** (First, Second, Third)\n",
        "  - **who** (man, woman, child) overlaps **sex** (male, female)\n",
        "  - **embarked** (S, C, Q) is short for **embark_town** (Southhampton, Cherbourg, Queenstown)"
      ]
    },
    {
      "cell_type": "markdown",
      "metadata": {
        "id": "1xect9A2ETAD"
      },
      "source": [
        "**seaborn** is another visualization / plotting library, similar to matplotlib\n",
        "- seaborn also has the titanic dataset built in, so no csv file required\n",
        "**Kaggle Titanic Competition**\n",
        "- If you would like to submit your predictions to **Kaggle Titanic Competition**, use their datasets, which come pre-divided into:\n",
        "    - train (**train-titanic.csv**) \n",
        "    - test (**test-titanic.csv**)"
      ]
    },
    {
      "cell_type": "code",
      "execution_count": 1,
      "metadata": {
        "id": "6IqMv_47jfc-"
      },
      "outputs": [],
      "source": [
        "# import the usual basics:\n",
        "import numpy as np\n",
        "import pandas as pd\n",
        "import matplotlib.pyplot as plt\n",
        "from IPython.display import Image\n",
        "import pprint as pp\n",
        "import seaborn as sns"
      ]
    },
    {
      "cell_type": "code",
      "execution_count": null,
      "metadata": {
        "id": "wQ1gYEyPFOkI"
      },
      "outputs": [],
      "source": [
        "# import sklearn machine learning packages:\n",
        "\n",
        "# LabelEncoder converts string data to numeric:\n",
        "from sklearn.preprocessing import LabelEncoder\n",
        "\n",
        "# normalize the data (get all values down to mean=0\n",
        "# and all other values are standard deviation\n",
        "# 95% of all values go in the +-2 std (-2 to 2)\n",
        "from sklearn.preprocessing import StandardScaler\n",
        "\n",
        "# import RandomForestClassifier for training model\n",
        "from sklearn.ensemble import RandomForestClassifier"
      ]
    },
    {
      "cell_type": "markdown",
      "metadata": {
        "id": "1b_MARU7ECkW"
      },
      "source": [
        "#### **Scikit Learn (sklearn) packages**\n",
        "- **sklearn.preprocessing.LabelEncoder** encodes target labels with value between **0** and **n_classes-1**\n",
        "  - all data must be numeric for ML model training\n",
        "  - so, passenger classes First, Second and Third become 0, 1 and 2\n",
        "  - we need to convert object (string) columns (\"sex\", \"embarked\") into numbers\n",
        "- **sklearn.model_selection.train_test_split** splits data into training and testing sets\n",
        "  - **model** is trained on training set (fed data with the answers)\n",
        "  - **model** is tested on testing set by having it predict answers (testing labels)\n",
        "- **sklearn.preprocessing.StandardScaler** is for getting all values in a standard range,  \n",
        "where all mean values are 0; values within +/- 1 std are in the 1 to -1 range\n",
        "  - model needs all values in same range, so that it doesn't\n",
        "  conclude that age, which ranges from 0-80,  \n",
        "  is 40 times more important in predicting survival than passenger class, which ranges from just 0-2\n",
        "\n",
        "- make **confusion matrix** for each model (a 2x2 array showing TP, TN, FP, FN)\n",
        "from sklearn.metrics import confusion_matrix\n",
        "\n",
        "**What Is Random Forest?**\n",
        "- random forest is a tree-based supervised learning algorithm\n",
        "- **random forest classifier** can be used to solve for **regression** or **classification** problems\n",
        "- Random forest tends to combine hundreds of decision trees and then trains each decision tree on a different sample of the observations.\n",
        "- The final predictions of the random forest are made by averaging the predictions of each individual tree.\n",
        "\n",
        "**What is Confusion Matrix?**\n",
        "- a confusion maxtrix is a set of 4 values used to describe a categorical classification:\n",
        "- a confusion maxtrix has 4 categories: True Positive, False Positive, True Negative, False Negative\n",
        "  - **True Positive** : model said it's a 'cat' and it is a 'cat'\n",
        "  - **True Negative** : model said it's not a 'cat' and that's right\n",
        "  - **False Positive** : model said it's a 'cat' but it's not\n",
        "  - **False Negative** : model said it's not a 'cat' but it is\n"
      ]
    },
    {
      "cell_type": "code",
      "execution_count": 3,
      "metadata": {
        "colab": {
          "base_uri": "https://localhost:8080/"
        },
        "id": "Drt3wsXVj7ch",
        "outputId": "9b80b261-9b9a-4a59-fff3-87b2431279aa"
      },
      "outputs": [
        {
          "name": "stdout",
          "output_type": "stream",
          "text": [
            "(891, 15)\n"
          ]
        },
        {
          "data": {
            "text/html": [
              "<div>\n",
              "<style scoped>\n",
              "    .dataframe tbody tr th:only-of-type {\n",
              "        vertical-align: middle;\n",
              "    }\n",
              "\n",
              "    .dataframe tbody tr th {\n",
              "        vertical-align: top;\n",
              "    }\n",
              "\n",
              "    .dataframe thead th {\n",
              "        text-align: right;\n",
              "    }\n",
              "</style>\n",
              "<table border=\"1\" class=\"dataframe\">\n",
              "  <thead>\n",
              "    <tr style=\"text-align: right;\">\n",
              "      <th></th>\n",
              "      <th>survived</th>\n",
              "      <th>pclass</th>\n",
              "      <th>sex</th>\n",
              "      <th>age</th>\n",
              "      <th>sibsp</th>\n",
              "      <th>parch</th>\n",
              "      <th>fare</th>\n",
              "      <th>embarked</th>\n",
              "      <th>class</th>\n",
              "      <th>who</th>\n",
              "      <th>adult_male</th>\n",
              "      <th>deck</th>\n",
              "      <th>embark_town</th>\n",
              "      <th>alive</th>\n",
              "      <th>alone</th>\n",
              "    </tr>\n",
              "  </thead>\n",
              "  <tbody>\n",
              "    <tr>\n",
              "      <th>0</th>\n",
              "      <td>0</td>\n",
              "      <td>3</td>\n",
              "      <td>male</td>\n",
              "      <td>22.0</td>\n",
              "      <td>1</td>\n",
              "      <td>0</td>\n",
              "      <td>7.2500</td>\n",
              "      <td>S</td>\n",
              "      <td>Third</td>\n",
              "      <td>man</td>\n",
              "      <td>True</td>\n",
              "      <td>NaN</td>\n",
              "      <td>Southampton</td>\n",
              "      <td>no</td>\n",
              "      <td>False</td>\n",
              "    </tr>\n",
              "    <tr>\n",
              "      <th>1</th>\n",
              "      <td>1</td>\n",
              "      <td>1</td>\n",
              "      <td>female</td>\n",
              "      <td>38.0</td>\n",
              "      <td>1</td>\n",
              "      <td>0</td>\n",
              "      <td>71.2833</td>\n",
              "      <td>C</td>\n",
              "      <td>First</td>\n",
              "      <td>woman</td>\n",
              "      <td>False</td>\n",
              "      <td>C</td>\n",
              "      <td>Cherbourg</td>\n",
              "      <td>yes</td>\n",
              "      <td>False</td>\n",
              "    </tr>\n",
              "    <tr>\n",
              "      <th>2</th>\n",
              "      <td>1</td>\n",
              "      <td>3</td>\n",
              "      <td>female</td>\n",
              "      <td>26.0</td>\n",
              "      <td>0</td>\n",
              "      <td>0</td>\n",
              "      <td>7.9250</td>\n",
              "      <td>S</td>\n",
              "      <td>Third</td>\n",
              "      <td>woman</td>\n",
              "      <td>False</td>\n",
              "      <td>NaN</td>\n",
              "      <td>Southampton</td>\n",
              "      <td>yes</td>\n",
              "      <td>True</td>\n",
              "    </tr>\n",
              "    <tr>\n",
              "      <th>3</th>\n",
              "      <td>1</td>\n",
              "      <td>1</td>\n",
              "      <td>female</td>\n",
              "      <td>35.0</td>\n",
              "      <td>1</td>\n",
              "      <td>0</td>\n",
              "      <td>53.1000</td>\n",
              "      <td>S</td>\n",
              "      <td>First</td>\n",
              "      <td>woman</td>\n",
              "      <td>False</td>\n",
              "      <td>C</td>\n",
              "      <td>Southampton</td>\n",
              "      <td>yes</td>\n",
              "      <td>False</td>\n",
              "    </tr>\n",
              "    <tr>\n",
              "      <th>4</th>\n",
              "      <td>0</td>\n",
              "      <td>3</td>\n",
              "      <td>male</td>\n",
              "      <td>35.0</td>\n",
              "      <td>0</td>\n",
              "      <td>0</td>\n",
              "      <td>8.0500</td>\n",
              "      <td>S</td>\n",
              "      <td>Third</td>\n",
              "      <td>man</td>\n",
              "      <td>True</td>\n",
              "      <td>NaN</td>\n",
              "      <td>Southampton</td>\n",
              "      <td>no</td>\n",
              "      <td>True</td>\n",
              "    </tr>\n",
              "  </tbody>\n",
              "</table>\n",
              "</div>"
            ],
            "text/plain": [
              "   survived  pclass     sex   age  sibsp  parch     fare embarked  class  \\\n",
              "0         0       3    male  22.0      1      0   7.2500        S  Third   \n",
              "1         1       1  female  38.0      1      0  71.2833        C  First   \n",
              "2         1       3  female  26.0      0      0   7.9250        S  Third   \n",
              "3         1       1  female  35.0      1      0  53.1000        S  First   \n",
              "4         0       3    male  35.0      0      0   8.0500        S  Third   \n",
              "\n",
              "     who  adult_male deck  embark_town alive  alone  \n",
              "0    man        True  NaN  Southampton    no  False  \n",
              "1  woman       False    C    Cherbourg   yes  False  \n",
              "2  woman       False  NaN  Southampton   yes   True  \n",
              "3  woman       False    C  Southampton   yes  False  \n",
              "4    man        True  NaN  Southampton    no   True  "
            ]
          },
          "execution_count": 3,
          "metadata": {},
          "output_type": "execute_result"
        }
      ],
      "source": [
        "# load titanic dataset from within seaborn (no csv file)\n",
        "titanic_sns_df = sns.load_dataset('titanic')\n",
        "print(titanic_sns_df.shape) # (891, 15)\n",
        "titanic_sns_df.head()"
      ]
    },
    {
      "cell_type": "code",
      "execution_count": 4,
      "metadata": {
        "id": "zF2CAo1c3Y2F"
      },
      "outputs": [
        {
          "name": "stdout",
          "output_type": "stream",
          "text": [
            "<class 'pandas.core.frame.DataFrame'>\n",
            "RangeIndex: 891 entries, 0 to 890\n",
            "Data columns (total 15 columns):\n",
            " #   Column       Non-Null Count  Dtype   \n",
            "---  ------       --------------  -----   \n",
            " 0   survived     891 non-null    int64   \n",
            " 1   pclass       891 non-null    int64   \n",
            " 2   sex          891 non-null    object  \n",
            " 3   age          714 non-null    float64 \n",
            " 4   sibsp        891 non-null    int64   \n",
            " 5   parch        891 non-null    int64   \n",
            " 6   fare         891 non-null    float64 \n",
            " 7   embarked     889 non-null    object  \n",
            " 8   class        891 non-null    category\n",
            " 9   who          891 non-null    object  \n",
            " 10  adult_male   891 non-null    bool    \n",
            " 11  deck         203 non-null    category\n",
            " 12  embark_town  889 non-null    object  \n",
            " 13  alive        891 non-null    object  \n",
            " 14  alone        891 non-null    bool    \n",
            "dtypes: bool(2), category(2), float64(2), int64(4), object(5)\n",
            "memory usage: 80.7+ KB\n"
          ]
        }
      ],
      "source": [
        "titanic_sns_df.info()"
      ]
    },
    {
      "cell_type": "code",
      "execution_count": 5,
      "metadata": {
        "colab": {
          "base_uri": "https://localhost:8080/"
        },
        "id": "N6EG4YGIRIr0",
        "outputId": "5227d36e-23b5-4f38-aee2-c5af4356a78f"
      },
      "outputs": [
        {
          "name": "stdout",
          "output_type": "stream",
          "text": [
            "(891, 12)\n"
          ]
        },
        {
          "data": {
            "text/html": [
              "<div>\n",
              "<style scoped>\n",
              "    .dataframe tbody tr th:only-of-type {\n",
              "        vertical-align: middle;\n",
              "    }\n",
              "\n",
              "    .dataframe tbody tr th {\n",
              "        vertical-align: top;\n",
              "    }\n",
              "\n",
              "    .dataframe thead th {\n",
              "        text-align: right;\n",
              "    }\n",
              "</style>\n",
              "<table border=\"1\" class=\"dataframe\">\n",
              "  <thead>\n",
              "    <tr style=\"text-align: right;\">\n",
              "      <th></th>\n",
              "      <th>PassengerId</th>\n",
              "      <th>Survived</th>\n",
              "      <th>Pclass</th>\n",
              "      <th>Name</th>\n",
              "      <th>Sex</th>\n",
              "      <th>Age</th>\n",
              "      <th>SibSp</th>\n",
              "      <th>Parch</th>\n",
              "      <th>Ticket</th>\n",
              "      <th>Fare</th>\n",
              "      <th>Cabin</th>\n",
              "      <th>Embarked</th>\n",
              "    </tr>\n",
              "  </thead>\n",
              "  <tbody>\n",
              "    <tr>\n",
              "      <th>508</th>\n",
              "      <td>509</td>\n",
              "      <td>0</td>\n",
              "      <td>3</td>\n",
              "      <td>Olsen, Mr. Henry Margido</td>\n",
              "      <td>male</td>\n",
              "      <td>28.0</td>\n",
              "      <td>0</td>\n",
              "      <td>0</td>\n",
              "      <td>C 4001</td>\n",
              "      <td>22.5250</td>\n",
              "      <td>NaN</td>\n",
              "      <td>S</td>\n",
              "    </tr>\n",
              "    <tr>\n",
              "      <th>509</th>\n",
              "      <td>510</td>\n",
              "      <td>1</td>\n",
              "      <td>3</td>\n",
              "      <td>Lang, Mr. Fang</td>\n",
              "      <td>male</td>\n",
              "      <td>26.0</td>\n",
              "      <td>0</td>\n",
              "      <td>0</td>\n",
              "      <td>1601</td>\n",
              "      <td>56.4958</td>\n",
              "      <td>NaN</td>\n",
              "      <td>S</td>\n",
              "    </tr>\n",
              "    <tr>\n",
              "      <th>510</th>\n",
              "      <td>511</td>\n",
              "      <td>1</td>\n",
              "      <td>3</td>\n",
              "      <td>Daly, Mr. Eugene Patrick</td>\n",
              "      <td>male</td>\n",
              "      <td>29.0</td>\n",
              "      <td>0</td>\n",
              "      <td>0</td>\n",
              "      <td>382651</td>\n",
              "      <td>7.7500</td>\n",
              "      <td>NaN</td>\n",
              "      <td>Q</td>\n",
              "    </tr>\n",
              "    <tr>\n",
              "      <th>511</th>\n",
              "      <td>512</td>\n",
              "      <td>0</td>\n",
              "      <td>3</td>\n",
              "      <td>Webber, Mr. James</td>\n",
              "      <td>male</td>\n",
              "      <td>NaN</td>\n",
              "      <td>0</td>\n",
              "      <td>0</td>\n",
              "      <td>SOTON/OQ 3101316</td>\n",
              "      <td>8.0500</td>\n",
              "      <td>NaN</td>\n",
              "      <td>S</td>\n",
              "    </tr>\n",
              "    <tr>\n",
              "      <th>512</th>\n",
              "      <td>513</td>\n",
              "      <td>1</td>\n",
              "      <td>1</td>\n",
              "      <td>McGough, Mr. James Robert</td>\n",
              "      <td>male</td>\n",
              "      <td>36.0</td>\n",
              "      <td>0</td>\n",
              "      <td>0</td>\n",
              "      <td>PC 17473</td>\n",
              "      <td>26.2875</td>\n",
              "      <td>E25</td>\n",
              "      <td>S</td>\n",
              "    </tr>\n",
              "    <tr>\n",
              "      <th>...</th>\n",
              "      <td>...</td>\n",
              "      <td>...</td>\n",
              "      <td>...</td>\n",
              "      <td>...</td>\n",
              "      <td>...</td>\n",
              "      <td>...</td>\n",
              "      <td>...</td>\n",
              "      <td>...</td>\n",
              "      <td>...</td>\n",
              "      <td>...</td>\n",
              "      <td>...</td>\n",
              "      <td>...</td>\n",
              "    </tr>\n",
              "    <tr>\n",
              "      <th>607</th>\n",
              "      <td>608</td>\n",
              "      <td>1</td>\n",
              "      <td>1</td>\n",
              "      <td>Daniel, Mr. Robert Williams</td>\n",
              "      <td>male</td>\n",
              "      <td>27.0</td>\n",
              "      <td>0</td>\n",
              "      <td>0</td>\n",
              "      <td>113804</td>\n",
              "      <td>30.5000</td>\n",
              "      <td>NaN</td>\n",
              "      <td>S</td>\n",
              "    </tr>\n",
              "    <tr>\n",
              "      <th>608</th>\n",
              "      <td>609</td>\n",
              "      <td>1</td>\n",
              "      <td>2</td>\n",
              "      <td>Laroche, Mrs. Joseph (Juliette Marie Louise La...</td>\n",
              "      <td>female</td>\n",
              "      <td>22.0</td>\n",
              "      <td>1</td>\n",
              "      <td>2</td>\n",
              "      <td>SC/Paris 2123</td>\n",
              "      <td>41.5792</td>\n",
              "      <td>NaN</td>\n",
              "      <td>C</td>\n",
              "    </tr>\n",
              "    <tr>\n",
              "      <th>609</th>\n",
              "      <td>610</td>\n",
              "      <td>1</td>\n",
              "      <td>1</td>\n",
              "      <td>Shutes, Miss. Elizabeth W</td>\n",
              "      <td>female</td>\n",
              "      <td>40.0</td>\n",
              "      <td>0</td>\n",
              "      <td>0</td>\n",
              "      <td>PC 17582</td>\n",
              "      <td>153.4625</td>\n",
              "      <td>C125</td>\n",
              "      <td>S</td>\n",
              "    </tr>\n",
              "    <tr>\n",
              "      <th>610</th>\n",
              "      <td>611</td>\n",
              "      <td>0</td>\n",
              "      <td>3</td>\n",
              "      <td>Andersson, Mrs. Anders Johan (Alfrida Konstant...</td>\n",
              "      <td>female</td>\n",
              "      <td>39.0</td>\n",
              "      <td>1</td>\n",
              "      <td>5</td>\n",
              "      <td>347082</td>\n",
              "      <td>31.2750</td>\n",
              "      <td>NaN</td>\n",
              "      <td>S</td>\n",
              "    </tr>\n",
              "    <tr>\n",
              "      <th>611</th>\n",
              "      <td>612</td>\n",
              "      <td>0</td>\n",
              "      <td>3</td>\n",
              "      <td>Jardin, Mr. Jose Neto</td>\n",
              "      <td>male</td>\n",
              "      <td>NaN</td>\n",
              "      <td>0</td>\n",
              "      <td>0</td>\n",
              "      <td>SOTON/O.Q. 3101305</td>\n",
              "      <td>7.0500</td>\n",
              "      <td>NaN</td>\n",
              "      <td>S</td>\n",
              "    </tr>\n",
              "  </tbody>\n",
              "</table>\n",
              "<p>104 rows × 12 columns</p>\n",
              "</div>"
            ],
            "text/plain": [
              "     PassengerId  Survived  Pclass  \\\n",
              "508          509         0       3   \n",
              "509          510         1       3   \n",
              "510          511         1       3   \n",
              "511          512         0       3   \n",
              "512          513         1       1   \n",
              "..           ...       ...     ...   \n",
              "607          608         1       1   \n",
              "608          609         1       2   \n",
              "609          610         1       1   \n",
              "610          611         0       3   \n",
              "611          612         0       3   \n",
              "\n",
              "                                                  Name     Sex   Age  SibSp  \\\n",
              "508                           Olsen, Mr. Henry Margido    male  28.0      0   \n",
              "509                                     Lang, Mr. Fang    male  26.0      0   \n",
              "510                           Daly, Mr. Eugene Patrick    male  29.0      0   \n",
              "511                                  Webber, Mr. James    male   NaN      0   \n",
              "512                          McGough, Mr. James Robert    male  36.0      0   \n",
              "..                                                 ...     ...   ...    ...   \n",
              "607                        Daniel, Mr. Robert Williams    male  27.0      0   \n",
              "608  Laroche, Mrs. Joseph (Juliette Marie Louise La...  female  22.0      1   \n",
              "609                          Shutes, Miss. Elizabeth W  female  40.0      0   \n",
              "610  Andersson, Mrs. Anders Johan (Alfrida Konstant...  female  39.0      1   \n",
              "611                              Jardin, Mr. Jose Neto    male   NaN      0   \n",
              "\n",
              "     Parch              Ticket      Fare Cabin Embarked  \n",
              "508      0              C 4001   22.5250   NaN        S  \n",
              "509      0                1601   56.4958   NaN        S  \n",
              "510      0              382651    7.7500   NaN        Q  \n",
              "511      0    SOTON/OQ 3101316    8.0500   NaN        S  \n",
              "512      0            PC 17473   26.2875   E25        S  \n",
              "..     ...                 ...       ...   ...      ...  \n",
              "607      0              113804   30.5000   NaN        S  \n",
              "608      2       SC/Paris 2123   41.5792   NaN        C  \n",
              "609      0            PC 17582  153.4625  C125        S  \n",
              "610      5              347082   31.2750   NaN        S  \n",
              "611      0  SOTON/O.Q. 3101305    7.0500   NaN        S  \n",
              "\n",
              "[104 rows x 12 columns]"
            ]
          },
          "execution_count": 5,
          "metadata": {},
          "output_type": "execute_result"
        }
      ],
      "source": [
        "# load the same data again BUT this time from train_titanic.csv file provided by Kaggle\n",
        "train_titanic_df = pd.read_csv('../csv/train_titanic.csv')\n",
        "print(train_titanic_df.shape) # (891, 12)\n",
        "train_titanic_df.iloc[508:612,:]"
      ]
    },
    {
      "cell_type": "code",
      "execution_count": 6,
      "metadata": {},
      "outputs": [
        {
          "name": "stdout",
          "output_type": "stream",
          "text": [
            "<class 'pandas.core.frame.DataFrame'>\n",
            "RangeIndex: 891 entries, 0 to 890\n",
            "Data columns (total 12 columns):\n",
            " #   Column       Non-Null Count  Dtype  \n",
            "---  ------       --------------  -----  \n",
            " 0   PassengerId  891 non-null    int64  \n",
            " 1   Survived     891 non-null    int64  \n",
            " 2   Pclass       891 non-null    int64  \n",
            " 3   Name         891 non-null    object \n",
            " 4   Sex          891 non-null    object \n",
            " 5   Age          714 non-null    float64\n",
            " 6   SibSp        891 non-null    int64  \n",
            " 7   Parch        891 non-null    int64  \n",
            " 8   Ticket       891 non-null    object \n",
            " 9   Fare         891 non-null    float64\n",
            " 10  Cabin        204 non-null    object \n",
            " 11  Embarked     889 non-null    object \n",
            "dtypes: float64(2), int64(5), object(5)\n",
            "memory usage: 83.7+ KB\n"
          ]
        }
      ],
      "source": [
        "train_titanic_df.info()"
      ]
    },
    {
      "cell_type": "code",
      "execution_count": 7,
      "metadata": {},
      "outputs": [],
      "source": [
        "# load up the test set:\n",
        "test_titanic_df = pd.read_csv('../csv/test_titanic.csv')"
      ]
    },
    {
      "cell_type": "code",
      "execution_count": 8,
      "metadata": {},
      "outputs": [
        {
          "name": "stdout",
          "output_type": "stream",
          "text": [
            "(418, 11)\n"
          ]
        },
        {
          "data": {
            "text/html": [
              "<div>\n",
              "<style scoped>\n",
              "    .dataframe tbody tr th:only-of-type {\n",
              "        vertical-align: middle;\n",
              "    }\n",
              "\n",
              "    .dataframe tbody tr th {\n",
              "        vertical-align: top;\n",
              "    }\n",
              "\n",
              "    .dataframe thead th {\n",
              "        text-align: right;\n",
              "    }\n",
              "</style>\n",
              "<table border=\"1\" class=\"dataframe\">\n",
              "  <thead>\n",
              "    <tr style=\"text-align: right;\">\n",
              "      <th></th>\n",
              "      <th>PassengerId</th>\n",
              "      <th>Pclass</th>\n",
              "      <th>Name</th>\n",
              "      <th>Sex</th>\n",
              "      <th>Age</th>\n",
              "      <th>SibSp</th>\n",
              "      <th>Parch</th>\n",
              "      <th>Ticket</th>\n",
              "      <th>Fare</th>\n",
              "      <th>Cabin</th>\n",
              "      <th>Embarked</th>\n",
              "    </tr>\n",
              "  </thead>\n",
              "  <tbody>\n",
              "    <tr>\n",
              "      <th>413</th>\n",
              "      <td>1305</td>\n",
              "      <td>3</td>\n",
              "      <td>Spector, Mr. Woolf</td>\n",
              "      <td>male</td>\n",
              "      <td>NaN</td>\n",
              "      <td>0</td>\n",
              "      <td>0</td>\n",
              "      <td>A.5. 3236</td>\n",
              "      <td>8.0500</td>\n",
              "      <td>NaN</td>\n",
              "      <td>S</td>\n",
              "    </tr>\n",
              "    <tr>\n",
              "      <th>414</th>\n",
              "      <td>1306</td>\n",
              "      <td>1</td>\n",
              "      <td>Oliva y Ocana, Dona. Fermina</td>\n",
              "      <td>female</td>\n",
              "      <td>39.0</td>\n",
              "      <td>0</td>\n",
              "      <td>0</td>\n",
              "      <td>PC 17758</td>\n",
              "      <td>108.9000</td>\n",
              "      <td>C105</td>\n",
              "      <td>C</td>\n",
              "    </tr>\n",
              "    <tr>\n",
              "      <th>415</th>\n",
              "      <td>1307</td>\n",
              "      <td>3</td>\n",
              "      <td>Saether, Mr. Simon Sivertsen</td>\n",
              "      <td>male</td>\n",
              "      <td>38.5</td>\n",
              "      <td>0</td>\n",
              "      <td>0</td>\n",
              "      <td>SOTON/O.Q. 3101262</td>\n",
              "      <td>7.2500</td>\n",
              "      <td>NaN</td>\n",
              "      <td>S</td>\n",
              "    </tr>\n",
              "    <tr>\n",
              "      <th>416</th>\n",
              "      <td>1308</td>\n",
              "      <td>3</td>\n",
              "      <td>Ware, Mr. Frederick</td>\n",
              "      <td>male</td>\n",
              "      <td>NaN</td>\n",
              "      <td>0</td>\n",
              "      <td>0</td>\n",
              "      <td>359309</td>\n",
              "      <td>8.0500</td>\n",
              "      <td>NaN</td>\n",
              "      <td>S</td>\n",
              "    </tr>\n",
              "    <tr>\n",
              "      <th>417</th>\n",
              "      <td>1309</td>\n",
              "      <td>3</td>\n",
              "      <td>Peter, Master. Michael J</td>\n",
              "      <td>male</td>\n",
              "      <td>NaN</td>\n",
              "      <td>1</td>\n",
              "      <td>1</td>\n",
              "      <td>2668</td>\n",
              "      <td>22.3583</td>\n",
              "      <td>NaN</td>\n",
              "      <td>C</td>\n",
              "    </tr>\n",
              "  </tbody>\n",
              "</table>\n",
              "</div>"
            ],
            "text/plain": [
              "     PassengerId  Pclass                          Name     Sex   Age  SibSp  \\\n",
              "413         1305       3            Spector, Mr. Woolf    male   NaN      0   \n",
              "414         1306       1  Oliva y Ocana, Dona. Fermina  female  39.0      0   \n",
              "415         1307       3  Saether, Mr. Simon Sivertsen    male  38.5      0   \n",
              "416         1308       3           Ware, Mr. Frederick    male   NaN      0   \n",
              "417         1309       3      Peter, Master. Michael J    male   NaN      1   \n",
              "\n",
              "     Parch              Ticket      Fare Cabin Embarked  \n",
              "413      0           A.5. 3236    8.0500   NaN        S  \n",
              "414      0            PC 17758  108.9000  C105        C  \n",
              "415      0  SOTON/O.Q. 3101262    7.2500   NaN        S  \n",
              "416      0              359309    8.0500   NaN        S  \n",
              "417      1                2668   22.3583   NaN        C  "
            ]
          },
          "execution_count": 8,
          "metadata": {},
          "output_type": "execute_result"
        }
      ],
      "source": [
        "print(test_titanic_df.shape) # (418, 11)\n",
        "test_titanic_df.tail()"
      ]
    },
    {
      "cell_type": "code",
      "execution_count": 9,
      "metadata": {},
      "outputs": [],
      "source": [
        "# concat the two df's into one big df, w passenger ID's from 1-1309\n",
        "# axis=0 so the concat happens along x-axis (horizontally), resulting\n",
        "# in new rows, NOT new columns (for new cols specify axis=1)\n",
        "titanic_df = pd.concat([train_titanic_df, test_titanic_df],axis=0)"
      ]
    },
    {
      "cell_type": "code",
      "execution_count": 10,
      "metadata": {},
      "outputs": [
        {
          "name": "stdout",
          "output_type": "stream",
          "text": [
            "(1309, 12)\n"
          ]
        }
      ],
      "source": [
        "print(titanic_df.shape) # (1309, 12)\n",
        "# titanic_df[888:894]\n",
        "# L@@K: The index starts over after 890 (due to concat)\n",
        "# FIX: reset the index"
      ]
    },
    {
      "cell_type": "code",
      "execution_count": 11,
      "metadata": {},
      "outputs": [],
      "source": [
        "# reset index, specify drop=True to prevent old wonky index from being preserved as a new column:\n",
        "titanic_df.reset_index(drop=True,inplace=True)"
      ]
    },
    {
      "cell_type": "code",
      "execution_count": 12,
      "metadata": {},
      "outputs": [
        {
          "data": {
            "text/html": [
              "<div>\n",
              "<style scoped>\n",
              "    .dataframe tbody tr th:only-of-type {\n",
              "        vertical-align: middle;\n",
              "    }\n",
              "\n",
              "    .dataframe tbody tr th {\n",
              "        vertical-align: top;\n",
              "    }\n",
              "\n",
              "    .dataframe thead th {\n",
              "        text-align: right;\n",
              "    }\n",
              "</style>\n",
              "<table border=\"1\" class=\"dataframe\">\n",
              "  <thead>\n",
              "    <tr style=\"text-align: right;\">\n",
              "      <th></th>\n",
              "      <th>PassengerId</th>\n",
              "      <th>Survived</th>\n",
              "      <th>Pclass</th>\n",
              "      <th>Name</th>\n",
              "      <th>Sex</th>\n",
              "      <th>Age</th>\n",
              "      <th>SibSp</th>\n",
              "      <th>Parch</th>\n",
              "      <th>Ticket</th>\n",
              "      <th>Fare</th>\n",
              "      <th>Cabin</th>\n",
              "      <th>Embarked</th>\n",
              "    </tr>\n",
              "  </thead>\n",
              "  <tbody>\n",
              "    <tr>\n",
              "      <th>1304</th>\n",
              "      <td>1305</td>\n",
              "      <td>NaN</td>\n",
              "      <td>3</td>\n",
              "      <td>Spector, Mr. Woolf</td>\n",
              "      <td>male</td>\n",
              "      <td>NaN</td>\n",
              "      <td>0</td>\n",
              "      <td>0</td>\n",
              "      <td>A.5. 3236</td>\n",
              "      <td>8.0500</td>\n",
              "      <td>NaN</td>\n",
              "      <td>S</td>\n",
              "    </tr>\n",
              "    <tr>\n",
              "      <th>1305</th>\n",
              "      <td>1306</td>\n",
              "      <td>NaN</td>\n",
              "      <td>1</td>\n",
              "      <td>Oliva y Ocana, Dona. Fermina</td>\n",
              "      <td>female</td>\n",
              "      <td>39.0</td>\n",
              "      <td>0</td>\n",
              "      <td>0</td>\n",
              "      <td>PC 17758</td>\n",
              "      <td>108.9000</td>\n",
              "      <td>C105</td>\n",
              "      <td>C</td>\n",
              "    </tr>\n",
              "    <tr>\n",
              "      <th>1306</th>\n",
              "      <td>1307</td>\n",
              "      <td>NaN</td>\n",
              "      <td>3</td>\n",
              "      <td>Saether, Mr. Simon Sivertsen</td>\n",
              "      <td>male</td>\n",
              "      <td>38.5</td>\n",
              "      <td>0</td>\n",
              "      <td>0</td>\n",
              "      <td>SOTON/O.Q. 3101262</td>\n",
              "      <td>7.2500</td>\n",
              "      <td>NaN</td>\n",
              "      <td>S</td>\n",
              "    </tr>\n",
              "    <tr>\n",
              "      <th>1307</th>\n",
              "      <td>1308</td>\n",
              "      <td>NaN</td>\n",
              "      <td>3</td>\n",
              "      <td>Ware, Mr. Frederick</td>\n",
              "      <td>male</td>\n",
              "      <td>NaN</td>\n",
              "      <td>0</td>\n",
              "      <td>0</td>\n",
              "      <td>359309</td>\n",
              "      <td>8.0500</td>\n",
              "      <td>NaN</td>\n",
              "      <td>S</td>\n",
              "    </tr>\n",
              "    <tr>\n",
              "      <th>1308</th>\n",
              "      <td>1309</td>\n",
              "      <td>NaN</td>\n",
              "      <td>3</td>\n",
              "      <td>Peter, Master. Michael J</td>\n",
              "      <td>male</td>\n",
              "      <td>NaN</td>\n",
              "      <td>1</td>\n",
              "      <td>1</td>\n",
              "      <td>2668</td>\n",
              "      <td>22.3583</td>\n",
              "      <td>NaN</td>\n",
              "      <td>C</td>\n",
              "    </tr>\n",
              "  </tbody>\n",
              "</table>\n",
              "</div>"
            ],
            "text/plain": [
              "      PassengerId  Survived  Pclass                          Name     Sex  \\\n",
              "1304         1305       NaN       3            Spector, Mr. Woolf    male   \n",
              "1305         1306       NaN       1  Oliva y Ocana, Dona. Fermina  female   \n",
              "1306         1307       NaN       3  Saether, Mr. Simon Sivertsen    male   \n",
              "1307         1308       NaN       3           Ware, Mr. Frederick    male   \n",
              "1308         1309       NaN       3      Peter, Master. Michael J    male   \n",
              "\n",
              "       Age  SibSp  Parch              Ticket      Fare Cabin Embarked  \n",
              "1304   NaN      0      0           A.5. 3236    8.0500   NaN        S  \n",
              "1305  39.0      0      0            PC 17758  108.9000  C105        C  \n",
              "1306  38.5      0      0  SOTON/O.Q. 3101262    7.2500   NaN        S  \n",
              "1307   NaN      0      0              359309    8.0500   NaN        S  \n",
              "1308   NaN      1      1                2668   22.3583   NaN        C  "
            ]
          },
          "execution_count": 12,
          "metadata": {},
          "output_type": "execute_result"
        }
      ],
      "source": [
        "titanic_df.tail()"
      ]
    },
    {
      "cell_type": "code",
      "execution_count": 13,
      "metadata": {},
      "outputs": [],
      "source": [
        "# instantiate LabelEncoder\n",
        "label_enc = LabelEncoder()"
      ]
    },
    {
      "cell_type": "code",
      "execution_count": 14,
      "metadata": {},
      "outputs": [],
      "source": [
        "# Convert 'Sex' from 'female', 'male' to 0, 1\n",
        "titanic_df['SexEnc'] = label_enc.fit_transform(titanic_df['Sex'])"
      ]
    },
    {
      "cell_type": "code",
      "execution_count": 15,
      "metadata": {},
      "outputs": [
        {
          "name": "stdout",
          "output_type": "stream",
          "text": [
            "(1309, 13)\n"
          ]
        },
        {
          "data": {
            "text/html": [
              "<div>\n",
              "<style scoped>\n",
              "    .dataframe tbody tr th:only-of-type {\n",
              "        vertical-align: middle;\n",
              "    }\n",
              "\n",
              "    .dataframe tbody tr th {\n",
              "        vertical-align: top;\n",
              "    }\n",
              "\n",
              "    .dataframe thead th {\n",
              "        text-align: right;\n",
              "    }\n",
              "</style>\n",
              "<table border=\"1\" class=\"dataframe\">\n",
              "  <thead>\n",
              "    <tr style=\"text-align: right;\">\n",
              "      <th></th>\n",
              "      <th>PassengerId</th>\n",
              "      <th>Survived</th>\n",
              "      <th>Pclass</th>\n",
              "      <th>Name</th>\n",
              "      <th>Sex</th>\n",
              "      <th>Age</th>\n",
              "      <th>SibSp</th>\n",
              "      <th>Parch</th>\n",
              "      <th>Ticket</th>\n",
              "      <th>Fare</th>\n",
              "      <th>Cabin</th>\n",
              "      <th>Embarked</th>\n",
              "      <th>SexEnc</th>\n",
              "    </tr>\n",
              "  </thead>\n",
              "  <tbody>\n",
              "    <tr>\n",
              "      <th>0</th>\n",
              "      <td>1</td>\n",
              "      <td>0.0</td>\n",
              "      <td>3</td>\n",
              "      <td>Braund, Mr. Owen Harris</td>\n",
              "      <td>male</td>\n",
              "      <td>22.0</td>\n",
              "      <td>1</td>\n",
              "      <td>0</td>\n",
              "      <td>A/5 21171</td>\n",
              "      <td>7.2500</td>\n",
              "      <td>NaN</td>\n",
              "      <td>S</td>\n",
              "      <td>1</td>\n",
              "    </tr>\n",
              "    <tr>\n",
              "      <th>1</th>\n",
              "      <td>2</td>\n",
              "      <td>1.0</td>\n",
              "      <td>1</td>\n",
              "      <td>Cumings, Mrs. John Bradley (Florence Briggs Th...</td>\n",
              "      <td>female</td>\n",
              "      <td>38.0</td>\n",
              "      <td>1</td>\n",
              "      <td>0</td>\n",
              "      <td>PC 17599</td>\n",
              "      <td>71.2833</td>\n",
              "      <td>C85</td>\n",
              "      <td>C</td>\n",
              "      <td>0</td>\n",
              "    </tr>\n",
              "    <tr>\n",
              "      <th>2</th>\n",
              "      <td>3</td>\n",
              "      <td>1.0</td>\n",
              "      <td>3</td>\n",
              "      <td>Heikkinen, Miss. Laina</td>\n",
              "      <td>female</td>\n",
              "      <td>26.0</td>\n",
              "      <td>0</td>\n",
              "      <td>0</td>\n",
              "      <td>STON/O2. 3101282</td>\n",
              "      <td>7.9250</td>\n",
              "      <td>NaN</td>\n",
              "      <td>S</td>\n",
              "      <td>0</td>\n",
              "    </tr>\n",
              "    <tr>\n",
              "      <th>3</th>\n",
              "      <td>4</td>\n",
              "      <td>1.0</td>\n",
              "      <td>1</td>\n",
              "      <td>Futrelle, Mrs. Jacques Heath (Lily May Peel)</td>\n",
              "      <td>female</td>\n",
              "      <td>35.0</td>\n",
              "      <td>1</td>\n",
              "      <td>0</td>\n",
              "      <td>113803</td>\n",
              "      <td>53.1000</td>\n",
              "      <td>C123</td>\n",
              "      <td>S</td>\n",
              "      <td>0</td>\n",
              "    </tr>\n",
              "    <tr>\n",
              "      <th>4</th>\n",
              "      <td>5</td>\n",
              "      <td>0.0</td>\n",
              "      <td>3</td>\n",
              "      <td>Allen, Mr. William Henry</td>\n",
              "      <td>male</td>\n",
              "      <td>35.0</td>\n",
              "      <td>0</td>\n",
              "      <td>0</td>\n",
              "      <td>373450</td>\n",
              "      <td>8.0500</td>\n",
              "      <td>NaN</td>\n",
              "      <td>S</td>\n",
              "      <td>1</td>\n",
              "    </tr>\n",
              "  </tbody>\n",
              "</table>\n",
              "</div>"
            ],
            "text/plain": [
              "   PassengerId  Survived  Pclass  \\\n",
              "0            1       0.0       3   \n",
              "1            2       1.0       1   \n",
              "2            3       1.0       3   \n",
              "3            4       1.0       1   \n",
              "4            5       0.0       3   \n",
              "\n",
              "                                                Name     Sex   Age  SibSp  \\\n",
              "0                            Braund, Mr. Owen Harris    male  22.0      1   \n",
              "1  Cumings, Mrs. John Bradley (Florence Briggs Th...  female  38.0      1   \n",
              "2                             Heikkinen, Miss. Laina  female  26.0      0   \n",
              "3       Futrelle, Mrs. Jacques Heath (Lily May Peel)  female  35.0      1   \n",
              "4                           Allen, Mr. William Henry    male  35.0      0   \n",
              "\n",
              "   Parch            Ticket     Fare Cabin Embarked  SexEnc  \n",
              "0      0         A/5 21171   7.2500   NaN        S       1  \n",
              "1      0          PC 17599  71.2833   C85        C       0  \n",
              "2      0  STON/O2. 3101282   7.9250   NaN        S       0  \n",
              "3      0            113803  53.1000  C123        S       0  \n",
              "4      0            373450   8.0500   NaN        S       1  "
            ]
          },
          "execution_count": 15,
          "metadata": {},
          "output_type": "execute_result"
        }
      ],
      "source": [
        "print(titanic_df.shape) # (1309, 13)\n",
        "titanic_df.head()"
      ]
    },
    {
      "cell_type": "code",
      "execution_count": 23,
      "metadata": {},
      "outputs": [],
      "source": [
        "# KISS: Make \"Big X\" simplest X feature / training set possible for Quik initial Kaggle submission\n",
        "X = titanic_df[['Pclass', 'SexEnc']]"
      ]
    },
    {
      "cell_type": "code",
      "execution_count": 24,
      "metadata": {},
      "outputs": [],
      "source": [
        "X_train = X[:len(train_titanic_df)]"
      ]
    },
    {
      "cell_type": "code",
      "execution_count": null,
      "metadata": {},
      "outputs": [],
      "source": [
        "print(X_train.shape)\n",
        "X_train.tail()"
      ]
    },
    {
      "cell_type": "code",
      "execution_count": 26,
      "metadata": {},
      "outputs": [],
      "source": [
        "X_test = X[len(train_titanic_df):]"
      ]
    },
    {
      "cell_type": "code",
      "execution_count": 27,
      "metadata": {},
      "outputs": [
        {
          "name": "stdout",
          "output_type": "stream",
          "text": [
            "(418, 2)\n"
          ]
        },
        {
          "data": {
            "text/html": [
              "<div>\n",
              "<style scoped>\n",
              "    .dataframe tbody tr th:only-of-type {\n",
              "        vertical-align: middle;\n",
              "    }\n",
              "\n",
              "    .dataframe tbody tr th {\n",
              "        vertical-align: top;\n",
              "    }\n",
              "\n",
              "    .dataframe thead th {\n",
              "        text-align: right;\n",
              "    }\n",
              "</style>\n",
              "<table border=\"1\" class=\"dataframe\">\n",
              "  <thead>\n",
              "    <tr style=\"text-align: right;\">\n",
              "      <th></th>\n",
              "      <th>Pclass</th>\n",
              "      <th>SexEnc</th>\n",
              "    </tr>\n",
              "  </thead>\n",
              "  <tbody>\n",
              "    <tr>\n",
              "      <th>891</th>\n",
              "      <td>3</td>\n",
              "      <td>1</td>\n",
              "    </tr>\n",
              "    <tr>\n",
              "      <th>892</th>\n",
              "      <td>3</td>\n",
              "      <td>0</td>\n",
              "    </tr>\n",
              "    <tr>\n",
              "      <th>893</th>\n",
              "      <td>2</td>\n",
              "      <td>1</td>\n",
              "    </tr>\n",
              "    <tr>\n",
              "      <th>894</th>\n",
              "      <td>3</td>\n",
              "      <td>1</td>\n",
              "    </tr>\n",
              "    <tr>\n",
              "      <th>895</th>\n",
              "      <td>3</td>\n",
              "      <td>0</td>\n",
              "    </tr>\n",
              "  </tbody>\n",
              "</table>\n",
              "</div>"
            ],
            "text/plain": [
              "     Pclass  SexEnc\n",
              "891       3       1\n",
              "892       3       0\n",
              "893       2       1\n",
              "894       3       1\n",
              "895       3       0"
            ]
          },
          "execution_count": 27,
          "metadata": {},
          "output_type": "execute_result"
        }
      ],
      "source": [
        "print(X_test.shape)\n",
        "X_test.head()"
      ]
    },
    {
      "cell_type": "code",
      "execution_count": 29,
      "metadata": {},
      "outputs": [],
      "source": [
        "# save Survived as the target \"little y_train\"\n",
        "# There is NO y_test (only Kaggle has those \"answers\")\n",
        "y_train = train_titanic_df['Survived']"
      ]
    },
    {
      "cell_type": "code",
      "execution_count": 31,
      "metadata": {},
      "outputs": [
        {
          "name": "stdout",
          "output_type": "stream",
          "text": [
            "(891,)\n"
          ]
        },
        {
          "data": {
            "text/plain": [
              "0    0\n",
              "1    1\n",
              "2    1\n",
              "3    1\n",
              "4    0\n",
              "Name: Survived, dtype: int64"
            ]
          },
          "execution_count": 31,
          "metadata": {},
          "output_type": "execute_result"
        }
      ],
      "source": [
        "print(y_train.shape) # (891,)\n",
        "y_train[:5]"
      ]
    },
    {
      "cell_type": "code",
      "execution_count": 32,
      "metadata": {},
      "outputs": [],
      "source": [
        "# Now that we have X and y, we can train a model BUT first instantiate:\n",
        "# instantiate RandomForestClassifier\n",
        "rand_forest_model = RandomForestClassifier(\n",
        "    n_estimators=10, criterion='entropy', random_state=42\n",
        ")"
      ]
    },
    {
      "cell_type": "code",
      "execution_count": 33,
      "metadata": {},
      "outputs": [
        {
          "data": {
            "text/html": [
              "<style>#sk-container-id-1 {color: black;background-color: white;}#sk-container-id-1 pre{padding: 0;}#sk-container-id-1 div.sk-toggleable {background-color: white;}#sk-container-id-1 label.sk-toggleable__label {cursor: pointer;display: block;width: 100%;margin-bottom: 0;padding: 0.3em;box-sizing: border-box;text-align: center;}#sk-container-id-1 label.sk-toggleable__label-arrow:before {content: \"▸\";float: left;margin-right: 0.25em;color: #696969;}#sk-container-id-1 label.sk-toggleable__label-arrow:hover:before {color: black;}#sk-container-id-1 div.sk-estimator:hover label.sk-toggleable__label-arrow:before {color: black;}#sk-container-id-1 div.sk-toggleable__content {max-height: 0;max-width: 0;overflow: hidden;text-align: left;background-color: #f0f8ff;}#sk-container-id-1 div.sk-toggleable__content pre {margin: 0.2em;color: black;border-radius: 0.25em;background-color: #f0f8ff;}#sk-container-id-1 input.sk-toggleable__control:checked~div.sk-toggleable__content {max-height: 200px;max-width: 100%;overflow: auto;}#sk-container-id-1 input.sk-toggleable__control:checked~label.sk-toggleable__label-arrow:before {content: \"▾\";}#sk-container-id-1 div.sk-estimator input.sk-toggleable__control:checked~label.sk-toggleable__label {background-color: #d4ebff;}#sk-container-id-1 div.sk-label input.sk-toggleable__control:checked~label.sk-toggleable__label {background-color: #d4ebff;}#sk-container-id-1 input.sk-hidden--visually {border: 0;clip: rect(1px 1px 1px 1px);clip: rect(1px, 1px, 1px, 1px);height: 1px;margin: -1px;overflow: hidden;padding: 0;position: absolute;width: 1px;}#sk-container-id-1 div.sk-estimator {font-family: monospace;background-color: #f0f8ff;border: 1px dotted black;border-radius: 0.25em;box-sizing: border-box;margin-bottom: 0.5em;}#sk-container-id-1 div.sk-estimator:hover {background-color: #d4ebff;}#sk-container-id-1 div.sk-parallel-item::after {content: \"\";width: 100%;border-bottom: 1px solid gray;flex-grow: 1;}#sk-container-id-1 div.sk-label:hover label.sk-toggleable__label {background-color: #d4ebff;}#sk-container-id-1 div.sk-serial::before {content: \"\";position: absolute;border-left: 1px solid gray;box-sizing: border-box;top: 0;bottom: 0;left: 50%;z-index: 0;}#sk-container-id-1 div.sk-serial {display: flex;flex-direction: column;align-items: center;background-color: white;padding-right: 0.2em;padding-left: 0.2em;position: relative;}#sk-container-id-1 div.sk-item {position: relative;z-index: 1;}#sk-container-id-1 div.sk-parallel {display: flex;align-items: stretch;justify-content: center;background-color: white;position: relative;}#sk-container-id-1 div.sk-item::before, #sk-container-id-1 div.sk-parallel-item::before {content: \"\";position: absolute;border-left: 1px solid gray;box-sizing: border-box;top: 0;bottom: 0;left: 50%;z-index: -1;}#sk-container-id-1 div.sk-parallel-item {display: flex;flex-direction: column;z-index: 1;position: relative;background-color: white;}#sk-container-id-1 div.sk-parallel-item:first-child::after {align-self: flex-end;width: 50%;}#sk-container-id-1 div.sk-parallel-item:last-child::after {align-self: flex-start;width: 50%;}#sk-container-id-1 div.sk-parallel-item:only-child::after {width: 0;}#sk-container-id-1 div.sk-dashed-wrapped {border: 1px dashed gray;margin: 0 0.4em 0.5em 0.4em;box-sizing: border-box;padding-bottom: 0.4em;background-color: white;}#sk-container-id-1 div.sk-label label {font-family: monospace;font-weight: bold;display: inline-block;line-height: 1.2em;}#sk-container-id-1 div.sk-label-container {text-align: center;}#sk-container-id-1 div.sk-container {/* jupyter's `normalize.less` sets `[hidden] { display: none; }` but bootstrap.min.css set `[hidden] { display: none !important; }` so we also need the `!important` here to be able to override the default hidden behavior on the sphinx rendered scikit-learn.org. See: https://github.com/scikit-learn/scikit-learn/issues/21755 */display: inline-block !important;position: relative;}#sk-container-id-1 div.sk-text-repr-fallback {display: none;}</style><div id=\"sk-container-id-1\" class=\"sk-top-container\"><div class=\"sk-text-repr-fallback\"><pre>RandomForestClassifier(criterion=&#x27;entropy&#x27;, n_estimators=10, random_state=42)</pre><b>In a Jupyter environment, please rerun this cell to show the HTML representation or trust the notebook. <br />On GitHub, the HTML representation is unable to render, please try loading this page with nbviewer.org.</b></div><div class=\"sk-container\" hidden><div class=\"sk-item\"><div class=\"sk-estimator sk-toggleable\"><input class=\"sk-toggleable__control sk-hidden--visually\" id=\"sk-estimator-id-1\" type=\"checkbox\" checked><label for=\"sk-estimator-id-1\" class=\"sk-toggleable__label sk-toggleable__label-arrow\">RandomForestClassifier</label><div class=\"sk-toggleable__content\"><pre>RandomForestClassifier(criterion=&#x27;entropy&#x27;, n_estimators=10, random_state=42)</pre></div></div></div></div></div>"
            ],
            "text/plain": [
              "RandomForestClassifier(criterion='entropy', n_estimators=10, random_state=42)"
            ]
          },
          "execution_count": 33,
          "metadata": {},
          "output_type": "execute_result"
        }
      ],
      "source": [
        "# train the RandomForestClassifier model on X_tran and y_train\n",
        "rand_forest_model.fit(X_train,y_train)"
      ]
    },
    {
      "cell_type": "code",
      "execution_count": 34,
      "metadata": {},
      "outputs": [],
      "source": [
        "# have the model predict survival of the test set (X_test) \n",
        "# AGAIN : WE DO NOT HAVE y_test, those being the answers (ONLY Kaggle has that)\n",
        "# Ergo: WE can only know how well our model did if we upload our predictions to Kaggle\n",
        "y_pred = rand_forest_model.predict(X_test)"
      ]
    },
    {
      "cell_type": "code",
      "execution_count": 35,
      "metadata": {},
      "outputs": [
        {
          "name": "stdout",
          "output_type": "stream",
          "text": [
            "(418,)\n",
            "[0 1 0 0 1 0 1 0 1 0]\n"
          ]
        }
      ],
      "source": [
        "# check the model's predictions (even though we cannot know how accurate they are):\n",
        "print(y_pred.shape) # (418,)\n",
        "print(y_pred[:10])"
      ]
    },
    {
      "cell_type": "code",
      "execution_count": 37,
      "metadata": {},
      "outputs": [],
      "source": [
        "# make the required Kaggle df: \n",
        "# MUST have exactly two cols: \"PassengerId\" and \"Survived\"\n",
        "# \"PassengerId\" value: consec ints from 892-1309 (we can generate this w range())\n",
        "# \"Survived\" value: our model's predictions as y_pred\n",
        "kiss_titanic_pred_df = pd.DataFrame()"
      ]
    },
    {
      "cell_type": "code",
      "execution_count": 38,
      "metadata": {},
      "outputs": [],
      "source": [
        "kiss_titanic_pred_df[\"PassengerId\"] = list(range(892,1310))\n",
        "kiss_titanic_pred_df[\"Survived\"] = y_pred"
      ]
    },
    {
      "cell_type": "code",
      "execution_count": 39,
      "metadata": {},
      "outputs": [
        {
          "name": "stdout",
          "output_type": "stream",
          "text": [
            "(418, 2)\n"
          ]
        },
        {
          "data": {
            "text/html": [
              "<div>\n",
              "<style scoped>\n",
              "    .dataframe tbody tr th:only-of-type {\n",
              "        vertical-align: middle;\n",
              "    }\n",
              "\n",
              "    .dataframe tbody tr th {\n",
              "        vertical-align: top;\n",
              "    }\n",
              "\n",
              "    .dataframe thead th {\n",
              "        text-align: right;\n",
              "    }\n",
              "</style>\n",
              "<table border=\"1\" class=\"dataframe\">\n",
              "  <thead>\n",
              "    <tr style=\"text-align: right;\">\n",
              "      <th></th>\n",
              "      <th>PassengerId</th>\n",
              "      <th>Survived</th>\n",
              "    </tr>\n",
              "  </thead>\n",
              "  <tbody>\n",
              "    <tr>\n",
              "      <th>0</th>\n",
              "      <td>892</td>\n",
              "      <td>0</td>\n",
              "    </tr>\n",
              "    <tr>\n",
              "      <th>1</th>\n",
              "      <td>893</td>\n",
              "      <td>1</td>\n",
              "    </tr>\n",
              "    <tr>\n",
              "      <th>2</th>\n",
              "      <td>894</td>\n",
              "      <td>0</td>\n",
              "    </tr>\n",
              "    <tr>\n",
              "      <th>3</th>\n",
              "      <td>895</td>\n",
              "      <td>0</td>\n",
              "    </tr>\n",
              "    <tr>\n",
              "      <th>4</th>\n",
              "      <td>896</td>\n",
              "      <td>1</td>\n",
              "    </tr>\n",
              "  </tbody>\n",
              "</table>\n",
              "</div>"
            ],
            "text/plain": [
              "   PassengerId  Survived\n",
              "0          892         0\n",
              "1          893         1\n",
              "2          894         0\n",
              "3          895         0\n",
              "4          896         1"
            ]
          },
          "execution_count": 39,
          "metadata": {},
          "output_type": "execute_result"
        }
      ],
      "source": [
        "print(kiss_titanic_pred_df.shape) # (418, 2)\n",
        "kiss_titanic_pred_df.head()"
      ]
    },
    {
      "cell_type": "code",
      "execution_count": null,
      "metadata": {},
      "outputs": [],
      "source": [
        "# split() passenger name to isolate the title:\n",
        "passenger_names = [ \"Boulos, Mr. Hanna\", \"Duff Gordon, Sir. Cosmo Edmund (Mr Morgan)\",\t\n",
        "    \"Jacobsohn, Mrs. Sidney Samuel (Amy Frances)\", \"Slabenoff, Mr. Petco\", \n",
        "    \"Olsen, Mr. Henry Margido\", \"Lang, Mr. Fang\", \"Daly, Mr. Eugene Patrick\", \n",
        "    \"Webber, Mr. James\", \"McGough, Mr. James Robert\", \n",
        "    \"Andersson, Mrs. Anders Johan (Alfrida Konstant)\", \"Jardin, Mr. Jose Neto\", \n",
        "    \"Laroche, Mrs. Joseph (Juliette Marie Louise)\", \"Shutes, Miss. Elizabeth W\" ]"
      ]
    },
    {
      "cell_type": "code",
      "execution_count": null,
      "metadata": {},
      "outputs": [
        {
          "name": "stdout",
          "output_type": "stream",
          "text": [
            "['Duff Gordon', ' Sir. Cosmo Edmund (Mr Morgan)']\n",
            " Sir. Cosmo Edmund (Mr Morgan)\n",
            "[' Sir', ' Cosmo Edmund (Mr Morgan)']\n",
            "Sir\n"
          ]
        }
      ],
      "source": [
        "# challenge: get the title as \"Mr\" from the name\n",
        "pass_name = \"Duff Gordon, Sir. Cosmo Edmund (Mr Morgan)\"\n",
        "# first, split the name on the comma:\n",
        "pass_name_list = pass_name.split(\",\")\n",
        "print(pass_name_list)\n",
        "# get the 2nd of the 2 items:\n",
        "pass_name_titled = pass_name_list[1]\n",
        "print(pass_name_titled)\n",
        "# split the titled name on the dot:\n",
        "pass_title_name_list = pass_name_titled.split(\".\")\n",
        "print(pass_title_name_list)\n",
        "# get the 1st item from list--this is the title result we want:\n",
        "# remove leading space\n",
        "pass_title = pass_title_name_list[0].replace(\" \",\"\")\n",
        "print(pass_title)"
      ]
    },
    {
      "cell_type": "code",
      "execution_count": null,
      "metadata": {},
      "outputs": [],
      "source": [
        "# process the list of passenger names on a loop that calls the extract_title_from_name() function\n",
        "def extract_title(pass_name):\n",
        "    # first, split the name on the comma:\n",
        "    pass_name_list = pass_name.split(\",\")\n",
        "    # print(pass_name_list)\n",
        "    # get the 2nd of the 2 items:\n",
        "    pass_name_titled = pass_name_list[1]\n",
        "    # print(pass_name_titled)\n",
        "    # split the titled name on the dot:\n",
        "    pass_title_name_list = pass_name_titled.split(\".\")\n",
        "    # print(pass_title_name_list)\n",
        "    # get the 1st item from list--this is the title result we want: replace leading space with empty string\n",
        "    pass_title = pass_title_name_list[0].replace(\" \",\"\")\n",
        "    # print(pass_title)\n",
        "    return pass_title"
      ]
    },
    {
      "cell_type": "code",
      "execution_count": null,
      "metadata": {},
      "outputs": [
        {
          "name": "stdout",
          "output_type": "stream",
          "text": [
            "['Mr', 'Sir', 'Mrs', 'Mr', 'Mr', 'Mr', 'Mr', 'Mr', 'Mr', 'Mrs', 'Mr', 'Mrs', 'Miss']\n"
          ]
        }
      ],
      "source": [
        "# run a loop that iterates the passenger_names list, passing each name to function. Save return value of function -- the title -- to a new list:\n",
        "passenger_titles = []\n",
        "for pass_name in passenger_names:\n",
        "    pass_title = extract_title(pass_name)\n",
        "    passenger_titles.append(pass_title)\n",
        "\n",
        "print(passenger_titles)"
      ]
    },
    {
      "cell_type": "code",
      "execution_count": null,
      "metadata": {},
      "outputs": [],
      "source": [
        "# make a new title column for the train_titanic.csv\n",
        "train_titanic_df['Title'] = train_titanic_df['Name'].apply(lambda name : extract_title(name))"
      ]
    },
    {
      "cell_type": "code",
      "execution_count": null,
      "metadata": {},
      "outputs": [
        {
          "data": {
            "text/html": [
              "<div>\n",
              "<style scoped>\n",
              "    .dataframe tbody tr th:only-of-type {\n",
              "        vertical-align: middle;\n",
              "    }\n",
              "\n",
              "    .dataframe tbody tr th {\n",
              "        vertical-align: top;\n",
              "    }\n",
              "\n",
              "    .dataframe thead th {\n",
              "        text-align: right;\n",
              "    }\n",
              "</style>\n",
              "<table border=\"1\" class=\"dataframe\">\n",
              "  <thead>\n",
              "    <tr style=\"text-align: right;\">\n",
              "      <th></th>\n",
              "      <th>PassengerId</th>\n",
              "      <th>Survived</th>\n",
              "      <th>Pclass</th>\n",
              "      <th>Name</th>\n",
              "      <th>Sex</th>\n",
              "      <th>Age</th>\n",
              "      <th>SibSp</th>\n",
              "      <th>Parch</th>\n",
              "      <th>Ticket</th>\n",
              "      <th>Fare</th>\n",
              "      <th>Cabin</th>\n",
              "      <th>Embarked</th>\n",
              "      <th>Title</th>\n",
              "    </tr>\n",
              "  </thead>\n",
              "  <tbody>\n",
              "    <tr>\n",
              "      <th>0</th>\n",
              "      <td>1</td>\n",
              "      <td>0</td>\n",
              "      <td>3</td>\n",
              "      <td>Braund, Mr. Owen Harris</td>\n",
              "      <td>male</td>\n",
              "      <td>22.0</td>\n",
              "      <td>1</td>\n",
              "      <td>0</td>\n",
              "      <td>A/5 21171</td>\n",
              "      <td>7.2500</td>\n",
              "      <td>NaN</td>\n",
              "      <td>S</td>\n",
              "      <td>Mr</td>\n",
              "    </tr>\n",
              "    <tr>\n",
              "      <th>1</th>\n",
              "      <td>2</td>\n",
              "      <td>1</td>\n",
              "      <td>1</td>\n",
              "      <td>Cumings, Mrs. John Bradley (Florence Briggs Th...</td>\n",
              "      <td>female</td>\n",
              "      <td>38.0</td>\n",
              "      <td>1</td>\n",
              "      <td>0</td>\n",
              "      <td>PC 17599</td>\n",
              "      <td>71.2833</td>\n",
              "      <td>C85</td>\n",
              "      <td>C</td>\n",
              "      <td>Mrs</td>\n",
              "    </tr>\n",
              "    <tr>\n",
              "      <th>2</th>\n",
              "      <td>3</td>\n",
              "      <td>1</td>\n",
              "      <td>3</td>\n",
              "      <td>Heikkinen, Miss. Laina</td>\n",
              "      <td>female</td>\n",
              "      <td>26.0</td>\n",
              "      <td>0</td>\n",
              "      <td>0</td>\n",
              "      <td>STON/O2. 3101282</td>\n",
              "      <td>7.9250</td>\n",
              "      <td>NaN</td>\n",
              "      <td>S</td>\n",
              "      <td>Miss</td>\n",
              "    </tr>\n",
              "    <tr>\n",
              "      <th>3</th>\n",
              "      <td>4</td>\n",
              "      <td>1</td>\n",
              "      <td>1</td>\n",
              "      <td>Futrelle, Mrs. Jacques Heath (Lily May Peel)</td>\n",
              "      <td>female</td>\n",
              "      <td>35.0</td>\n",
              "      <td>1</td>\n",
              "      <td>0</td>\n",
              "      <td>113803</td>\n",
              "      <td>53.1000</td>\n",
              "      <td>C123</td>\n",
              "      <td>S</td>\n",
              "      <td>Mrs</td>\n",
              "    </tr>\n",
              "    <tr>\n",
              "      <th>4</th>\n",
              "      <td>5</td>\n",
              "      <td>0</td>\n",
              "      <td>3</td>\n",
              "      <td>Allen, Mr. William Henry</td>\n",
              "      <td>male</td>\n",
              "      <td>35.0</td>\n",
              "      <td>0</td>\n",
              "      <td>0</td>\n",
              "      <td>373450</td>\n",
              "      <td>8.0500</td>\n",
              "      <td>NaN</td>\n",
              "      <td>S</td>\n",
              "      <td>Mr</td>\n",
              "    </tr>\n",
              "  </tbody>\n",
              "</table>\n",
              "</div>"
            ],
            "text/plain": [
              "   PassengerId  Survived  Pclass  \\\n",
              "0            1         0       3   \n",
              "1            2         1       1   \n",
              "2            3         1       3   \n",
              "3            4         1       1   \n",
              "4            5         0       3   \n",
              "\n",
              "                                                Name     Sex   Age  SibSp  \\\n",
              "0                            Braund, Mr. Owen Harris    male  22.0      1   \n",
              "1  Cumings, Mrs. John Bradley (Florence Briggs Th...  female  38.0      1   \n",
              "2                             Heikkinen, Miss. Laina  female  26.0      0   \n",
              "3       Futrelle, Mrs. Jacques Heath (Lily May Peel)  female  35.0      1   \n",
              "4                           Allen, Mr. William Henry    male  35.0      0   \n",
              "\n",
              "   Parch            Ticket     Fare Cabin Embarked Title  \n",
              "0      0         A/5 21171   7.2500   NaN        S    Mr  \n",
              "1      0          PC 17599  71.2833   C85        C   Mrs  \n",
              "2      0  STON/O2. 3101282   7.9250   NaN        S  Miss  \n",
              "3      0            113803  53.1000  C123        S   Mrs  \n",
              "4      0            373450   8.0500   NaN        S    Mr  "
            ]
          },
          "execution_count": 18,
          "metadata": {},
          "output_type": "execute_result"
        }
      ],
      "source": [
        "train_titanic_df.head()"
      ]
    },
    {
      "cell_type": "code",
      "execution_count": null,
      "metadata": {},
      "outputs": [],
      "source": [
        "# make Title col again BUT chain all title-extractor code into inline lambda:\n",
        "train_titanic_df['Title2'] = train_titanic_df['Name'].apply(lambda x : x.split(\",\")[1].split('.')[0].replace(\" \",\"\"))"
      ]
    },
    {
      "cell_type": "code",
      "execution_count": null,
      "metadata": {},
      "outputs": [
        {
          "name": "stdout",
          "output_type": "stream",
          "text": [
            "17\n",
            "['Mr', 'Mrs', 'Miss', 'Master', 'Don', 'Rev', 'Dr', 'Mme', 'Ms', 'Major', 'Lady', 'Sir', 'Mlle', 'Col', 'Capt', 'theCountess', 'Jonkheer']\n"
          ]
        }
      ],
      "source": [
        "# print unique values from Title col\n",
        "unique_titles = list(train_titanic_df[\"Title\"].unique())\n",
        "print(len(unique_titles))\n",
        "print(unique_titles)"
      ]
    },
    {
      "cell_type": "code",
      "execution_count": null,
      "metadata": {},
      "outputs": [
        {
          "data": {
            "text/plain": [
              "Mr             517\n",
              "Miss           182\n",
              "Mrs            125\n",
              "Master          40\n",
              "Dr               7\n",
              "Rev              6\n",
              "Mlle             2\n",
              "Major            2\n",
              "Col              2\n",
              "theCountess      1\n",
              "Capt             1\n",
              "Ms               1\n",
              "Sir              1\n",
              "Lady             1\n",
              "Mme              1\n",
              "Don              1\n",
              "Jonkheer         1\n",
              "Name: Title, dtype: int64"
            ]
          },
          "execution_count": 21,
          "metadata": {},
          "output_type": "execute_result"
        }
      ],
      "source": [
        "train_titanic_df[\"Title\"].value_counts()"
      ]
    },
    {
      "cell_type": "code",
      "execution_count": null,
      "metadata": {},
      "outputs": [],
      "source": [
        "# ['Mr', 'Mrs', 'Miss', 'Master', 'Don', 'Rev', 'Dr', 'Mme', 'Ms', 'Major', 'Lady', 'Sir', 'Mlle', 'Col', 'Capt', 'theCountess', 'Jonkheer']\n",
        "# consolidate rare titles into two labels: \"RareFemale\" and \"RareMale\"\n",
        "rare_male_titles = ['Don', 'Rev', 'Dr', 'Major', 'Sir', 'Col', 'Capt', 'Jonkheer']\n",
        "rare_female_titles = ['Lady', 'theCountess', 'Ms', 'Mme', 'Mlle']\n",
        "common_male_titles = ['Mr', 'Master']\n",
        "common_female_titles = ['Mrs', 'Miss']\n",
        "train_titanic_df['Title'] = train_titanic_df['Title'].apply(lambda x : \n",
        "    \"RareFemale\" if x in rare_female_titles \n",
        "    else \"RareMale\" if x in rare_male_titles \n",
        "    else \"CommonFemale\" if x in common_female_titles \n",
        "    else \"CommonMale\" if x in common_male_titles \n",
        "    else x)"
      ]
    },
    {
      "cell_type": "code",
      "execution_count": null,
      "metadata": {},
      "outputs": [
        {
          "name": "stdout",
          "output_type": "stream",
          "text": [
            "4\n",
            "['CommonMale', 'CommonFemale', 'RareMale', 'RareFemale']\n"
          ]
        }
      ],
      "source": [
        "# re-print unique values from Title col\n",
        "unique_titles = list(train_titanic_df[\"Title\"].unique())\n",
        "print(len(unique_titles))\n",
        "print(unique_titles)"
      ]
    },
    {
      "cell_type": "code",
      "execution_count": null,
      "metadata": {},
      "outputs": [
        {
          "data": {
            "text/plain": [
              "CommonMale      557\n",
              "CommonFemale    307\n",
              "RareMale         21\n",
              "RareFemale        6\n",
              "Name: Title, dtype: int64"
            ]
          },
          "execution_count": 24,
          "metadata": {},
          "output_type": "execute_result"
        }
      ],
      "source": [
        "train_titanic_df[\"Title\"].value_counts()"
      ]
    },
    {
      "cell_type": "code",
      "execution_count": null,
      "metadata": {},
      "outputs": [],
      "source": [
        "# check survival of 'Master'\n",
        "common_male_df = train_titanic_df[ train_titanic_df['Title']=='CommonMale' ]"
      ]
    },
    {
      "cell_type": "code",
      "execution_count": null,
      "metadata": {},
      "outputs": [
        {
          "name": "stdout",
          "output_type": "stream",
          "text": [
            "(557, 14)\n"
          ]
        }
      ],
      "source": [
        "print(common_male_df.shape)"
      ]
    },
    {
      "cell_type": "code",
      "execution_count": null,
      "metadata": {},
      "outputs": [
        {
          "data": {
            "text/plain": [
              "0    453\n",
              "1    104\n",
              "Name: Survived, dtype: int64"
            ]
          },
          "execution_count": 27,
          "metadata": {},
          "output_type": "execute_result"
        }
      ],
      "source": [
        "common_male_df['Survived'].value_counts()"
      ]
    },
    {
      "cell_type": "code",
      "execution_count": null,
      "metadata": {},
      "outputs": [],
      "source": [
        "# check survival of 'RareFemale:\n",
        "rare_female_df = train_titanic_df[ train_titanic_df['Title']=='RareFemale' ]"
      ]
    },
    {
      "cell_type": "code",
      "execution_count": null,
      "metadata": {},
      "outputs": [
        {
          "data": {
            "text/plain": [
              "1    6\n",
              "Name: Survived, dtype: int64"
            ]
          },
          "execution_count": 29,
          "metadata": {},
          "output_type": "execute_result"
        }
      ],
      "source": [
        "rare_female_df['Survived'].value_counts()"
      ]
    },
    {
      "cell_type": "code",
      "execution_count": null,
      "metadata": {},
      "outputs": [],
      "source": [
        "# check survival of 'RareMale' titles:\n",
        "rare_male_df = train_titanic_df[ train_titanic_df['Title']=='RareMale' ]"
      ]
    },
    {
      "cell_type": "code",
      "execution_count": null,
      "metadata": {},
      "outputs": [
        {
          "data": {
            "text/plain": [
              "0    15\n",
              "1     6\n",
              "Name: Survived, dtype: int64"
            ]
          },
          "execution_count": 31,
          "metadata": {},
          "output_type": "execute_result"
        }
      ],
      "source": [
        "rare_male_df['Survived'].value_counts()"
      ]
    },
    {
      "cell_type": "code",
      "execution_count": null,
      "metadata": {},
      "outputs": [],
      "source": [
        "# check survival of 'CommonMale' titles:\n",
        "common_male_df = train_titanic_df[ train_titanic_df['Title']=='CommonMale' ]"
      ]
    },
    {
      "cell_type": "code",
      "execution_count": null,
      "metadata": {},
      "outputs": [
        {
          "data": {
            "text/plain": [
              "0    453\n",
              "1    104\n",
              "Name: Survived, dtype: int64"
            ]
          },
          "execution_count": 33,
          "metadata": {},
          "output_type": "execute_result"
        }
      ],
      "source": [
        "common_male_df['Survived'].value_counts()"
      ]
    },
    {
      "cell_type": "code",
      "execution_count": null,
      "metadata": {},
      "outputs": [],
      "source": [
        "# check survival of 'CommonFemale' titles:\n",
        "common_female_df = train_titanic_df[ train_titanic_df['Title']=='CommonFemale' ]"
      ]
    },
    {
      "cell_type": "code",
      "execution_count": null,
      "metadata": {},
      "outputs": [
        {
          "data": {
            "text/plain": [
              "1    226\n",
              "0     81\n",
              "Name: Survived, dtype: int64"
            ]
          },
          "execution_count": 35,
          "metadata": {},
          "output_type": "execute_result"
        }
      ],
      "source": [
        "common_female_df['Survived'].value_counts()"
      ]
    },
    {
      "cell_type": "code",
      "execution_count": null,
      "metadata": {
        "colab": {
          "base_uri": "https://localhost:8080/"
        },
        "id": "rOIk5BU_SUpT",
        "outputId": "58e9fc05-8729-4339-9c97-aa781d789a02"
      },
      "outputs": [
        {
          "name": "stdout",
          "output_type": "stream",
          "text": [
            "seaborn columns:\n",
            "\n",
            "\n",
            "kaggle columns:\n",
            "\n"
          ]
        }
      ],
      "source": [
        "# print column names for both for comparing:\n",
        "print('seaborn columns:\\n')\n",
        "print('\\nkaggle columns:\\n')\n",
        "# 3 L@@K: the seaborn data has a lot of redundant columns\n",
        "# if we know gender and age, we can infer man/woman/child"
      ]
    },
    {
      "cell_type": "code",
      "execution_count": null,
      "metadata": {
        "colab": {
          "base_uri": "https://localhost:8080/"
        },
        "id": "NZYkBRv-S1XU",
        "outputId": "6ceb4538-90fc-4d52-acc8-47ac0a3bcb62"
      },
      "outputs": [
        {
          "name": "stdout",
          "output_type": "stream",
          "text": [
            "\n",
            "\n"
          ]
        }
      ],
      "source": [
        "# print a few cols unique values to see overlapping and redundancy:\n",
        "print()\n",
        "print()"
      ]
    },
    {
      "cell_type": "code",
      "execution_count": null,
      "metadata": {
        "id": "5g4f50LTkxMV"
      },
      "outputs": [],
      "source": [
        "# view statistical data for the numeric columns\n",
        "# ti"
      ]
    },
    {
      "cell_type": "code",
      "execution_count": null,
      "metadata": {
        "id": "N67RVY8Uybuq"
      },
      "outputs": [],
      "source": [
        "# tk_"
      ]
    },
    {
      "cell_type": "code",
      "execution_count": null,
      "metadata": {
        "id": "a780eJ7iF0h-"
      },
      "outputs": [],
      "source": [
        "# get info about the df:\n",
        "# tk_\n",
        "# L@@K: we are missing a lot of ages and almost all Cabin values are null\n",
        "# the move is to drop Cabin column altogether and drop missing Age rows\n",
        "# BUT definitely DO KEEP Age column"
      ]
    },
    {
      "cell_type": "code",
      "execution_count": null,
      "metadata": {
        "id": "wc4rLwioWGM8"
      },
      "outputs": [],
      "source": [
        "# drop the Cabin column:\n",
        "# tk_"
      ]
    },
    {
      "cell_type": "code",
      "execution_count": null,
      "metadata": {
        "colab": {
          "base_uri": "https://localhost:8080/"
        },
        "id": "b83fjoMjk7ds",
        "outputId": "645558b0-407f-4a4d-ee8e-477b8d1008ae"
      },
      "outputs": [
        {
          "name": "stdout",
          "output_type": "stream",
          "text": [
            "\n"
          ]
        }
      ],
      "source": [
        "print() # (891, 11)\n",
        "# tk_"
      ]
    },
    {
      "cell_type": "code",
      "execution_count": null,
      "metadata": {
        "id": "DZZXW4sv2lG_"
      },
      "outputs": [],
      "source": [
        "# make a new new column for titanic kaggle called \"who\"\n",
        "# set it equal to the \"who\" col from other titanic_df\n",
        "# this way, we can know if the person is a child\n",
        "# which is useful for filling missing ages w more accurate age\n",
        "# tk_"
      ]
    },
    {
      "cell_type": "code",
      "execution_count": null,
      "metadata": {
        "colab": {
          "base_uri": "https://localhost:8080/"
        },
        "id": "qXZD1e1C2-Ji",
        "outputId": "c2f88b8a-e713-4428-c7f5-22c6785ce6b9"
      },
      "outputs": [
        {
          "name": "stdout",
          "output_type": "stream",
          "text": [
            "\n"
          ]
        }
      ],
      "source": [
        "print()\n",
        "# tk_"
      ]
    },
    {
      "cell_type": "code",
      "execution_count": null,
      "metadata": {
        "id": "wxshPRvnfIAS"
      },
      "outputs": [],
      "source": [
        "# fill the 177 missing ages w mean age"
      ]
    },
    {
      "cell_type": "code",
      "execution_count": null,
      "metadata": {
        "id": "aBwyxSjGfjkc"
      },
      "outputs": [],
      "source": [
        "# calculate the mean age of the adults and the children\n",
        "# man_\n",
        "# man"
      ]
    },
    {
      "cell_type": "code",
      "execution_count": null,
      "metadata": {
        "id": "ntT3-xvE4YM9"
      },
      "outputs": [],
      "source": [
        "# mea\n",
        "# me"
      ]
    },
    {
      "cell_type": "code",
      "execution_count": null,
      "metadata": {
        "id": "9IyWkeZNjeP-"
      },
      "outputs": [],
      "source": [
        "# mea\n",
        "# mea"
      ]
    },
    {
      "cell_type": "code",
      "execution_count": null,
      "metadata": {
        "id": "AXj7v3RRj6XT"
      },
      "outputs": [],
      "source": [
        "# mea\n",
        "# mea"
      ]
    },
    {
      "cell_type": "markdown",
      "metadata": {
        "id": "DzYmoGXkkeQE"
      },
      "source": [
        "- **df['col'].fillna(value)** is for filling with same value for all null / missing values\n",
        "- if you need to fill based on a condition (man, woman, child), use **df['col'].apply(lambda)**"
      ]
    },
    {
      "cell_type": "code",
      "execution_count": null,
      "metadata": {
        "id": "RXkLQMT1lOZ8"
      },
      "outputs": [],
      "source": [
        "# fill the 2 missing Embarked with the most common value, which is \"S\"\n",
        "# add inplace=True if you don't want to save the changed df to itself\n",
        "# tk_"
      ]
    },
    {
      "cell_type": "code",
      "execution_count": null,
      "metadata": {
        "id": "oYdfZrnxlc2t"
      },
      "outputs": [],
      "source": [
        "# tk_"
      ]
    },
    {
      "cell_type": "code",
      "execution_count": null,
      "metadata": {
        "id": "F9owi6-hl_W3"
      },
      "outputs": [],
      "source": [
        "# fill the 177 missing ages with the correct mean age\n",
        "# call apply lambda on the WHOLE df, since we need access to 2 different columns\n",
        "# set the lamdba expression equal to row to capture the return value, row by row\n",
        "# tk"
      ]
    },
    {
      "cell_type": "markdown",
      "metadata": {
        "id": "Gg5rIzWTtpw_"
      },
      "source": [
        "#### **How the correct value is chosen from the dictionary passed to `map()`**\n",
        "\n",
        "The correct value is chosen from the dictionary passed to `map()` based on the value in the `who` column for each row. Here's how it works:\n",
        "\n",
        "1. **Mapping operation**: The `map()` function takes each value in the `who` column and looks it up in the dictionary `{'man': 33.2, 'woman': 32.0, 'child': 6.4}`.\n",
        "\n",
        "2. **Dictionary lookup**: For each row, the `map()` function uses the value in the `who` column (either `'man'`, `'woman'`, or `'child'`) as the key to look up the corresponding value (either `33.2`, `32.0`, or `6.4`) in the dictionary.\n",
        "\n",
        "3. **Assignment of values**: It then assigns that value (e.g., `33.2` for `'man'`) to the corresponding `Age` value, but only for rows where `Age` is `NaN` because we use `loc` to specifically target those rows.\n",
        "\n",
        "This allows for a very efficient and direct mapping between the categories in the `who` column and the desired `Age` values.\n"
      ]
    },
    {
      "cell_type": "code",
      "execution_count": null,
      "metadata": {
        "id": "ZUf4E0dbsqpa"
      },
      "outputs": [],
      "source": [
        "# shorter version: use loc to target only the rows where Age is NaN, and\n",
        "# then set the values based on the who column. Here's a more concise solution:\n",
        "# tk"
      ]
    },
    {
      "cell_type": "code",
      "execution_count": null,
      "metadata": {
        "id": "KHTxIXQqqcGl"
      },
      "outputs": [],
      "source": [
        "# tk"
      ]
    },
    {
      "cell_type": "code",
      "execution_count": null,
      "metadata": {
        "id": "X0sI7ShxqexB"
      },
      "outputs": [],
      "source": [
        "# tk_"
      ]
    },
    {
      "cell_type": "markdown",
      "metadata": {
        "id": "GT9-t0OmuoZO"
      },
      "source": [
        "- **df['col'].value_counts()** returns an itemized count for each discrete category in the col"
      ]
    },
    {
      "cell_type": "code",
      "execution_count": null,
      "metadata": {
        "id": "6ftwC3LslKXX"
      },
      "outputs": [],
      "source": [
        "# 'perished / survived' ratio of full 891 rows\n",
        "# 549 / 342 (61.61% of the 891 did not survive)\n",
        "# get the 'perished / survived' ratio (value_counts) for the 891 rows\n",
        "# tk_ # 59.55% of 891 did not survive"
      ]
    },
    {
      "cell_type": "code",
      "execution_count": null,
      "metadata": {
        "id": "9UKZtst5lR8i"
      },
      "outputs": [],
      "source": [
        "# get the breakdown of the 3 passenger classes\n",
        "# tk_\n",
        "# 'Pclass'"
      ]
    },
    {
      "cell_type": "code",
      "execution_count": null,
      "metadata": {
        "id": "9imS6m0vclqd"
      },
      "outputs": [],
      "source": [
        "# tk_"
      ]
    },
    {
      "cell_type": "markdown",
      "metadata": {
        "id": "KhvoEVoowNV4"
      },
      "source": [
        "**groupby()**\n",
        "- **group_count_df = df.groupby('col_1')[['col_2']].count()**\n",
        "- **group_mean_df = df.groupby('col_1')[['col_2']].mean()**\n",
        "- **group_mean_df** has index of 'col_1' where each category of the column is a row\n",
        "- **group_mean_df** has one col, 'col_2', the values of which is the count (or mean) for that row category\n"
      ]
    },
    {
      "cell_type": "code",
      "execution_count": null,
      "metadata": {
        "id": "9UuApJlst6Bt"
      },
      "outputs": [],
      "source": [
        "# get a break down of passengers by class:\n",
        "# 'Pclass''Survived'\n",
        "# p\n",
        "# L@@K: careful -- the result is not how many survived per class,\n",
        "# but how many passengers there were per class"
      ]
    },
    {
      "cell_type": "code",
      "execution_count": null,
      "metadata": {
        "id": "_B6C_lxkv42-"
      },
      "outputs": [],
      "source": [
        "# pc"
      ]
    },
    {
      "cell_type": "code",
      "execution_count": null,
      "metadata": {
        "id": "bGbjbonSuvOh"
      },
      "outputs": [],
      "source": [
        "# change the column with the value counts to 'count'\n",
        "# pc"
      ]
    },
    {
      "cell_type": "code",
      "execution_count": null,
      "metadata": {
        "id": "aZI04hp_iodr"
      },
      "outputs": [],
      "source": [
        "# pc"
      ]
    },
    {
      "cell_type": "code",
      "execution_count": null,
      "metadata": {
        "colab": {
          "base_uri": "https://localhost:8080/"
        },
        "id": "6FvejG5eqwWZ",
        "outputId": "1c8e0c2f-e885-4b72-b7e4-c1ebf2e5452d"
      },
      "outputs": [
        {
          "name": "stdout",
          "output_type": "stream",
          "text": [
            "\n"
          ]
        }
      ],
      "source": [
        "# do a groupby to get survival rates by sex\n",
        "# 'Sex' 'Survived'\n",
        "# su\n",
        "print()\n",
        "# su"
      ]
    },
    {
      "cell_type": "code",
      "execution_count": null,
      "metadata": {
        "colab": {
          "base_uri": "https://localhost:8080/"
        },
        "id": "sHS8Wc0pj6qW",
        "outputId": "6e588571-4bb4-41d1-929b-6704b3ec1fae"
      },
      "outputs": [
        {
          "name": "stdout",
          "output_type": "stream",
          "text": [
            "\n"
          ]
        }
      ],
      "source": [
        "# do a groupby to get survival totals by sex\n",
        "# co\n",
        "# cou\n",
        "print()\n",
        "# cou"
      ]
    },
    {
      "cell_type": "code",
      "execution_count": null,
      "metadata": {
        "id": "pRpWTCsK8z8-"
      },
      "outputs": [],
      "source": [
        "# but this is not showing survival, but rather the number of males vs females\n",
        "# the total is 891, which is the total number of observations (rows) in our df\n",
        "# 'sex'"
      ]
    },
    {
      "cell_type": "markdown",
      "metadata": {
        "id": "gaaYVYZB9k_Z"
      },
      "source": [
        "**double and triple groupby()**\n",
        "- pass a list of columns to groupby() method"
      ]
    },
    {
      "cell_type": "code",
      "execution_count": null,
      "metadata": {
        "id": "az_QhiQtrS_6"
      },
      "outputs": [],
      "source": [
        "# 'Sex' 'Pclass' 'Survived'\n",
        "# 'Survived' 'Count'\n",
        "# pc\n",
        "# p\n",
        "# pc"
      ]
    },
    {
      "cell_type": "code",
      "execution_count": null,
      "metadata": {
        "id": "IULLw3YvrfIm"
      },
      "outputs": [],
      "source": [
        "# 'Sex' 'Pclass' 'Embarked' 'Survived'\n",
        "# 'Survived' 'Count'\n",
        "# pc\n",
        "# pc\n",
        "# pc"
      ]
    },
    {
      "cell_type": "code",
      "execution_count": null,
      "metadata": {
        "id": "98qdntF6_cGd"
      },
      "outputs": [],
      "source": [
        "# if 'survived' is actually showing total number of passengers\n",
        "# how can we break down the triple group by survival?\n",
        "# add a 4th item to group by list: 'survived'\n",
        "# 'survived', 'sex', 'pclass', 'embarked'\n",
        "# su\n",
        "# L@@K: survived at left is 0 vs 1 -- the perished vs. survived breakdown we want to see"
      ]
    },
    {
      "cell_type": "code",
      "execution_count": null,
      "metadata": {
        "id": "kg4r8KbR0xYN"
      },
      "outputs": [],
      "source": [
        "# su"
      ]
    },
    {
      "cell_type": "code",
      "execution_count": null,
      "metadata": {
        "id": "tMTDvR_fmzn9"
      },
      "outputs": [],
      "source": [
        "# do a groupby to get survival totals by sex\n",
        "# s\n",
        "# sur\n",
        "# surv"
      ]
    },
    {
      "cell_type": "code",
      "execution_count": null,
      "metadata": {
        "colab": {
          "base_uri": "https://localhost:8080/"
        },
        "id": "AMVZjNnou9Wd",
        "outputId": "e20dc8f8-6fea-434a-8ddc-09e93eeae222"
      },
      "outputs": [
        {
          "name": "stdout",
          "output_type": "stream",
          "text": [
            "\n"
          ]
        }
      ],
      "source": [
        "# plot survived_counts_df by calling plot() on the survived_or_not_df dataframe\n",
        "# set plot equal to ax so that we can show bar values\n",
        "# ax\n",
        "\n",
        "# 'Titanic Passengers: Survived vs. Perished')\n",
        "# pl\n",
        "# 'Number of Passengers'\n",
        "# pl\n",
        "# CHALLENGE: Label the bars with their counts: hint requires that ax variable as\n",
        "# well as a for loop\n",
        "# p\n",
        "# plt'Perished','Survived'\n",
        "\n",
        "# for bar in ax.containers:\n",
        "#   ax.bar_label(bar, padding=5, color=\"coral\")\n",
        "# ax\n",
        "print()\n",
        "# p"
      ]
    },
    {
      "cell_type": "markdown",
      "metadata": {
        "id": "Fb7PYeEztZxo"
      },
      "source": [
        "**seaborn** provides another way to make bar charts, which are side-by-side numeric comparisons of a column's values:\n",
        "- **sns.countplot(x='col_name', data=df)**\n",
        "  - makes a bar chart comparing counts\n",
        "  - does not require a \"grouped df\" (like survived_counts_df) for it to work\n",
        "  - **x** is the 'col_name' ; category values appear below x-axis\n",
        "  - **data** is the dataframe"
      ]
    },
    {
      "cell_type": "code",
      "execution_count": null,
      "metadata": {
        "id": "_8OCbFUhlWVx"
      },
      "outputs": [],
      "source": [
        "# make a seaborn countplot showing survived vs perished\n",
        "# one bar per category of the 'survived' column;\n",
        "# bar height is the count of that category\n",
        "# ax\n",
        "\n",
        "# 'Titanic Passengers: Survived vs. Perished')\n",
        "# pl\n",
        "# 'Perished','Survived'\n",
        "# 'Number of Passengers'\n",
        "\n",
        "# show values above bars\n",
        "# ax\n",
        "\n",
        "# pl"
      ]
    },
    {
      "cell_type": "code",
      "execution_count": null,
      "metadata": {
        "id": "LFR7XWikmaYX"
      },
      "outputs": [],
      "source": [
        "# make a seaborn countplot counts of each passenger class\n",
        "# ax\n",
        "\n",
        "# 'Titanic Passengers by Class'\n",
        "# p\n",
        "# 'First','Second','Third'\n",
        "# 'Number of Passengers'\n",
        "\n",
        "# show values above bars\n",
        "# for bar in ax.containers:\n",
        "#   ax.bar_label(bar, padding=5, color=\"coral\")\n",
        "# a\n",
        "\n",
        "# pl"
      ]
    },
    {
      "cell_type": "markdown",
      "metadata": {
        "id": "DEo58Bkc00VJ"
      },
      "source": [
        "**making a bar chart with data from two columns at once**\n",
        "- **sns.countplot(x='col_1', hue='col_2', data=df)**\n",
        "  - makes a bar chart comparing counts of *two* columns\n",
        "  - **x** is the column 1; category values appear below x-axis\n",
        "  - **hue** is column 2\n",
        "  - **data** is the dataframe"
      ]
    },
    {
      "cell_type": "code",
      "execution_count": null,
      "metadata": {
        "id": "bKExlqGjgpsv"
      },
      "outputs": [],
      "source": [
        "# make a seaborn countplot counts of each passenger class\n",
        "# ax\n",
        "\n",
        "# 'Titanic Survival by Class'\n",
        "# pl\n",
        "# 'Perished','Survived'\n",
        "# 'Number of Passengers'\n",
        "# plt\n",
        "# show values above bars\n",
        "# f\n",
        "# ax.bar_label(ax.containers[0], padding=5, color=\"coral\")\n",
        "\n",
        "# pl"
      ]
    },
    {
      "cell_type": "code",
      "execution_count": null,
      "metadata": {
        "id": "WrVrm5Rj1yXL"
      },
      "outputs": [],
      "source": [
        "# divide survived vs perished by sex\n",
        "# 'Survived' 'Sex'\n",
        "# ax\n",
        "\n",
        "# 'Titanic Survival by Gender'\n",
        "# pl\n",
        "# 'Perished','Survived'\n",
        "# 'Number of Passengers'\n",
        "# pl\n",
        "# show values above bars\n",
        "# fo\n",
        "# ax.bar_label(ax.containers[0], padding=5, color=\"coral\")\n",
        "\n",
        "# pl\n",
        "# L@@K: More than half the passengers who embarked at Cherbourg survived\n",
        "# vs. 2/3 of the passengers who got on at Southampton perished"
      ]
    },
    {
      "cell_type": "markdown",
      "metadata": {
        "id": "P4AytZ1OEHDN"
      },
      "source": [
        "**subdivide Pclass by Sex**\n",
        "- create a new column that combines both Pclass and Sex\n",
        "- then use this new column as the hue.\n",
        "\n",
        "#### How to Arrange Bars in a Specific Order (1st Class Female/Male, 2nd Class Female/Male, 3rd Class Female/Male)\n",
        "\n",
        "To arrange the bars in a specific order in your seaborn `countplot`, follow these steps:\n",
        "\n",
        "#### Step 1: Set the desired order for the combined `Pclass_Sex` column\n",
        "Convert the `Pclass_Sex` column into a categorical type and specify the order of categories:\n",
        "\n",
        "```python\n",
        "order = ['1_female', '1_male', '2_female', '2_male', '3_female', '3_male']\n",
        "tk_df['Pclass_Sex'] = pd.Categorical(tk_df['Pclass_Sex'], categories=order, ordered=True)\n"
      ]
    },
    {
      "cell_type": "code",
      "execution_count": null,
      "metadata": {
        "id": "mewCUG52EDhj"
      },
      "outputs": [],
      "source": [
        "# make a new column that has as its value a concatenates string of Pclass and Sex\n",
        "# '1_female', '1_male', '2_female', '2_male', '3_female', '3_male'\n",
        "# 'Pclass_Sex'\n",
        "# 'Pclass_Sex'"
      ]
    },
    {
      "cell_type": "code",
      "execution_count": null,
      "metadata": {
        "id": "2qmzkedQEtnl"
      },
      "outputs": [],
      "source": [
        "# tk"
      ]
    },
    {
      "cell_type": "code",
      "execution_count": null,
      "metadata": {
        "id": "KROMHtwJ4Bqt"
      },
      "outputs": [],
      "source": [
        "# survived vs perished by pclass AND sex using the new combo col as the hue\n",
        "# 'Survived' 'Sex'\n",
        "# 'Survived', 'Pclass_Sex'\n",
        "\n",
        "# 'Titanic Survival by Class and Gender'\n",
        "# pl\n",
        "# 'Perished','Survived'\n",
        "# 'Number of Passengers'\n",
        "# pl\n",
        "# show values above bars\n",
        "# fo\n",
        "# ax.bar_label(ax.containers[0], padding=5, color=\"coral\")\n",
        "\n",
        "# pl\n",
        "# L@@K: More than half the passengers who embarked at Cherbourg survived\n",
        "# vs. 2/3 of the passengers who got on at Southampton perished"
      ]
    },
    {
      "cell_type": "code",
      "execution_count": null,
      "metadata": {
        "id": "I4RiwYOhGyQz"
      },
      "outputs": [],
      "source": [
        "# Challenge\" : plot survival by Embarked Port\n",
        "# hint: no combo new column necessary, just an x for the main col\n",
        "# and hue for the secondary column\n",
        "# label the bars w their values\n",
        "# divide survived vs perished by sex\n",
        "# 'Survived' 'Sex'\n",
        "# ax\n",
        "\n",
        "# 'Titanic Survival by Port of Embarcation'\n",
        "# pl\n",
        "# 'Perished','Survived'\n",
        "# 'Number of Passengers'\n",
        "# pl\n",
        "# show values above bars\n",
        "# fo\n",
        "  # ax\n",
        "\n",
        "# rename the legend from S,Q,C to Southampton, Cherbourg, Queenstown\n",
        "# make a dictonary with current legend labels as keys and new labels as values\n",
        "# embarked_dict = {'S':'Southampton', 'Q':'Queenstown', 'C':'Cherbourg'}\n",
        "# get handles and labels from the legend\n",
        "# ha\n",
        "# replace the labels\n",
        "\n",
        "# use list comprehension to loop the dict, key by key:\n",
        "# list comprehension provides a \"one-liner\" alternative to a loop:\n",
        "# new_labels = [ embarked_dict[key] for key in labels ]\n",
        "# new_labels = []\n",
        "# for key, val in embarked_dict.items():\n",
        "#   new_labels.append(val)\n",
        "\n",
        "# or if you just know the new label names:\n",
        "\n",
        "# update the legend\n",
        "# 'Southampton', 'Queenstown', 'Cherbourg'\n",
        "# \"Port of Embarkation\"\n",
        "\n",
        "# pl\n",
        "# L@@K: More than half the passengers who embarked at Cherbourg survived\n",
        "# vs. 2/3 of the passengers who got on at Southampton perished"
      ]
    },
    {
      "cell_type": "markdown",
      "metadata": {
        "id": "-m7Rxv0XLGji"
      },
      "source": []
    },
    {
      "cell_type": "code",
      "execution_count": null,
      "metadata": {
        "colab": {
          "base_uri": "https://localhost:8080/"
        },
        "id": "l0NkrhFXLas6",
        "outputId": "d8a433f0-0641-4a5f-9245-de1092d43794"
      },
      "outputs": [
        {
          "name": "stdout",
          "output_type": "stream",
          "text": [
            "for loop result:\n"
          ]
        }
      ],
      "source": [
        "# 1. Given a list of fruits, we want a new list of just the berries.\n",
        "# Without list comprehension you would write a for loop containing an if statement\n",
        "# that checked the current fruit to see if it contained the substring \"berry\":\n",
        "# \"apple\", \"banana\", \"blackberry\", \"blueberry\", \"cherry\", \"cranberry\", \"grape\",\n",
        "# \"kiwi\", \"lemon\", \"mango\", \"peach\", \"raspberry\", \"strawberry\", \"tangerine\", \"watermelon\"\n",
        "\n",
        "# 2. Declare a list for holding the result (the berries)\n",
        "# ber\n",
        "\n",
        "# 3. Loop the list and check the condition, appending only berries to the new list\n",
        "# for\n",
        "print('for loop result:')"
      ]
    },
    {
      "cell_type": "markdown",
      "metadata": {
        "id": "nxOVMhptNOPK"
      },
      "source": [
        "\n",
        "#### **map() vs filter**\n",
        "- like **map(func,list)**, **filter(func,list)** takes 2 arguments:\n",
        "- - a function and a list\n",
        "- you can call a function or just run an inline anonymous lambda function\n",
        "- each item is passes as the arg of the lambda function\n",
        "- **map()** must return a new list w the SAME NUMBER of items as in the original\n",
        "- **filter()** must return a new list w FEWER items than in the original\n",
        "- the return value of filter is a **boolean comparison**\n",
        "- only items that return **True** are accumulated in the the new list\n",
        "- filter returns a filter object that you unpack by passing all to **list()**\n",
        "\n",
        "**example: berries2 = list(filter(lambda fru : 'berry' in fru, fruits))**"
      ]
    },
    {
      "cell_type": "code",
      "execution_count": null,
      "metadata": {
        "colab": {
          "base_uri": "https://localhost:8080/",
          "height": 35
        },
        "id": "5-bWgxoXN63o",
        "outputId": "00e3e0b7-86b1-4206-a150-2593b1fc52ca"
      },
      "outputs": [
        {
          "data": {
            "text/plain": [
              "'berries2 via filter:'"
            ]
          },
          "execution_count": 81,
          "metadata": {},
          "output_type": "execute_result"
        }
      ],
      "source": [
        "# ber\n",
        "('berries2 via filter:')"
      ]
    },
    {
      "cell_type": "markdown",
      "metadata": {
        "id": "-fFj7lEyLOyb"
      },
      "source": [
        "### list comprehension\n",
        "- List comprehension offers a shorter way to make a new list from items in an existing list.\n",
        "- The syntax is: **new_list = [return_value for_loop if_condition]**"
      ]
    },
    {
      "cell_type": "code",
      "execution_count": null,
      "metadata": {
        "id": "vZR68MadOcFK"
      },
      "outputs": [],
      "source": [
        "# list comprehension way:\n",
        "# [ return_value for loop if condition ]\n",
        "# ber\n",
        "# 'berries3 via list comprehensio:'"
      ]
    },
    {
      "cell_type": "markdown",
      "metadata": {
        "id": "xacrivUYN8lp"
      },
      "source": []
    },
    {
      "cell_type": "markdown",
      "metadata": {
        "id": "Rz6MD4AyGcgn"
      },
      "source": [
        "**pivot tables: rows become columns, columns become rows**\n",
        "- **df.pivot_table(index='col_1', columns='col_2', values='col_3')**\n",
        "- index can have two or more levels by passing **index** a list\n",
        "- **df.pivot_table(index=['col_1','col_2'], columns='col_3', values='col_4')**"
      ]
    },
    {
      "cell_type": "code",
      "execution_count": null,
      "metadata": {
        "id": "fpuMXZo4rrw1"
      },
      "outputs": [],
      "source": [
        "# make a pivot_table() where sex categories ('male', 'female') are the index values\n",
        "# columns are passenger class string ('First', 'Second', 'Third') and values are 'survived'\n",
        "# 'Sex', 'Pclass', 'Survived'\n",
        "# \"First\",\"Second\",\"Third\"\n",
        "# format as pcts: multiply the entire df by 100 -- this is a matrix operation, cuz it's 2D\n",
        "# as opposed to a vector operation which is math done across all items in a column vector\n",
        "# piv\n",
        "# pi"
      ]
    },
    {
      "cell_type": "code",
      "execution_count": null,
      "metadata": {
        "id": "vyL3cfLIhsr4"
      },
      "outputs": [],
      "source": [
        "# Challenge: make a pivot table where:\n",
        "# row names are passenger classes (First, Second, Third -- NOT 1,2,3)\n",
        "# column names are sex\n",
        "# values are survival pcts\n",
        "# 'Survived'\n",
        "# \"First\",\"Second\",\"Third\"\n",
        "# pi\n",
        "# piv"
      ]
    },
    {
      "cell_type": "code",
      "execution_count": null,
      "metadata": {
        "id": "xPXeB6VksdSd"
      },
      "outputs": [],
      "source": [
        "# 'Embarked' 'Sex' 'Pclass' 'Survived'\n",
        "# 'Sex','Embarked', 'Pclass', 'Survived'\n",
        "# pivo\n",
        "# p\n",
        "# pivo"
      ]
    },
    {
      "cell_type": "markdown",
      "metadata": {
        "id": "AXSkAqhaE3C6"
      },
      "source": [
        "**label_encoder_fit_transform()** method takes a list of strings and returns corresponding numbers"
      ]
    },
    {
      "cell_type": "code",
      "execution_count": null,
      "metadata": {
        "id": "SUKNTPzbG005"
      },
      "outputs": [],
      "source": [
        "# test the label encoder on a simple dataset we make from scratch\n",
        "# 'aardvark', 'barracuda', 'crocodile', 'dolphin', 'elephant',\n",
        "#              'frog', 'giraffe', 'hawk', 'kangaroo', 'lizard', 'marlin',\n",
        "#              'narhwahl', 'ostrich', 'pirana', 'quail', 'raccoon', 'salamander',\n",
        "\n",
        "# 'mammal', 'fish', 'reptile', 'mammal', 'mammal', 'amphibian',\n",
        "#               'mammal', 'bird', 'mammal', 'reptile', 'fish', 'mammal',\n",
        "#               'bird', 'fish', 'bird', 'mammal', 'amphibian'\n"
      ]
    },
    {
      "cell_type": "code",
      "execution_count": null,
      "metadata": {
        "colab": {
          "base_uri": "https://localhost:8080/"
        },
        "id": "lJGcx89KJfcW",
        "outputId": "62f1a98a-aee1-48cd-97d7-8123db6ca5c6"
      },
      "outputs": [
        {
          "name": "stdout",
          "output_type": "stream",
          "text": [
            "\n"
          ]
        }
      ],
      "source": [
        "# make dataframe from animals_dict:\n",
        "# an\n",
        "print() # (17, 2)\n",
        "# a"
      ]
    },
    {
      "cell_type": "markdown",
      "metadata": {
        "id": "vxLJsLuSKxPZ"
      },
      "source": [
        "**list(df['col_name'].unique()** returns a list of unique column values\n"
      ]
    },
    {
      "cell_type": "code",
      "execution_count": null,
      "metadata": {
        "id": "8WOLoUC-kRUP"
      },
      "outputs": [],
      "source": [
        "# an\n",
        "# ani"
      ]
    },
    {
      "cell_type": "markdown",
      "metadata": {
        "id": "EsEAXAh-LBOU"
      },
      "source": [
        "**LabelEncoder.fit_transform(list_of_strings)** takes a list of strings and returns a corresponding list of numbers\n",
        "\n",
        "\n"
      ]
    },
    {
      "cell_type": "code",
      "execution_count": null,
      "metadata": {
        "id": "VrCusLiavVzT"
      },
      "outputs": [],
      "source": [
        "# instantiate a label encoder for converting string data to numeric:\n",
        "# l"
      ]
    },
    {
      "cell_type": "code",
      "execution_count": null,
      "metadata": {
        "id": "XjLPNngXGqqg"
      },
      "outputs": [],
      "source": [
        "# convert the animal classes (mammal, bird, fish, amphibian, reptile) to numbers 0-4\n",
        "# 'class num'\n",
        "# an"
      ]
    },
    {
      "cell_type": "code",
      "execution_count": null,
      "metadata": {
        "id": "dzqQ2WLyEyfI"
      },
      "outputs": [],
      "source": [
        "# an"
      ]
    },
    {
      "cell_type": "code",
      "execution_count": null,
      "metadata": {
        "id": "q1YpQH5vP-3W"
      },
      "outputs": [],
      "source": [
        "# L@@K: we have 2 cols with string values that we need to make numeric\n",
        "# sex has 2 categories (male, female), which need to be converted to 0,1\n",
        "# embarked has 3 categories (S,C,Q), which needs to become 0,1,2"
      ]
    },
    {
      "cell_type": "code",
      "execution_count": null,
      "metadata": {
        "id": "Kl3-7X7S_S1w"
      },
      "outputs": [],
      "source": [
        "# use label_encoder.fit_transform(list_of_string) to convert 'sex' and 'embarked' from strings to ints\n",
        "# tk\n",
        "# tk_"
      ]
    },
    {
      "cell_type": "code",
      "execution_count": null,
      "metadata": {
        "id": "gjMFeBlwRX8e"
      },
      "outputs": [],
      "source": [
        "# CHALLENGE: label encode 'Embarked' columns: change S C Q into 0,1,2\n",
        "# tk\n",
        "# tk_"
      ]
    },
    {
      "cell_type": "code",
      "execution_count": null,
      "metadata": {
        "id": "ikc9_Ifdwkez"
      },
      "outputs": [],
      "source": [
        "# SPLIT the DATA into TRAINING INPUTS and TRAINING LABELS\n",
        "# X is the training inputs, which is all rows and all cols EXCEPT for the survived column\n",
        "# the training inputs do not contain the survived column, because survived (0,1) is the answer\n",
        "# that we want the model to be able to learn to predict\n",
        "# X : titanic_kag_df[['']].va # X is all rows, all cols except 'survived'\n",
        "# y .il : .va # y is all rows, just first col, so 'survived' col\n",
        "# 'Pclass', 'Sex', 'Age'\n",
        "# 'Pclass','Embarked','Sex','Age','Fare','SibSp','Parch'"
      ]
    },
    {
      "cell_type": "code",
      "execution_count": null,
      "metadata": {
        "colab": {
          "base_uri": "https://localhost:8080/"
        },
        "id": "8S7imxL6oncl",
        "outputId": "a98f9ade-1f8f-4d3f-8c02-f54476f9c733"
      },
      "outputs": [
        {
          "name": "stdout",
          "output_type": "stream",
          "text": [
            "\n"
          ]
        }
      ],
      "source": [
        "print()\n",
        "# X_"
      ]
    },
    {
      "cell_type": "code",
      "execution_count": null,
      "metadata": {
        "colab": {
          "base_uri": "https://localhost:8080/"
        },
        "id": "09VoWOurv59w",
        "outputId": "d81e44f1-5704-48f4-c6dd-677058e86d69"
      },
      "outputs": [
        {
          "name": "stdout",
          "output_type": "stream",
          "text": [
            "\n"
          ]
        }
      ],
      "source": [
        "# 'Survived'\n",
        "print() # (891,)\n",
        "# y_"
      ]
    },
    {
      "cell_type": "markdown",
      "metadata": {
        "id": "wfITrFCPdgJe"
      },
      "source": [
        "**StandardScaler.fit_transform(col)** creates an \"even playing field\" for the data\n",
        "- it takes a column and recalculates all the values, such that the mean is 0  \n",
        "- 1 standard deviation from the mean is assigned a 1 (or -1)\n",
        "- works best for continuous values (age, fare) and NOT to be used on discrete values (pclass 1,2,3)\n",
        "- for discrete values, we can use one hot encoding instead, whereby each class/category gets its own col (1st, 2nd, 3rd cols from pclass)\n",
        "- bigger numbers (such as age compared to passenger class) are not judged to be more important\n",
        "- 68% of the data will be in the -1 to 1 range (plus or minus 1 standard deviation from the mean)\n",
        "- 95% of the data will be in the -2 to 2 range (plus or minus 1 standard deviation from the mean)\n",
        "\n"
      ]
    },
    {
      "cell_type": "code",
      "execution_count": null,
      "metadata": {
        "id": "L9q9t2Agx3vJ"
      },
      "outputs": [],
      "source": [
        "# instantiate the StandardScaler object:\n",
        "# sc"
      ]
    },
    {
      "cell_type": "code",
      "execution_count": null,
      "metadata": {
        "id": "tsbyfiI3pWce"
      },
      "outputs": [],
      "source": [
        "# X"
      ]
    },
    {
      "cell_type": "code",
      "execution_count": null,
      "metadata": {
        "id": "SP-QBGGvdTW2"
      },
      "outputs": [],
      "source": [
        "# The y data is already in the form of 0 to 1 only, so\n",
        "# we only need to scale that -- just scale the X (input) data\n",
        "# use .loc to specify all rows as : and target cols as list of col names\n",
        "# 'Age','Fare'"
      ]
    },
    {
      "cell_type": "code",
      "execution_count": null,
      "metadata": {
        "id": "So25ls29rYoc"
      },
      "outputs": [],
      "source": [
        "# X_"
      ]
    },
    {
      "cell_type": "code",
      "execution_count": null,
      "metadata": {
        "id": "-X50-O0HMiP4"
      },
      "outputs": [],
      "source": [
        "# 'images/random-forest-classifier-2.jpg'"
      ]
    },
    {
      "cell_type": "code",
      "execution_count": null,
      "metadata": {
        "id": "akxKBk7CONHE"
      },
      "outputs": [],
      "source": [
        "# 'images/random-forest-tree-w-text.jpg'"
      ]
    },
    {
      "cell_type": "markdown",
      "metadata": {
        "id": "BLA8zu1UtadI"
      },
      "source": [
        "- **n_estimators=10**\n",
        "- Definition: Specifies the number of trees in the forest (i.e., the number of decision trees).\n",
        "- Explanation:\n",
        "- In a Random Forest model, multiple decision trees are built, and their predictions are averaged (for regression) or voted on (for classification).\n",
        "- The more trees you have, the more stable and accurate the model can be, although it may take longer to train.\n",
        "- In this case: You are using 10 decision trees.\n",
        "- **criterion='entropy'**\n",
        "- Definition: This parameter specifies the function used to measure the quality of a split when constructing each tree.\n",
        "- Explanation:\n",
        "- The two common criteria are gini (Gini impurity) and entropy (information gain).\n",
        "entropy: Measures how much information is gained by making a split. It uses the concept of information theory to find splits that reduce uncertainty (entropy) in the target labels.\n",
        "gini: Measures the degree of \"impurity\" in the nodes and tends to be slightly faster.\n",
        "- In this case: The Random Forest uses entropy to evaluate how splits reduce the uncertainty of the class labels in the dataset.\n",
        "- **random_state=42**\n",
        "- Definition: This parameter sets the seed for the random number generator.\n",
        "Explanation:\n",
        "- Random Forests introduce randomness by selecting random subsets of data for each tree and selecting random subsets of features for splitting at each node.\n",
        "random_state ensures reproducibility by controlling this randomness. Using the same seed (e.g., 42) ensures the same results across different runs (all else being equal)."
      ]
    },
    {
      "cell_type": "code",
      "execution_count": null,
      "metadata": {
        "id": "QMBFMfwBkn_N"
      },
      "outputs": [],
      "source": [
        "# instantiate a RandomForestClassifier model:\n",
        "# fo"
      ]
    },
    {
      "cell_type": "markdown",
      "metadata": {
        "id": "VqvhhY0a7MA3"
      },
      "source": [
        "**model.fit(X_train,y_train)** trains the model on the features with labels (that is, it gets the answers along with the questions)"
      ]
    },
    {
      "cell_type": "code",
      "execution_count": null,
      "metadata": {
        "id": "ZYni8XZy7Fhr"
      },
      "outputs": [],
      "source": [
        "# fo"
      ]
    },
    {
      "cell_type": "markdown",
      "metadata": {
        "id": "BNKs6Ulf6QrU"
      },
      "source": [
        "**predictions_list = model.predict(X_test)** returns a list of model predictions"
      ]
    },
    {
      "cell_type": "code",
      "execution_count": null,
      "metadata": {
        "id": "i9HyUqv-mm0X"
      },
      "outputs": [],
      "source": [
        "# load the test set\n",
        "# tk"
      ]
    },
    {
      "cell_type": "code",
      "execution_count": null,
      "metadata": {
        "colab": {
          "base_uri": "https://localhost:8080/"
        },
        "id": "iK5xLvqZzEgG",
        "outputId": "bdbd59db-7b90-474f-9027-6eeaf7647374"
      },
      "outputs": [
        {
          "name": "stdout",
          "output_type": "stream",
          "text": [
            "\n"
          ]
        }
      ],
      "source": [
        "print()\n",
        "# t"
      ]
    },
    {
      "cell_type": "code",
      "execution_count": null,
      "metadata": {
        "id": "N4QLj20BzVs1"
      },
      "outputs": [],
      "source": [
        "# tk_"
      ]
    },
    {
      "cell_type": "code",
      "execution_count": null,
      "metadata": {
        "id": "rkiHo0Yp7fzh"
      },
      "outputs": [],
      "source": [
        "# there is no 'who' col of 'man', 'woman', 'child' to help fill missing ages\n",
        "# so just fill all age NA w 30\n",
        "# tk_t"
      ]
    },
    {
      "cell_type": "code",
      "execution_count": null,
      "metadata": {
        "id": "cNgJPZqo0sg6"
      },
      "outputs": [],
      "source": [
        "# tk_t"
      ]
    },
    {
      "cell_type": "code",
      "execution_count": null,
      "metadata": {
        "id": "Ilh7rMI005vj"
      },
      "outputs": [],
      "source": [
        "# get the avg fare\n",
        "# avg_\n",
        "# avg_"
      ]
    },
    {
      "cell_type": "code",
      "execution_count": null,
      "metadata": {
        "id": "Y8cjmxrB1IKU"
      },
      "outputs": [],
      "source": [
        "# fill that one and only missing Fare w mean:\n",
        "# tk_"
      ]
    },
    {
      "cell_type": "code",
      "execution_count": null,
      "metadata": {
        "id": "YcLh7LM31O6n"
      },
      "outputs": [],
      "source": [
        "# tk_"
      ]
    },
    {
      "cell_type": "code",
      "execution_count": null,
      "metadata": {
        "id": "HdHQjrKU1ZJU"
      },
      "outputs": [],
      "source": [
        "# 'Pclass','Embarked','Sex','Age','Fare','SibSp','Parch'"
      ]
    },
    {
      "cell_type": "code",
      "execution_count": null,
      "metadata": {
        "colab": {
          "base_uri": "https://localhost:8080/"
        },
        "id": "Q9QCBNkC1k-o",
        "outputId": "e2f429f1-6a91-447a-dc8a-708cdb593abd"
      },
      "outputs": [
        {
          "name": "stdout",
          "output_type": "stream",
          "text": [
            "\n"
          ]
        }
      ],
      "source": [
        "print()\n",
        "# X_"
      ]
    },
    {
      "cell_type": "code",
      "execution_count": null,
      "metadata": {
        "id": "q7B8r0Ii13Iy"
      },
      "outputs": [],
      "source": [
        "# Label Encode the Emparked and Sex cols -- strings become ints\n",
        "# 'Embarked'"
      ]
    },
    {
      "cell_type": "code",
      "execution_count": null,
      "metadata": {
        "id": "rLGfYCiv2qZF"
      },
      "outputs": [],
      "source": [
        "# X_t"
      ]
    },
    {
      "cell_type": "code",
      "execution_count": null,
      "metadata": {
        "id": "7bZdpuEpuMon"
      },
      "outputs": [],
      "source": [
        "# X_t"
      ]
    },
    {
      "cell_type": "code",
      "execution_count": null,
      "metadata": {
        "id": "hrlZ1JCrudfR"
      },
      "outputs": [],
      "source": [
        "# standard scaler the continuous values (non-categorical)\n",
        "# 'Age','Fare'"
      ]
    },
    {
      "cell_type": "code",
      "execution_count": null,
      "metadata": {
        "id": "drXVOuPn3uIZ"
      },
      "outputs": [],
      "source": [
        "# X"
      ]
    },
    {
      "cell_type": "markdown",
      "metadata": {
        "id": "wG4Sg544WBM0"
      },
      "source": [
        "**testing our model on the test.csv from kaggle**"
      ]
    },
    {
      "cell_type": "code",
      "execution_count": null,
      "metadata": {
        "id": "YwwpyhapytVu"
      },
      "outputs": [],
      "source": [
        "# have the new model predict survival on the kaggle 418 row test set\n",
        "# sur"
      ]
    },
    {
      "cell_type": "markdown",
      "metadata": {
        "id": "AKQAE3I76xYD"
      },
      "source": [
        "**imaginary passenger check**"
      ]
    },
    {
      "cell_type": "code",
      "execution_count": null,
      "metadata": {
        "id": "Vz9201lI74om"
      },
      "outputs": [],
      "source": [
        "# imaginary passenger check\n",
        "# the list must have all 7 expected \"independent variables\" in correct order\n",
        "# Pclass\tSex\tAge\tSibSp\tParch\tFare\tEmbarked\n",
        "# ['male' 'female'] = [1 0]\n",
        "# ['S' 'C' 'Q'] = [2 0 1]\n",
        "\n",
        "# inputs have to be a 2D matrix, so double wrap the list:\n",
        "# 3\t1\t1\t0.339424\t-0.498407\t0\t0\n",
        "# sec [2,\t0, 20, 0,\t0,\t13.5,\t0]\n",
        "# thi [3,\t1, 25, 0,\t0,\t9.5,\t2]\n",
        "# fir [1,\t0, -0.3, 1,\t0,\t0.8,\t1]\n",
        "# [1,\t0, -0.3, 1,\t0,\t0.8,\t1],\n",
        "#                                     [3,\t1,  -0.3, 1,\t0,\t-0.5,\t2],\n",
        "#                                    [3,\t1,  -0.3, 1,\t0,\t-0.5,\t2],\n",
        "#                                    [2,\t1,  -0.3, 1,\t0,\t0.25,\t1]\n",
        "# ima"
      ]
    },
    {
      "cell_type": "code",
      "execution_count": null,
      "metadata": {
        "id": "elyqGDvO5yEl"
      },
      "outputs": [],
      "source": [
        "# ima"
      ]
    },
    {
      "cell_type": "code",
      "execution_count": null,
      "metadata": {
        "id": "EmYAkcnBUheK"
      },
      "outputs": [],
      "source": [
        "# imag"
      ]
    },
    {
      "cell_type": "markdown",
      "metadata": {
        "id": "rvFg70eoMAPT"
      },
      "source": [
        "**Kaggle Titanic Survival Prediction Submission File Format:**.\n",
        "\n",
        "- You should submit a csv file with exactly 418 entries plus a header row.\n",
        "- Your submission will show an error if you have extra columns (beyond PassengerId and Survived) or rows.\n",
        "\n",
        "- The file should have exactly 2 columns:\n",
        "\n",
        "  - **PassengerId** (sorted in any order)\n",
        "  - **Survived** (contains your binary predictions: 1 for survived, 0 for deceased)"
      ]
    },
    {
      "cell_type": "code",
      "execution_count": null,
      "metadata": {
        "id": "voK-tuOaNVM7"
      },
      "outputs": [],
      "source": [
        "# make a df for our predictions to submit to kaggle\n",
        "# kaggle requires a csv of 2 cols: PassengerId and Survived\n",
        "# my_ti\n",
        "# 'PassengerId'\n",
        "# 'Survived'"
      ]
    },
    {
      "cell_type": "code",
      "execution_count": null,
      "metadata": {
        "colab": {
          "base_uri": "https://localhost:8080/"
        },
        "id": "JcrziopgXzB1",
        "outputId": "5d1449f7-0d87-4ec5-dc24-57f8aec0f6e6"
      },
      "outputs": [
        {
          "name": "stdout",
          "output_type": "stream",
          "text": [
            "\n"
          ]
        }
      ],
      "source": [
        "print()\n",
        "# my"
      ]
    },
    {
      "cell_type": "markdown",
      "metadata": {
        "id": "QhEXFHxmkSVw"
      },
      "source": [
        "**saving a dataframe to csv**\n",
        "- **df.to_csv(file_path/file_name, encoding='utf-8', index=False)**\n",
        "- saves df as file_name to file_path\n",
        "- encoding **encoding='utf-8'** just means normal English letters\n",
        "- **index=False** means do not make a column for the index"
      ]
    },
    {
      "cell_type": "code",
      "execution_count": null,
      "metadata": {
        "id": "rr6rj33cCPwf"
      },
      "outputs": [],
      "source": [
        "# save dataframe as csv\n",
        "# index=False prevents the index, which are ints from 0-417 from becoming a 3rd col\n",
        "# my_"
      ]
    },
    {
      "cell_type": "code",
      "execution_count": null,
      "metadata": {
        "colab": {
          "base_uri": "https://localhost:8080/"
        },
        "id": "qi_w2i4jl0h-",
        "outputId": "376d21c6-e8a7-447d-8667-9d8b7dc318cb"
      },
      "outputs": [
        {
          "name": "stdout",
          "output_type": "stream",
          "text": [
            "\n"
          ]
        }
      ],
      "source": [
        "# load the csv to make sure it worked as expected\n",
        "# my_\n",
        "print() # (418, 3) oops -- we got an extra column\n",
        "# my_\n",
        "# kag_\n",
        "# L@@K: we have an unwanted \"Unnamed: 0\" column of the old index values"
      ]
    },
    {
      "cell_type": "markdown",
      "metadata": {
        "id": "za4cVEcPRucc"
      },
      "source": [
        "- it's all good to go -- time to submit the csv file to kaggle\n",
        "- download the csv file and upload it to kaggle at\n",
        "\n",
        " **https://www.kaggle.com/competitions/titanic**"
      ]
    }
  ],
  "metadata": {
    "colab": {
      "provenance": []
    },
    "kernelspec": {
      "display_name": "base",
      "language": "python",
      "name": "python3"
    },
    "language_info": {
      "codemirror_mode": {
        "name": "ipython",
        "version": 3
      },
      "file_extension": ".py",
      "mimetype": "text/x-python",
      "name": "python",
      "nbconvert_exporter": "python",
      "pygments_lexer": "ipython3",
      "version": "3.10.9"
    }
  },
  "nbformat": 4,
  "nbformat_minor": 0
}
