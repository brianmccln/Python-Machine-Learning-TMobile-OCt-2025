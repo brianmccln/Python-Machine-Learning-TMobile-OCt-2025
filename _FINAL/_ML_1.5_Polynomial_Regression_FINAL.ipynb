{
 "cells": [
  {
   "cell_type": "markdown",
   "metadata": {
    "id": "UTtghme-Sx7U"
   },
   "source": [
    "- **linear regression** refers to plotting / predicting with a straight regression line\n",
    "- **m,b = np.polyfit(x,y,1)** is used to get slope (m) and y-intercept (b)\n",
    "- m, b are used to calculate y in terms of x as **m*x+b**\n",
    "- **polynomial regression** refers to plotting / predicting with a curved regression line"
   ]
  },
  {
   "cell_type": "code",
   "execution_count": 15,
   "metadata": {
    "executionInfo": {
     "elapsed": 11,
     "status": "ok",
     "timestamp": 1754335344187,
     "user": {
      "displayName": "Brian McClain",
      "userId": "08063899147261234403"
     },
     "user_tz": 240
    },
    "id": "39H3tPkrQJzN"
   },
   "outputs": [],
   "source": [
    "# import libraries\n",
    "import numpy as np\n",
    "import pandas as pd\n",
    "import random\n",
    "import matplotlib.pyplot as plt\n",
    "from IPython.display import Image\n",
    "from scipy import stats"
   ]
  },
  {
   "cell_type": "code",
   "execution_count": null,
   "metadata": {
    "colab": {
     "base_uri": "https://localhost:8080/",
     "height": 447
    },
    "executionInfo": {
     "elapsed": 185,
     "status": "ok",
     "timestamp": 1754335773589,
     "user": {
      "displayName": "Brian McClain",
      "userId": "08063899147261234403"
     },
     "user_tz": 240
    },
    "id": "Ufjtye6-qu8l",
    "outputId": "40254b43-b028-4e7c-c15d-3f917bc9521e"
   },
   "outputs": [],
   "source": []
  },
  {
   "cell_type": "code",
   "execution_count": 16,
   "metadata": {},
   "outputs": [
    {
     "name": "stdout",
     "output_type": "stream",
     "text": [
      "x: [1, 2, 3, 4, 5, 6, 7, 8, 9, 10, 11, 12, 13, 14, 15, 16, 17, 18, 19, 20]\n",
      "m: 2.097744360902256\n",
      "b: 8.573684210526324\n",
      "Regression Line (Least Squared Distance)\n"
     ]
    },
    {
     "data": {
      "text/plain": [
       "Text(0, 0.5, 'Car Speed in MPH')"
      ]
     },
     "execution_count": 16,
     "metadata": {},
     "output_type": "execute_result"
    },
    {
     "data": {
      "image/png": "[encoded data removed]",
      "text/plain": [
       "<Figure size 640x480 with 1 Axes>"
      ]
     },
     "metadata": {},
     "output_type": "display_data"
    }
   ],
   "source": [
    "# regression is that line which minimizes the squares of the distances\n",
    "# from a set of dots on a scatterplot to the line\n",
    "\n",
    "# let's just cook up some of our own x, y data\n",
    "# challenge: make a list, x, of consecutive ints from 1-20\n",
    "x = list(range(1,21))\n",
    "print('x:',x) # [1, 2, 3, 4, 5, 6, 7, 8, 9, 10 ... 18, 19, 20]\n",
    "y = [12,14,17,13,20,23,15,28,26,29,37,32,36,38,50,33,40,46,50,53]\n",
    "# make a time series line chart (jaggy line moving up and to the right)\n",
    "# plt.plot(y)\n",
    "# make a scatterplot with x, y data, and make the dots hollow\n",
    "plt.scatter(x,y,s=5)\n",
    "\n",
    "# slope of a line: y = mx + b\n",
    "# x, y = the (x,y) point on the line\n",
    "# m = slope of the line\n",
    "# b = y-intercept (where the line crosses the y-axis)\n",
    "# obtain m and b (we only have x, y so far)\n",
    "# np.polyfit(x,y,1) returns m, b\n",
    "m, b = np.polyfit(x,y,1)\n",
    "print('m:',m)\n",
    "print('b:',b)\n",
    "# m # 1 is the number of slopes of the line\n",
    "# now that we have x, y m and b we can plot regression line\n",
    "# y = mx + b\n",
    "x_arr = np.array(x)\n",
    "plt.plot(x_arr, m * x_arr + b, color='red', ls='dashed', lw=0.75)\n",
    "\n",
    "print(\"Regression Line (Least Squared Distance)\")\n",
    "plt.title(\"Car Age vs. Speed at EZ-Pass Toll\")\n",
    "plt.xlabel('Car Age in Years')\n",
    "plt.ylabel('Car Speed in MPH')\n",
    "# # we need m for the slope of the reg line, b is y-intercept\n",
    "# # and we need b to know where the reg line cxs the y-axis\n"
   ]
  },
  {
   "cell_type": "markdown",
   "metadata": {
    "id": "W7OkTmavXxuR"
   },
   "source": [
    "**map(function, list)** as alternative to looping a list"
   ]
  },
  {
   "cell_type": "code",
   "execution_count": 52,
   "metadata": {},
   "outputs": [
    {
     "name": "stdout",
     "output_type": "stream",
     "text": [
      "1\n",
      "3\n",
      "10\n"
     ]
    }
   ],
   "source": [
    "# Scrabble word score checker challenge:\n",
    "scrabble_values = {\n",
    "    \"A\": 1, \"B\": 3, \"C\": 3, \"D\": 2, \"E\": 1,\n",
    "    \"F\": 4, \"G\": 2, \"H\": 4, \"I\": 1, \"J\": 8,\n",
    "    \"K\": 5, \"L\": 1, \"M\": 3, \"N\": 1, \"O\": 1,\n",
    "    \"P\": 3, \"Q\": 10, \"R\": 1, \"S\": 1, \"T\": 1,\n",
    "    \"U\": 1, \"V\": 4, \"W\": 4, \"X\": 8, \"Y\": 4,\n",
    "    \"Z\": 10, \" \": 0, \"-\": 0\n",
    "}\n",
    "\n",
    "# print a few letter values:\n",
    "print(scrabble_values[\"A\"])\n",
    "print(scrabble_values[\"M\"])\n",
    "print(scrabble_values[\"Z\"])"
   ]
  },
  {
   "cell_type": "code",
   "execution_count": 51,
   "metadata": {},
   "outputs": [
    {
     "name": "stdout",
     "output_type": "stream",
     "text": [
      "Ford Mustang\n"
     ]
    }
   ],
   "source": [
    "# quick review of how dictionary look up works\n",
    "car = {\n",
    "    \"make\": \"Ford\",\n",
    "    \"model\": \"Mustang\",\n",
    "    \"mileage\": 45678,\n",
    "    \"year\": 2003,\n",
    "    \"for sale\": False\n",
    "}\n",
    "\n",
    "# get the make and model:\n",
    "print(car[\"make\"], car[\"model\"])"
   ]
  },
  {
   "cell_type": "code",
   "execution_count": 53,
   "metadata": {
    "id": "QRMW86f9Wfl-"
   },
   "outputs": [
    {
     "name": "stdout",
     "output_type": "stream",
     "text": [
      "Word: zebra - Scrabble Score: 16\n"
     ]
    }
   ],
   "source": [
    "# calculate scrabble score from user input word:\n",
    "# assume valid input (no gibberish, digits or special chars)\n",
    "word = input(\"Enter word, get Scrabble Score:\")\n",
    "score = 0 # initialize score\n",
    "# loop the word:\n",
    "for letr in word.upper():\n",
    "  score += scrabble_values[letr]\n",
    "  \n",
    "print(f\"Word: {word} - Scrabble Score: {score}\")"
   ]
  },
  {
   "cell_type": "code",
   "execution_count": 54,
   "metadata": {},
   "outputs": [],
   "source": [
    "# get Scrabble scores of a whole list of words:\n",
    "fruits = ['apple', 'apricot', 'banana', 'blueberry', 'grape', 'grapefruit', 'kiwi', 'lemon', 'lime', 'mango',\n",
    "          'orange', 'papaya', 'peach', 'pear', 'pineapple', 'plum', 'raspberry', 'strawberry', 'tangerine']"
   ]
  },
  {
   "cell_type": "code",
   "execution_count": 59,
   "metadata": {},
   "outputs": [],
   "source": [
    "import pprint as pp"
   ]
  },
  {
   "cell_type": "code",
   "execution_count": 61,
   "metadata": {},
   "outputs": [
    {
     "name": "stdout",
     "output_type": "stream",
     "text": [
      "{'apple': 9,\n",
      " 'apricot': 11,\n",
      " 'banana': 8,\n",
      " 'blueberry': 16,\n",
      " 'grape': 8,\n",
      " 'grapefruit': 16,\n",
      " 'kiwi': 11,\n",
      " 'lemon': 7,\n",
      " 'lime': 6,\n",
      " 'mango': 8,\n",
      " 'orange': 7,\n",
      " 'papaya': 13,\n",
      " 'peach': 12,\n",
      " 'pear': 6,\n",
      " 'pineapple': 15,\n",
      " 'plum': 8,\n",
      " 'raspberry': 16,\n",
      " 'strawberry': 18,\n",
      " 'tangerine': 10}\n"
     ]
    }
   ],
   "source": [
    "fruits_scrabble_scores_dict = {}\n",
    "for fru in fruits:\n",
    "    score = 0 # initialize score\n",
    "    # loop the word:\n",
    "    for letr in fru.upper():\n",
    "        score += scrabble_values[letr]\n",
    "    # print(f\"Word: {fru} - Scrabble Score: {score}\")\n",
    "    fruits_scrabble_scores_dict[fru] = score\n",
    "    \n",
    "pp.pprint(fruits_scrabble_scores_dict)\n",
    "    "
   ]
  },
  {
   "cell_type": "code",
   "execution_count": 62,
   "metadata": {
    "id": "MZiN6GYfPcTH"
   },
   "outputs": [],
   "source": [
    "# up a notch, have the loop call a function each time that does the operation:\n",
    "# this way is half-way to just using map\n",
    "def get_scrabble_score(word):\n",
    "  score = 0\n",
    "  for letr in word.upper():\n",
    "        score += scrabble_values[letr]\n",
    "  return score"
   ]
  },
  {
   "cell_type": "code",
   "execution_count": 63,
   "metadata": {},
   "outputs": [
    {
     "name": "stdout",
     "output_type": "stream",
     "text": [
      "apple_score: 9\n",
      "bunny_score: 10\n"
     ]
    }
   ],
   "source": [
    "# test the function on a few words:\n",
    "apple_score = get_scrabble_score(\"apple\")\n",
    "print('apple_score:',apple_score)\n",
    "bunny_score = get_scrabble_score(\"bunny\")\n",
    "print('bunny_score:',bunny_score)"
   ]
  },
  {
   "cell_type": "code",
   "execution_count": 71,
   "metadata": {},
   "outputs": [],
   "source": [
    "words_list_1 = ['car', 'cat', 'dog', 'truck', 'zebra', 'house']\n",
    "words_list_2 = ['iguana', 'igloo', 'jaguar', 'juniper', 'quail', 'quarz']\n",
    "words_list_3 = ['xylophone', 'zither', 'mongoose', 'gazelle', 'puma', 'topaz']"
   ]
  },
  {
   "cell_type": "code",
   "execution_count": 73,
   "metadata": {
    "id": "We1_63-IP8IS"
   },
   "outputs": [
    {
     "name": "stdout",
     "output_type": "stream",
     "text": [
      "{'gazelle': 17,\n",
      " 'mongoose': 11,\n",
      " 'puma': 8,\n",
      " 'topaz': 16,\n",
      " 'xylophone': 24,\n",
      " 'zither': 18}\n"
     ]
    }
   ],
   "source": [
    "# loop the fruits list again BUT this time, do not calc the score directly inside loop,\n",
    "# rather call the function and let it do it\n",
    "words_scrabble_scores_dict = {}\n",
    "for word in words_list_3:\n",
    "    score = get_scrabble_score(word)\n",
    "    words_scrabble_scores_dict[word] = score\n",
    "\n",
    "pp.pprint(words_scrabble_scores_dict)"
   ]
  },
  {
   "cell_type": "markdown",
   "metadata": {
    "id": "ZUsq1qIUR0c3"
   },
   "source": [
    "**new_list = list(map(function, list))** runs function on each item in list\n",
    "- each individual list item is passed to function as its argument\n",
    "- map returns a new list of the return values of the function"
   ]
  },
  {
   "cell_type": "code",
   "execution_count": null,
   "metadata": {},
   "outputs": [],
   "source": [
    "# define a function that takes in an int argument; if the int is even, return the square, else return the cube\n",
    "def sq_even_cube_odd(n):\n",
    "    if n % 2 == 0: # if even\n",
    "        return n**2\n",
    "    else:\n",
    "        return n**3"
   ]
  },
  {
   "cell_type": "code",
   "execution_count": 74,
   "metadata": {},
   "outputs": [
    {
     "name": "stdout",
     "output_type": "stream",
     "text": [
      "[1, 2, 3, 4, 5, 6, 7, 8, 9, 10, 11, 12, 13, 14, 15, 16, 17, 18, 19, 20]\n"
     ]
    }
   ],
   "source": [
    "# make a list of consec ints from 1-20:\n",
    "nums_list = list(range(1,21))\n",
    "print(nums_list)"
   ]
  },
  {
   "cell_type": "code",
   "execution_count": 82,
   "metadata": {},
   "outputs": [
    {
     "name": "stdout",
     "output_type": "stream",
     "text": [
      "[1, 4, 27, 16, 125, 36, 343, 64, 729, 100, 1331, 144, 2197, 196, 3375, 256, 4913, 324, 6859, 400]\n"
     ]
    }
   ],
   "source": [
    "# loop the nums_list, and call the func w each iteration, passing the current num to the func as its arg; save the result to a new list\n",
    "squares_and_cubes = []\n",
    "for n in nums_list:\n",
    "    result = sq_even_cube_odd(n)\n",
    "    squares_and_cubes.append(result)\n",
    "    \n",
    "print(squares_and_cubes)"
   ]
  },
  {
   "cell_type": "code",
   "execution_count": 80,
   "metadata": {
    "colab": {
     "base_uri": "https://localhost:8080/"
    },
    "id": "f8xlNMFeX2Ku",
    "outputId": "d0de0b0c-a136-48fb-cb0f-a3242350c302"
   },
   "outputs": [
    {
     "name": "stdout",
     "output_type": "stream",
     "text": [
      "[1, 4, 27, 16, 125, 36, 343, 64, 729, 100, 1331, 144, 2197, 196, 3375, 256, 4913, 324, 6859, 400]\n"
     ]
    }
   ],
   "source": [
    "# map version of the above: no loop\n",
    "sqs_cubes = list(map(sq_even_cube_odd, nums_list))\n",
    "print(sqs_cubes) # <map object at 0x7f836a1e69b0>\n"
   ]
  },
  {
   "cell_type": "markdown",
   "metadata": {
    "id": "2n_sk5roRVUp"
   },
   "source": [
    "- **lambda** in an anonymous function\n",
    "- it can be used inline as a function argument where a function arg is expected\n",
    "- **lambda x : x ** 2** returns the square of x\n",
    "- **lambda input : output** returns the square of x\n",
    "- **lambda argument : return_value** returns the square of x\n",
    "- **variable = lambda x : x ** 2** returns a function which you can store in a variable"
   ]
  },
  {
   "cell_type": "code",
   "execution_count": 86,
   "metadata": {
    "colab": {
     "base_uri": "https://localhost:8080/"
    },
    "id": "NaJQXAACRAZx",
    "outputId": "f22d3bea-47a3-4255-d5b5-3d98d202a92f"
   },
   "outputs": [
    {
     "name": "stdout",
     "output_type": "stream",
     "text": [
      "[1, 4, 27, 16, 125, 36, 343, 64, 729, 100]\n"
     ]
    }
   ],
   "source": [
    "# map version of the above: no loop, no external function call--use lambda instead; also generate the list to iterate right there inside map:\n",
    "# map(lambda, list)\n",
    "sqs_cubes = list(map(lambda n : n**2 if n%2==0 else n**3, list(range(1,11))))\n",
    "\n",
    "print(sqs_cubes) # <map object at 0x7f836a1e69b0>"
   ]
  },
  {
   "cell_type": "code",
   "execution_count": 87,
   "metadata": {},
   "outputs": [],
   "source": [
    "# scrabble score calculator as external function vs map(lambda,list)\n",
    "pets = ['bunny','cat','dog','ferret','gerbil']"
   ]
  },
  {
   "cell_type": "code",
   "execution_count": 88,
   "metadata": {},
   "outputs": [
    {
     "name": "stdout",
     "output_type": "stream",
     "text": [
      "[10, 5, 5, 9, 9]\n"
     ]
    }
   ],
   "source": [
    "# calc pets scrabble scores w map(func,list) \n",
    "petscores = list(map(get_scrabble_score,pets))\n",
    "print(petscores)"
   ]
  },
  {
   "cell_type": "markdown",
   "metadata": {},
   "source": [
    "#### **map(lambda, list) for calculating scrabble scores for list of words**\n",
    "- **for ch in w** → loop through each letter in the word\n",
    "\n",
    "- **ch.upper()** → make it uppercase\n",
    "\n",
    "- **scrabble_values[ch.upper()]** → get that letter’s score\n",
    "\n",
    "- **sum(...)** → add all scores for that word\n",
    "\n",
    "- **map(..., pets)** → do it for every word in the list\n",
    "\n",
    "- **list(...)** → turn the map result into a list"
   ]
  },
  {
   "cell_type": "code",
   "execution_count": 89,
   "metadata": {},
   "outputs": [
    {
     "name": "stdout",
     "output_type": "stream",
     "text": [
      "[10, 5, 5, 9, 9]\n"
     ]
    }
   ],
   "source": [
    "# calc pets scrabble scores w map(lambda,list) \n",
    "petscores = list(map(lambda wd : sum(scrabble_values[ch.upper()] for ch in wd), pets))\n",
    "print(petscores)"
   ]
  },
  {
   "cell_type": "markdown",
   "metadata": {
    "id": "TDeumMiRRGu-"
   },
   "source": [
    "**predicting speeds of cars through a toll based on age of car**\n",
    "- knowing the age, can you predict the speed, based on known data"
   ]
  },
  {
   "cell_type": "code",
   "execution_count": 25,
   "metadata": {
    "colab": {
     "base_uri": "https://localhost:8080/",
     "height": 482
    },
    "id": "2QfBXSsvFJHT",
    "outputId": "41f14286-3d1d-4991-91cf-243aeb5e18af"
   },
   "outputs": [
    {
     "name": "stdout",
     "output_type": "stream",
     "text": [
      "\n",
      "predicted speed or 15-year-old car:\n",
      "predicted speed or 1-year-old car:\n"
     ]
    }
   ],
   "source": [
    "# predictive model: given a car age, predict its speed\n",
    "\n",
    "# x = age of car;\n",
    "# [5,7,8,7,2,17,2,9,4,11,12,9,6]\n",
    "# y = speed of car passing through toll booth\n",
    "# 99,86,87,88,111,86,103,87,94,78,77,85,86\n",
    "\n",
    "# plt\n",
    "# m\n",
    "# with m, b we can now draw the best fit (regression) line which cuts through the dots\n",
    "# pl\n",
    "\n",
    "# returns 5 objects:\n",
    "# LinregressResult(slope=-1.7512877115526118, intercept=103.10596026490066,\n",
    "# rvalue=-0.758591524376155, pvalue=0.0026468739224561064,\n",
    "# stderr=0.453536157607742, intercept_stderr=3.9034928101545123)\n",
    "# m = slope of a line and b = y-intercept\n",
    "\n",
    "# function returns the y value\n",
    "# d\n",
    "  # re\n",
    "\n",
    "# map(function, list)\n",
    "# pr # calls a function on each item in a list, one by one\n",
    "print()\n",
    "\n",
    "# given a new age of a car as x, predict its speed:\n",
    "print(\"predicted speed or 15-year-old car:\")\n",
    "# plot the new 15 year old car's individual dot as a scatterplot of 1\n",
    "# pl\n",
    "print(\"predicted speed or 1-year-old car:\")\n",
    "# pl\n",
    "# pl"
   ]
  },
  {
   "cell_type": "code",
   "execution_count": 26,
   "metadata": {
    "id": "0Ueuhz_mW0Vd"
   },
   "outputs": [],
   "source": [
    "fruits = ['apple', 'apricot', 'banana', 'blueberry', 'grape', 'grapefruit', 'kiwi', 'lemon', 'lime', 'mango',\n",
    "          'orange', 'papaya', 'peach', 'pear', 'pineapple', 'plum', 'raspberry', 'strawberry', 'tangerine']\n",
    "\n",
    "# another map() example before moving on:\n",
    "# challenge: using the fruits list, make treats according to these rules:\n",
    "#            - if the fruit ends with a vowel, make a roll-up\n",
    "#            - elif the fruit is a berry make \"Boo-\" brand cereal (\"Boo-Strawberry\") capitalize the fruit\n",
    "#            - else make a popsicle\n",
    "#            don't just print the treats -- store them in a new list called treats"
   ]
  },
  {
   "cell_type": "code",
   "execution_count": 27,
   "metadata": {
    "id": "IOWoXvSQc3Fg"
   },
   "outputs": [],
   "source": [
    "# a.) just using a for loop -- no function -- make fruit treats\n",
    "# t\n",
    "# f\n",
    "  # i\n",
    "    # \" roll-up\"\n",
    "  # el\n",
    "    # \"Boo-\"\n",
    "  # e\n",
    "    # \" popsicle\"\n",
    "\n",
    "# pp"
   ]
  },
  {
   "cell_type": "code",
   "execution_count": 28,
   "metadata": {
    "id": "KdjaneOFcxWT"
   },
   "outputs": [],
   "source": [
    "# b.) same as above, except run the loop inside a function that you call\n",
    "#.            - function takes the fruits list as its argument\n",
    "# de\n",
    "  # my_\n",
    "  # i\n",
    "    # my\n",
    "  # el\n",
    "    # my_\n",
    "  # e\n",
    "    # my\n",
    "  # re"
   ]
  },
  {
   "cell_type": "code",
   "execution_count": 29,
   "metadata": {
    "id": "N2Zqq_HKccva"
   },
   "outputs": [],
   "source": [
    "# fr\n",
    "# fo\n",
    "  # tre\n",
    "  # fro\n",
    "\n",
    "# fro"
   ]
  },
  {
   "cell_type": "code",
   "execution_count": 30,
   "metadata": {
    "colab": {
     "base_uri": "https://localhost:8080/"
    },
    "id": "mDDuO2khczLR",
    "outputId": "26228b48-2376-4e99-f9a3-49feb90f0436"
   },
   "outputs": [
    {
     "name": "stdout",
     "output_type": "stream",
     "text": [
      "\n"
     ]
    }
   ],
   "source": [
    "# c.) make the treats using map() -- for this you still need a function but you don't write a loop\n",
    "#             - map(function, list) acts as a loop by passing each list item to function, one item at a time\n",
    "#.            - with map, your function only operates on ONE item -- not a list of items, cuz there's no loop\n",
    "# trea\n",
    "print()"
   ]
  },
  {
   "cell_type": "code",
   "execution_count": 31,
   "metadata": {
    "colab": {
     "base_uri": "https://localhost:8080/"
    },
    "id": "VEdtrLPic02k",
    "outputId": "ff67ca1d-28f3-4694-ae64-b8da7116021b"
   },
   "outputs": [],
   "source": [
    "# d.) BONUS: map() takes a function as its argument -- in the predict_speed example, that argument was a call\n",
    "#.    to a named, external function BUT you can pass map an anonymous lambda function -- no outside function needed\n",
    "# tre\n",
    "# pp"
   ]
  },
  {
   "cell_type": "code",
   "execution_count": 47,
   "metadata": {
    "colab": {
     "base_uri": "https://localhost:8080/",
     "height": 628
    },
    "executionInfo": {
     "elapsed": 207,
     "status": "ok",
     "timestamp": 1754337615528,
     "user": {
      "displayName": "Brian McClain",
      "userId": "08063899147261234403"
     },
     "user_tz": 240
    },
    "id": "B-COnKTtKkZp",
    "outputId": "1ac6b5b7-cebb-47ba-d290-4e4675cd5bf7"
   },
   "outputs": [
    {
     "name": "stdout",
     "output_type": "stream",
     "text": [
      "\n",
      "\n",
      "hour 0 (midnight to 12:59am) predicted speed in kmph: 114\n",
      "hour 0 predicted speed in kmph: 114\n",
      "hour 4 predicted speed in kmph: 71\n",
      "hour 11 predicted speed in kmph: 65\n",
      "hour 17 predicted speed in kmph: 89\n",
      "hour 20 predicted speed in kmph: 98\n",
      "hour 23 predicted speed in kmph: 98\n"
     ]
    },
    {
     "data": {
      "image/png": "[encoded data removed]",
      "text/plain": [
       "<Figure size 640x480 with 1 Axes>"
      ]
     },
     "metadata": {},
     "output_type": "display_data"
    }
   ],
   "source": [
    "# polynomial regression\n",
    "# x = hour of the day the car passes through an EZ-Pass\n",
    "x = [1,2,3,5,6,7,8,9,10,12,13,14,15,16,18,19,21,22]\n",
    "# y = EZ-Pass toll booth speed\n",
    "y = [100, 90, 80, 60, 60, 55, 60, 65, 70, 70, 75, 76, 78, 79, 90, 99, 99, 100]\n",
    "\n",
    "plt.scatter(x,y,s=10)\n",
    "plt.title('Avg Speed of Cars through EZ-Pass by Hour')\n",
    "plt.xlabel('Hour (0-23)')\n",
    "plt.ylabel('Speed (KMPH)')\n",
    "plt.ylim(40,130)\n",
    "\n",
    "# np.polyfit(x,y,num_of_slopes)\n",
    "# this returns a method to call later\n",
    "predict_polynom = np.poly1d(np.polyfit(x,y,3))\n",
    "print()\n",
    "\n",
    "# np.linspace(start-x, end-x, max-y)\n",
    "curve = np.linspace(0,23,100)\n",
    "print()\n",
    "\n",
    "# plot the curvy best fit line, using the polynom_predict function and the regression_line\n",
    "plt.plot(curve, predict_polynom(curve),color='coral')\n",
    "\n",
    "# predict values by passing them to the predict_polynom()\n",
    "\n",
    "hr0_speed = round(predict_polynom(0))\n",
    "print(\"hour 0 (midnight to 12:59am) predicted speed in kmph:\", hr0_speed)\n",
    "\n",
    "# plot the 0 hr prediction as (0,114) dot\n",
    "# plt.scatter(0,hr0_speed,marker=\"^\",color=\"#486\",s=100)\n",
    "\n",
    "# # label the new dot with its numeric value\n",
    "# plt.text(0,hr0_speed+3,str(hr0_speed),ha='center',color=\"#486\")\n",
    "\n",
    "# hr4_speed = round(predict_polynom(4))\n",
    "# print(\"hour 4 (4:00-4:59AM) predicted speed in kmph:\", hr4_speed)\n",
    "\n",
    "# plt.scatter(4,hr4_speed,marker=\"^\",color=\"#486\",s=100)\n",
    "\n",
    "# # label the new dot with its numeric value\n",
    "# plt.text(4,hr4_speed+3,str(hr4_speed),ha='center',color=\"#486\")\n",
    "\n",
    "# print(\"hour 11 (11:00-11:59AM) predicted speed in kmph:\",\n",
    "\n",
    "# print(\"hour 17 (5:00-5:59PM) predicted speed in kmph:\",\n",
    "\n",
    "# print(\"hour 20 (8:00-8:59PM) predicted speed in kmph:\",\n",
    "\n",
    "# print(\"hour 23 (11:00-11:59PM) predicted speed in kmph:\",\n",
    "\n",
    "# above predictions on a loop:\n",
    "# hrs_to_predict = [0,4,11,17,20,23]\n",
    "\n",
    "x_list = [1,2,3,5,6,7,8,9,10,12,13,14,15,16,18,19,21,22]\n",
    "\n",
    "# loop all nums from 0-23; if x_list does NOT contain current value, as n, predict speed for hour n; plot dot and label it\n",
    "for n in range(24): # loop 0-23\n",
    "    if n not in x_list: # true only for 0,4,11,17,20,23\n",
    "        pred_speed = round(predict_polynom(n))\n",
    "        print(f\"hour {n} predicted speed in kmph:\", pred_speed)\n",
    "        # plot the predicted speed dot:\n",
    "        plt.scatter(n,pred_speed,marker=\"^\",color=\"#448866\",s=100)\n",
    "        # label the new dot with its numeric value\n",
    "        plt.text(n,pred_speed+3,str(pred_speed),ha='center',color=\"#486\")\n",
    "\n",
    "plt.show()"
   ]
  }
 ],
 "metadata": {
  "colab": {
   "provenance": []
  },
  "kernelspec": {
   "display_name": "base",
   "language": "python",
   "name": "python3"
  },
  "language_info": {
   "codemirror_mode": {
    "name": "ipython",
    "version": 3
   },
   "file_extension": ".py",
   "mimetype": "text/x-python",
   "name": "python",
   "nbconvert_exporter": "python",
   "pygments_lexer": "ipython3",
   "version": "3.10.9"
  }
 },
 "nbformat": 4,
 "nbformat_minor": 0
}
